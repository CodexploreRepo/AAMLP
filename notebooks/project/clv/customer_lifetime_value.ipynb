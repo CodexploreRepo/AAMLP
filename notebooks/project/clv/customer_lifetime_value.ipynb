{
 "cells": [
  {
   "cell_type": "markdown",
   "metadata": {},
   "source": [
    "# Buy ‘Til You Die: Predict Customer Lifetime Value (CLV)\n",
    "- Goal: to predict the transaction frequency of customers and their churn risks.\n",
    "    - For example: A customer who used to purchase once every 20 days on average, but has remained inactive for 50 days, must be rated an increased churn risk. She may be on the brink of turning away from our business, towards a competitor’s product range. \n",
    "- **Buy ’Til You Die Models** (BTYD) : from the “birth” of a customer (when she places her first order with our business) to the day she “dies” (when she turns to a competitor and thus is dead to us, the enterprise she’s spurned).\n",
    "- In contractual settings, Customers sign term-limited contracts with internet providers, mobile phone networks, insurance companies, and subscription-based service providers. Enterprises in contractual settings can develop a much clearer view on customers that have a propensity to churn.\n",
    "    - Contractual churn problems, to which we can apply a battery of well-known models such as logistic regression, random forests, gradient boost approaches, and other classifiers.\n",
    "- In a non-contractual business environment, circumstances are more murky. \n",
    "    - Most classification models we typically apply to customer churn problems in contractual business settings are not applicable to non-contractual settings. Churn dates are not transparent.\n",
    "    - We need to analyze the purchase behavior of customers by making distributional assumptions. A probability model will also enable us to predict the purchase volume.\n",
    "- The model we are going to build will enable marketing teams to set the focus of their efforts on those customers for whom the model identifies a turning point.\n",
    "    - the Beta-Geometric/Negative Binomial (BG/NBD) model,\n",
    "    - combined with the Gamma-Gamma model for estimating the customer lifetime value.\n",
    "    - Model outputs:\n",
    "        - **CLV** denotes the customer lifetime value: in this case, the revenues over a chosen period of time, for instance 12 months.\n",
    "        - The four predict columns forecast the **number of purchase transactions** we can expect over the next 10, 30, 60, and 90 days from each customer.\n",
    "        - `prob_alive` estimates the customer’s probability of being alive. Its complement `(1 — p)` is equivalent to the customer’s **churn risk**: of turning away from our business and favoring a competitor.\n",
    "\n",
    "\n",
    "- Reference:\n",
    "    - [Buy ‘Til You Die: Predict Customer Lifetime Value in Python](https://towardsdatascience.com/buy-til-you-die-predict-customer-lifetime-value-in-python-9701bfd4ddc0)"
   ]
  },
  {
   "cell_type": "code",
   "execution_count": 228,
   "metadata": {},
   "outputs": [],
   "source": [
    "import pandas as pd\n",
    "import numpy as np\n",
    "import matplotlib.pyplot as plt\n",
    "import seaborn as sns\n",
    "\n",
    "sns.set_theme(rc={'image.cmap': 'coolwarm'})\n",
    "pd.options.display.float_format = '{:,.2f}'.format\n",
    "\n",
    "\n",
    "from lifetimes.utils import summary_data_from_transaction_data, calibration_and_holdout_data\n",
    "from lifetimes.plotting import (\n",
    "    plot_frequency_recency_matrix, \n",
    "    plot_probability_alive_matrix, \n",
    "    plot_period_transactions,\n",
    "    plot_calibration_purchases_vs_holdout_purchases,\n",
    "    plot_history_alive\n",
    ")\n",
    "\n",
    "import re\n",
    "from datetime import timedelta"
   ]
  },
  {
   "cell_type": "markdown",
   "metadata": {},
   "source": [
    "## 1. Data Prepration\n",
    "- Data Source: [Online Retail Transactions](https://archive.ics.uci.edu/dataset/352/online+retail)"
   ]
  },
  {
   "cell_type": "code",
   "execution_count": 229,
   "metadata": {},
   "outputs": [],
   "source": [
    "df = pd.read_excel(\"../../../data/common_datasets/online-retail.xlsx\")"
   ]
  },
  {
   "cell_type": "code",
   "execution_count": 230,
   "metadata": {},
   "outputs": [
    {
     "data": {
      "text/html": [
       "<div>\n",
       "<style scoped>\n",
       "    .dataframe tbody tr th:only-of-type {\n",
       "        vertical-align: middle;\n",
       "    }\n",
       "\n",
       "    .dataframe tbody tr th {\n",
       "        vertical-align: top;\n",
       "    }\n",
       "\n",
       "    .dataframe thead th {\n",
       "        text-align: right;\n",
       "    }\n",
       "</style>\n",
       "<table border=\"1\" class=\"dataframe\">\n",
       "  <thead>\n",
       "    <tr style=\"text-align: right;\">\n",
       "      <th></th>\n",
       "      <th>InvoiceNo</th>\n",
       "      <th>StockCode</th>\n",
       "      <th>Description</th>\n",
       "      <th>Quantity</th>\n",
       "      <th>InvoiceDate</th>\n",
       "      <th>UnitPrice</th>\n",
       "      <th>CustomerID</th>\n",
       "      <th>Country</th>\n",
       "    </tr>\n",
       "  </thead>\n",
       "  <tbody>\n",
       "    <tr>\n",
       "      <th>541904</th>\n",
       "      <td>581587</td>\n",
       "      <td>22613</td>\n",
       "      <td>PACK OF 20 SPACEBOY NAPKINS</td>\n",
       "      <td>12</td>\n",
       "      <td>2011-12-09 12:50:00</td>\n",
       "      <td>0.85</td>\n",
       "      <td>12,680.00</td>\n",
       "      <td>France</td>\n",
       "    </tr>\n",
       "    <tr>\n",
       "      <th>541905</th>\n",
       "      <td>581587</td>\n",
       "      <td>22899</td>\n",
       "      <td>CHILDREN'S APRON DOLLY GIRL</td>\n",
       "      <td>6</td>\n",
       "      <td>2011-12-09 12:50:00</td>\n",
       "      <td>2.10</td>\n",
       "      <td>12,680.00</td>\n",
       "      <td>France</td>\n",
       "    </tr>\n",
       "    <tr>\n",
       "      <th>541906</th>\n",
       "      <td>581587</td>\n",
       "      <td>23254</td>\n",
       "      <td>CHILDRENS CUTLERY DOLLY GIRL</td>\n",
       "      <td>4</td>\n",
       "      <td>2011-12-09 12:50:00</td>\n",
       "      <td>4.15</td>\n",
       "      <td>12,680.00</td>\n",
       "      <td>France</td>\n",
       "    </tr>\n",
       "    <tr>\n",
       "      <th>541907</th>\n",
       "      <td>581587</td>\n",
       "      <td>23255</td>\n",
       "      <td>CHILDRENS CUTLERY CIRCUS PARADE</td>\n",
       "      <td>4</td>\n",
       "      <td>2011-12-09 12:50:00</td>\n",
       "      <td>4.15</td>\n",
       "      <td>12,680.00</td>\n",
       "      <td>France</td>\n",
       "    </tr>\n",
       "    <tr>\n",
       "      <th>541908</th>\n",
       "      <td>581587</td>\n",
       "      <td>22138</td>\n",
       "      <td>BAKING SET 9 PIECE RETROSPOT</td>\n",
       "      <td>3</td>\n",
       "      <td>2011-12-09 12:50:00</td>\n",
       "      <td>4.95</td>\n",
       "      <td>12,680.00</td>\n",
       "      <td>France</td>\n",
       "    </tr>\n",
       "  </tbody>\n",
       "</table>\n",
       "</div>"
      ],
      "text/plain": [
       "       InvoiceNo StockCode                      Description  Quantity  \\\n",
       "541904    581587     22613      PACK OF 20 SPACEBOY NAPKINS        12   \n",
       "541905    581587     22899     CHILDREN'S APRON DOLLY GIRL          6   \n",
       "541906    581587     23254    CHILDRENS CUTLERY DOLLY GIRL          4   \n",
       "541907    581587     23255  CHILDRENS CUTLERY CIRCUS PARADE         4   \n",
       "541908    581587     22138    BAKING SET 9 PIECE RETROSPOT          3   \n",
       "\n",
       "               InvoiceDate  UnitPrice  CustomerID Country  \n",
       "541904 2011-12-09 12:50:00       0.85   12,680.00  France  \n",
       "541905 2011-12-09 12:50:00       2.10   12,680.00  France  \n",
       "541906 2011-12-09 12:50:00       4.15   12,680.00  France  \n",
       "541907 2011-12-09 12:50:00       4.15   12,680.00  France  \n",
       "541908 2011-12-09 12:50:00       4.95   12,680.00  France  "
      ]
     },
     "execution_count": 230,
     "metadata": {},
     "output_type": "execute_result"
    }
   ],
   "source": [
    "df.tail()"
   ]
  },
  {
   "cell_type": "code",
   "execution_count": 231,
   "metadata": {},
   "outputs": [],
   "source": [
    "col_list = []\n",
    "for col_name in df.columns:\n",
    "    if col_name == \"CustomerID\":\n",
    "        col_name = \"customer_id\"\n",
    "    else:\n",
    "        col_name = \"_\".join([col.lower() for col in re.findall('[A-Z][^A-Z]*', col_name)])\n",
    "    col_list.append(col_name)"
   ]
  },
  {
   "cell_type": "code",
   "execution_count": 232,
   "metadata": {},
   "outputs": [],
   "source": [
    "df.columns = col_list"
   ]
  },
  {
   "cell_type": "code",
   "execution_count": 233,
   "metadata": {},
   "outputs": [
    {
     "data": {
      "text/plain": [
       "(541909, 8)"
      ]
     },
     "execution_count": 233,
     "metadata": {},
     "output_type": "execute_result"
    }
   ],
   "source": [
    "df.shape"
   ]
  },
  {
   "cell_type": "code",
   "execution_count": 234,
   "metadata": {},
   "outputs": [],
   "source": [
    "df = df[~df['customer_id'].isna()]"
   ]
  },
  {
   "cell_type": "code",
   "execution_count": 235,
   "metadata": {},
   "outputs": [],
   "source": [
    "# Filter those transactions start with letter 'c', it indicates a cancellation, 'a' it indicates adjust bad dept\n",
    "df = df[~df[\"invoice_no\"].astype(str).str.startswith((\"A\",\"C\"))]\n",
    "# Convert customer_id from float to string\n",
    "df['customer_id'] = df['customer_id'].astype(str).str.split(\".\").str[0]"
   ]
  },
  {
   "cell_type": "code",
   "execution_count": 236,
   "metadata": {},
   "outputs": [],
   "source": [
    "df[\"invoice_date\"] = df['invoice_date'].dt.date # normalize to date only"
   ]
  },
  {
   "cell_type": "code",
   "execution_count": 237,
   "metadata": {},
   "outputs": [],
   "source": [
    "df['total_revenue'] = df['quantity']*df['unit_price']"
   ]
  },
  {
   "cell_type": "code",
   "execution_count": 238,
   "metadata": {},
   "outputs": [
    {
     "data": {
      "text/html": [
       "<div>\n",
       "<style scoped>\n",
       "    .dataframe tbody tr th:only-of-type {\n",
       "        vertical-align: middle;\n",
       "    }\n",
       "\n",
       "    .dataframe tbody tr th {\n",
       "        vertical-align: top;\n",
       "    }\n",
       "\n",
       "    .dataframe thead th {\n",
       "        text-align: right;\n",
       "    }\n",
       "</style>\n",
       "<table border=\"1\" class=\"dataframe\">\n",
       "  <thead>\n",
       "    <tr style=\"text-align: right;\">\n",
       "      <th></th>\n",
       "      <th>invoice_no</th>\n",
       "      <th>stock_code</th>\n",
       "      <th>description</th>\n",
       "      <th>quantity</th>\n",
       "      <th>invoice_date</th>\n",
       "      <th>unit_price</th>\n",
       "      <th>customer_id</th>\n",
       "      <th>country</th>\n",
       "      <th>total_revenue</th>\n",
       "    </tr>\n",
       "  </thead>\n",
       "  <tbody>\n",
       "    <tr>\n",
       "      <th>541894</th>\n",
       "      <td>581587</td>\n",
       "      <td>22631</td>\n",
       "      <td>CIRCUS PARADE LUNCH BOX</td>\n",
       "      <td>12</td>\n",
       "      <td>2011-12-09</td>\n",
       "      <td>1.95</td>\n",
       "      <td>12680</td>\n",
       "      <td>France</td>\n",
       "      <td>23.40</td>\n",
       "    </tr>\n",
       "    <tr>\n",
       "      <th>541895</th>\n",
       "      <td>581587</td>\n",
       "      <td>22556</td>\n",
       "      <td>PLASTERS IN TIN CIRCUS PARADE</td>\n",
       "      <td>12</td>\n",
       "      <td>2011-12-09</td>\n",
       "      <td>1.65</td>\n",
       "      <td>12680</td>\n",
       "      <td>France</td>\n",
       "      <td>19.80</td>\n",
       "    </tr>\n",
       "    <tr>\n",
       "      <th>541896</th>\n",
       "      <td>581587</td>\n",
       "      <td>22555</td>\n",
       "      <td>PLASTERS IN TIN STRONGMAN</td>\n",
       "      <td>12</td>\n",
       "      <td>2011-12-09</td>\n",
       "      <td>1.65</td>\n",
       "      <td>12680</td>\n",
       "      <td>France</td>\n",
       "      <td>19.80</td>\n",
       "    </tr>\n",
       "    <tr>\n",
       "      <th>541897</th>\n",
       "      <td>581587</td>\n",
       "      <td>22728</td>\n",
       "      <td>ALARM CLOCK BAKELIKE PINK</td>\n",
       "      <td>4</td>\n",
       "      <td>2011-12-09</td>\n",
       "      <td>3.75</td>\n",
       "      <td>12680</td>\n",
       "      <td>France</td>\n",
       "      <td>15.00</td>\n",
       "    </tr>\n",
       "    <tr>\n",
       "      <th>541898</th>\n",
       "      <td>581587</td>\n",
       "      <td>22727</td>\n",
       "      <td>ALARM CLOCK BAKELIKE RED</td>\n",
       "      <td>4</td>\n",
       "      <td>2011-12-09</td>\n",
       "      <td>3.75</td>\n",
       "      <td>12680</td>\n",
       "      <td>France</td>\n",
       "      <td>15.00</td>\n",
       "    </tr>\n",
       "    <tr>\n",
       "      <th>541899</th>\n",
       "      <td>581587</td>\n",
       "      <td>22726</td>\n",
       "      <td>ALARM CLOCK BAKELIKE GREEN</td>\n",
       "      <td>4</td>\n",
       "      <td>2011-12-09</td>\n",
       "      <td>3.75</td>\n",
       "      <td>12680</td>\n",
       "      <td>France</td>\n",
       "      <td>15.00</td>\n",
       "    </tr>\n",
       "    <tr>\n",
       "      <th>541900</th>\n",
       "      <td>581587</td>\n",
       "      <td>22730</td>\n",
       "      <td>ALARM CLOCK BAKELIKE IVORY</td>\n",
       "      <td>4</td>\n",
       "      <td>2011-12-09</td>\n",
       "      <td>3.75</td>\n",
       "      <td>12680</td>\n",
       "      <td>France</td>\n",
       "      <td>15.00</td>\n",
       "    </tr>\n",
       "    <tr>\n",
       "      <th>541901</th>\n",
       "      <td>581587</td>\n",
       "      <td>22367</td>\n",
       "      <td>CHILDRENS APRON SPACEBOY DESIGN</td>\n",
       "      <td>8</td>\n",
       "      <td>2011-12-09</td>\n",
       "      <td>1.95</td>\n",
       "      <td>12680</td>\n",
       "      <td>France</td>\n",
       "      <td>15.60</td>\n",
       "    </tr>\n",
       "    <tr>\n",
       "      <th>541902</th>\n",
       "      <td>581587</td>\n",
       "      <td>22629</td>\n",
       "      <td>SPACEBOY LUNCH BOX</td>\n",
       "      <td>12</td>\n",
       "      <td>2011-12-09</td>\n",
       "      <td>1.95</td>\n",
       "      <td>12680</td>\n",
       "      <td>France</td>\n",
       "      <td>23.40</td>\n",
       "    </tr>\n",
       "    <tr>\n",
       "      <th>541903</th>\n",
       "      <td>581587</td>\n",
       "      <td>23256</td>\n",
       "      <td>CHILDRENS CUTLERY SPACEBOY</td>\n",
       "      <td>4</td>\n",
       "      <td>2011-12-09</td>\n",
       "      <td>4.15</td>\n",
       "      <td>12680</td>\n",
       "      <td>France</td>\n",
       "      <td>16.60</td>\n",
       "    </tr>\n",
       "    <tr>\n",
       "      <th>541904</th>\n",
       "      <td>581587</td>\n",
       "      <td>22613</td>\n",
       "      <td>PACK OF 20 SPACEBOY NAPKINS</td>\n",
       "      <td>12</td>\n",
       "      <td>2011-12-09</td>\n",
       "      <td>0.85</td>\n",
       "      <td>12680</td>\n",
       "      <td>France</td>\n",
       "      <td>10.20</td>\n",
       "    </tr>\n",
       "    <tr>\n",
       "      <th>541905</th>\n",
       "      <td>581587</td>\n",
       "      <td>22899</td>\n",
       "      <td>CHILDREN'S APRON DOLLY GIRL</td>\n",
       "      <td>6</td>\n",
       "      <td>2011-12-09</td>\n",
       "      <td>2.10</td>\n",
       "      <td>12680</td>\n",
       "      <td>France</td>\n",
       "      <td>12.60</td>\n",
       "    </tr>\n",
       "    <tr>\n",
       "      <th>541906</th>\n",
       "      <td>581587</td>\n",
       "      <td>23254</td>\n",
       "      <td>CHILDRENS CUTLERY DOLLY GIRL</td>\n",
       "      <td>4</td>\n",
       "      <td>2011-12-09</td>\n",
       "      <td>4.15</td>\n",
       "      <td>12680</td>\n",
       "      <td>France</td>\n",
       "      <td>16.60</td>\n",
       "    </tr>\n",
       "    <tr>\n",
       "      <th>541907</th>\n",
       "      <td>581587</td>\n",
       "      <td>23255</td>\n",
       "      <td>CHILDRENS CUTLERY CIRCUS PARADE</td>\n",
       "      <td>4</td>\n",
       "      <td>2011-12-09</td>\n",
       "      <td>4.15</td>\n",
       "      <td>12680</td>\n",
       "      <td>France</td>\n",
       "      <td>16.60</td>\n",
       "    </tr>\n",
       "    <tr>\n",
       "      <th>541908</th>\n",
       "      <td>581587</td>\n",
       "      <td>22138</td>\n",
       "      <td>BAKING SET 9 PIECE RETROSPOT</td>\n",
       "      <td>3</td>\n",
       "      <td>2011-12-09</td>\n",
       "      <td>4.95</td>\n",
       "      <td>12680</td>\n",
       "      <td>France</td>\n",
       "      <td>14.85</td>\n",
       "    </tr>\n",
       "  </tbody>\n",
       "</table>\n",
       "</div>"
      ],
      "text/plain": [
       "       invoice_no stock_code                      description  quantity  \\\n",
       "541894     581587      22631         CIRCUS PARADE LUNCH BOX         12   \n",
       "541895     581587      22556   PLASTERS IN TIN CIRCUS PARADE         12   \n",
       "541896     581587      22555        PLASTERS IN TIN STRONGMAN        12   \n",
       "541897     581587      22728        ALARM CLOCK BAKELIKE PINK         4   \n",
       "541898     581587      22727        ALARM CLOCK BAKELIKE RED          4   \n",
       "541899     581587      22726       ALARM CLOCK BAKELIKE GREEN         4   \n",
       "541900     581587      22730       ALARM CLOCK BAKELIKE IVORY         4   \n",
       "541901     581587      22367  CHILDRENS APRON SPACEBOY DESIGN         8   \n",
       "541902     581587      22629              SPACEBOY LUNCH BOX         12   \n",
       "541903     581587      23256      CHILDRENS CUTLERY SPACEBOY          4   \n",
       "541904     581587      22613      PACK OF 20 SPACEBOY NAPKINS        12   \n",
       "541905     581587      22899     CHILDREN'S APRON DOLLY GIRL          6   \n",
       "541906     581587      23254    CHILDRENS CUTLERY DOLLY GIRL          4   \n",
       "541907     581587      23255  CHILDRENS CUTLERY CIRCUS PARADE         4   \n",
       "541908     581587      22138    BAKING SET 9 PIECE RETROSPOT          3   \n",
       "\n",
       "       invoice_date  unit_price customer_id country  total_revenue  \n",
       "541894   2011-12-09        1.95       12680  France          23.40  \n",
       "541895   2011-12-09        1.65       12680  France          19.80  \n",
       "541896   2011-12-09        1.65       12680  France          19.80  \n",
       "541897   2011-12-09        3.75       12680  France          15.00  \n",
       "541898   2011-12-09        3.75       12680  France          15.00  \n",
       "541899   2011-12-09        3.75       12680  France          15.00  \n",
       "541900   2011-12-09        3.75       12680  France          15.00  \n",
       "541901   2011-12-09        1.95       12680  France          15.60  \n",
       "541902   2011-12-09        1.95       12680  France          23.40  \n",
       "541903   2011-12-09        4.15       12680  France          16.60  \n",
       "541904   2011-12-09        0.85       12680  France          10.20  \n",
       "541905   2011-12-09        2.10       12680  France          12.60  \n",
       "541906   2011-12-09        4.15       12680  France          16.60  \n",
       "541907   2011-12-09        4.15       12680  France          16.60  \n",
       "541908   2011-12-09        4.95       12680  France          14.85  "
      ]
     },
     "execution_count": 238,
     "metadata": {},
     "output_type": "execute_result"
    }
   ],
   "source": [
    "df.query(\"invoice_no == 581587\") # 581587 A563185"
   ]
  },
  {
   "cell_type": "code",
   "execution_count": 239,
   "metadata": {},
   "outputs": [
    {
     "data": {
      "text/html": [
       "<div>\n",
       "<style scoped>\n",
       "    .dataframe tbody tr th:only-of-type {\n",
       "        vertical-align: middle;\n",
       "    }\n",
       "\n",
       "    .dataframe tbody tr th {\n",
       "        vertical-align: top;\n",
       "    }\n",
       "\n",
       "    .dataframe thead th {\n",
       "        text-align: right;\n",
       "    }\n",
       "</style>\n",
       "<table border=\"1\" class=\"dataframe\">\n",
       "  <thead>\n",
       "    <tr style=\"text-align: right;\">\n",
       "      <th></th>\n",
       "      <th>count</th>\n",
       "      <th>unique</th>\n",
       "      <th>top</th>\n",
       "      <th>freq</th>\n",
       "    </tr>\n",
       "  </thead>\n",
       "  <tbody>\n",
       "    <tr>\n",
       "      <th>invoice_no</th>\n",
       "      <td>397924</td>\n",
       "      <td>18536</td>\n",
       "      <td>576339</td>\n",
       "      <td>542</td>\n",
       "    </tr>\n",
       "    <tr>\n",
       "      <th>stock_code</th>\n",
       "      <td>397924</td>\n",
       "      <td>3665</td>\n",
       "      <td>85123A</td>\n",
       "      <td>2035</td>\n",
       "    </tr>\n",
       "    <tr>\n",
       "      <th>description</th>\n",
       "      <td>397924</td>\n",
       "      <td>3877</td>\n",
       "      <td>WHITE HANGING HEART T-LIGHT HOLDER</td>\n",
       "      <td>2028</td>\n",
       "    </tr>\n",
       "    <tr>\n",
       "      <th>invoice_date</th>\n",
       "      <td>397924</td>\n",
       "      <td>305</td>\n",
       "      <td>2011-11-06</td>\n",
       "      <td>3423</td>\n",
       "    </tr>\n",
       "    <tr>\n",
       "      <th>customer_id</th>\n",
       "      <td>397924</td>\n",
       "      <td>4339</td>\n",
       "      <td>17841</td>\n",
       "      <td>7847</td>\n",
       "    </tr>\n",
       "    <tr>\n",
       "      <th>country</th>\n",
       "      <td>397924</td>\n",
       "      <td>37</td>\n",
       "      <td>United Kingdom</td>\n",
       "      <td>354345</td>\n",
       "    </tr>\n",
       "  </tbody>\n",
       "</table>\n",
       "</div>"
      ],
      "text/plain": [
       "               count unique                                 top    freq\n",
       "invoice_no    397924  18536                              576339     542\n",
       "stock_code    397924   3665                              85123A    2035\n",
       "description   397924   3877  WHITE HANGING HEART T-LIGHT HOLDER    2028\n",
       "invoice_date  397924    305                          2011-11-06    3423\n",
       "customer_id   397924   4339                               17841    7847\n",
       "country       397924     37                      United Kingdom  354345"
      ]
     },
     "execution_count": 239,
     "metadata": {},
     "output_type": "execute_result"
    }
   ],
   "source": [
    "# review the categorical variables\n",
    "df.describe(include='object').T"
   ]
  },
  {
   "cell_type": "markdown",
   "metadata": {},
   "source": [
    "- The dataset comprises 4,339 unique customer IDs and 305 invoice dates within the time horizon."
   ]
  },
  {
   "cell_type": "code",
   "execution_count": 240,
   "metadata": {},
   "outputs": [
    {
     "data": {
      "text/html": [
       "<div>\n",
       "<style scoped>\n",
       "    .dataframe tbody tr th:only-of-type {\n",
       "        vertical-align: middle;\n",
       "    }\n",
       "\n",
       "    .dataframe tbody tr th {\n",
       "        vertical-align: top;\n",
       "    }\n",
       "\n",
       "    .dataframe thead th {\n",
       "        text-align: right;\n",
       "    }\n",
       "</style>\n",
       "<table border=\"1\" class=\"dataframe\">\n",
       "  <thead>\n",
       "    <tr style=\"text-align: right;\">\n",
       "      <th></th>\n",
       "      <th>quantity</th>\n",
       "      <th>unit_price</th>\n",
       "      <th>total_revenue</th>\n",
       "    </tr>\n",
       "  </thead>\n",
       "  <tbody>\n",
       "    <tr>\n",
       "      <th>count</th>\n",
       "      <td>397,924.00</td>\n",
       "      <td>397,924.00</td>\n",
       "      <td>397,924.00</td>\n",
       "    </tr>\n",
       "    <tr>\n",
       "      <th>mean</th>\n",
       "      <td>13.02</td>\n",
       "      <td>3.12</td>\n",
       "      <td>22.39</td>\n",
       "    </tr>\n",
       "    <tr>\n",
       "      <th>std</th>\n",
       "      <td>180.42</td>\n",
       "      <td>22.10</td>\n",
       "      <td>309.06</td>\n",
       "    </tr>\n",
       "    <tr>\n",
       "      <th>min</th>\n",
       "      <td>1.00</td>\n",
       "      <td>0.00</td>\n",
       "      <td>0.00</td>\n",
       "    </tr>\n",
       "    <tr>\n",
       "      <th>25%</th>\n",
       "      <td>2.00</td>\n",
       "      <td>1.25</td>\n",
       "      <td>4.68</td>\n",
       "    </tr>\n",
       "    <tr>\n",
       "      <th>50%</th>\n",
       "      <td>6.00</td>\n",
       "      <td>1.95</td>\n",
       "      <td>11.80</td>\n",
       "    </tr>\n",
       "    <tr>\n",
       "      <th>75%</th>\n",
       "      <td>12.00</td>\n",
       "      <td>3.75</td>\n",
       "      <td>19.80</td>\n",
       "    </tr>\n",
       "    <tr>\n",
       "      <th>max</th>\n",
       "      <td>80,995.00</td>\n",
       "      <td>8,142.75</td>\n",
       "      <td>168,469.60</td>\n",
       "    </tr>\n",
       "  </tbody>\n",
       "</table>\n",
       "</div>"
      ],
      "text/plain": [
       "        quantity  unit_price  total_revenue\n",
       "count 397,924.00  397,924.00     397,924.00\n",
       "mean       13.02        3.12          22.39\n",
       "std       180.42       22.10         309.06\n",
       "min         1.00        0.00           0.00\n",
       "25%         2.00        1.25           4.68\n",
       "50%         6.00        1.95          11.80\n",
       "75%        12.00        3.75          19.80\n",
       "max    80,995.00    8,142.75     168,469.60"
      ]
     },
     "execution_count": 240,
     "metadata": {},
     "output_type": "execute_result"
    }
   ],
   "source": [
    "# review the numerical variables\n",
    "df.describe()"
   ]
  },
  {
   "cell_type": "code",
   "execution_count": 241,
   "metadata": {},
   "outputs": [],
   "source": [
    "# aggregation as per invoice_no: sum of all items purchased within the invoice\n",
    "df_orders = df.groupby(['invoice_no','customer_id', 'invoice_date']).agg({'total_revenue': 'sum'}).reset_index() "
   ]
  },
  {
   "cell_type": "code",
   "execution_count": 242,
   "metadata": {},
   "outputs": [
    {
     "data": {
      "text/plain": [
       "(datetime.date(2011, 12, 9), datetime.date(2010, 12, 1))"
      ]
     },
     "execution_count": 242,
     "metadata": {},
     "output_type": "execute_result"
    }
   ],
   "source": [
    "df_orders['invoice_date'].max(), df_orders['invoice_date'].min() "
   ]
  },
  {
   "cell_type": "markdown",
   "metadata": {},
   "source": [
    "## 2. Raw Recency, Frequency, and Monetary Metrics\n",
    "- The next step is to turn our raw transactional data into the recency, frequency, monetary and tenure (T) metrics we need to provide to the CLV models. \n",
    "    - **Lifetimes** package has the function to do it `summary_data_from_transaction_data()`.\n",
    "        - Note 1: The `observation_period_end` date would usually represent the most recent order date within your dataframe.\n",
    "        - Note 2: he first transaction by default is **not included** while calculating the frequency and monetary value. \n",
    "            - To include it, just set the parameter `include_first_transaction` to True. To use the data with some fitters from the lifetimes package, this parameter must be set to False\n",
    "        - Note 3: recency defintion in Lifetimes package is different from the recency definition below\n",
    "            - For the `customer_id=12347`, `recency` is the number of days between her first (2010-12-07) and her latest transaction (2011-12-07), which is 365 days. \n",
    "            - A bit counter-intuitively, it does not measure the days since her latest purchase.\n",
    "- `recency_date` represent the `max()` value from the `invoice_date` column for each customer\n",
    "    - `recency` metric represents the time delta between the **current date** and the `recency_date` in days. \n",
    "```Python\n",
    "# create df_customers\n",
    "df_customers = pd.DataFrame(df['customer_id'].unique())\n",
    "df_customers.columns = ['customer_id']\n",
    "\n",
    "# for each customer, create recency_date, which is the max() value from the invoice_date column for each customer\n",
    "df_recency = df.groupby('customer_id')['invoice_date'].max().reset_index()\n",
    "df_recency.columns = ['customer_id','recency_date']\n",
    "df_customers = df_customers.merge(df_recency, on='customer_id')\n",
    "\n",
    "# calculate recency\n",
    "# divide by np.timedelta64(1, 'D') is to convert \"timedelta\" values in the 'recency' column to the number of days (float64)\n",
    "# round to express the value in integer\n",
    "df_customers['recency'] = round((pd.to_datetime('today') - df_customers['recency_date']) \\\n",
    "                                / np.timedelta64(1, 'D') ).astype(int)\n",
    "\n",
    "```\n",
    "- `Tenure`, or T, is a measure of how long a given customer has been with the company. \n",
    "    - The `tenure_date` is effectively the opposite of the `recency_date` and is calculated from the `min()` of the `invoice_date`\n",
    "    - `tenure` metric is the time delta between the `tenure_date` and the **current date** in days, expressed as an integer.\n",
    "\n",
    "```Python\n",
    "df_tenure = df.groupby('customer_id')['invoice_date'].min().reset_index()\n",
    "df_tenure.columns = ['customer_id','tenure_date']\n",
    "df_customers = df_customers.merge(df_tenure, on='customer_id')\n",
    "\n",
    "df_customers['tenure'] = round((pd.to_datetime('today') - df_customers['tenure_date']) \\\n",
    "                               / np.timedelta64(1, 'D') ).astype(int)\n",
    "```"
   ]
  },
  {
   "cell_type": "markdown",
   "metadata": {},
   "source": [
    "- The Lifetimes package will compute these values for us. To understand their definitions, let’s demonstrate how they can be determined for a chosen customer: ID = 14527."
   ]
  },
  {
   "cell_type": "code",
   "execution_count": 243,
   "metadata": {},
   "outputs": [
    {
     "data": {
      "text/html": [
       "<div>\n",
       "<style scoped>\n",
       "    .dataframe tbody tr th:only-of-type {\n",
       "        vertical-align: middle;\n",
       "    }\n",
       "\n",
       "    .dataframe tbody tr th {\n",
       "        vertical-align: top;\n",
       "    }\n",
       "\n",
       "    .dataframe thead th {\n",
       "        text-align: right;\n",
       "    }\n",
       "</style>\n",
       "<table border=\"1\" class=\"dataframe\">\n",
       "  <thead>\n",
       "    <tr style=\"text-align: right;\">\n",
       "      <th></th>\n",
       "      <th>invoice_no</th>\n",
       "      <th>customer_id</th>\n",
       "      <th>invoice_date</th>\n",
       "      <th>total_revenue</th>\n",
       "    </tr>\n",
       "  </thead>\n",
       "  <tbody>\n",
       "    <tr>\n",
       "      <th>548</th>\n",
       "      <td>537626</td>\n",
       "      <td>12347</td>\n",
       "      <td>2010-12-07</td>\n",
       "      <td>711.79</td>\n",
       "    </tr>\n",
       "    <tr>\n",
       "      <th>2205</th>\n",
       "      <td>542237</td>\n",
       "      <td>12347</td>\n",
       "      <td>2011-01-26</td>\n",
       "      <td>475.39</td>\n",
       "    </tr>\n",
       "    <tr>\n",
       "      <th>4942</th>\n",
       "      <td>549222</td>\n",
       "      <td>12347</td>\n",
       "      <td>2011-04-07</td>\n",
       "      <td>636.25</td>\n",
       "    </tr>\n",
       "    <tr>\n",
       "      <th>7844</th>\n",
       "      <td>556201</td>\n",
       "      <td>12347</td>\n",
       "      <td>2011-06-09</td>\n",
       "      <td>382.52</td>\n",
       "    </tr>\n",
       "    <tr>\n",
       "      <th>10173</th>\n",
       "      <td>562032</td>\n",
       "      <td>12347</td>\n",
       "      <td>2011-08-02</td>\n",
       "      <td>584.91</td>\n",
       "    </tr>\n",
       "    <tr>\n",
       "      <th>15066</th>\n",
       "      <td>573511</td>\n",
       "      <td>12347</td>\n",
       "      <td>2011-10-31</td>\n",
       "      <td>1,294.32</td>\n",
       "    </tr>\n",
       "    <tr>\n",
       "      <th>18367</th>\n",
       "      <td>581180</td>\n",
       "      <td>12347</td>\n",
       "      <td>2011-12-07</td>\n",
       "      <td>224.82</td>\n",
       "    </tr>\n",
       "  </tbody>\n",
       "</table>\n",
       "</div>"
      ],
      "text/plain": [
       "       invoice_no customer_id invoice_date  total_revenue\n",
       "548        537626       12347   2010-12-07         711.79\n",
       "2205       542237       12347   2011-01-26         475.39\n",
       "4942       549222       12347   2011-04-07         636.25\n",
       "7844       556201       12347   2011-06-09         382.52\n",
       "10173      562032       12347   2011-08-02         584.91\n",
       "15066      573511       12347   2011-10-31       1,294.32\n",
       "18367      581180       12347   2011-12-07         224.82"
      ]
     },
     "execution_count": 243,
     "metadata": {},
     "output_type": "execute_result"
    }
   ],
   "source": [
    "customer_example = df_orders.query(\"customer_id == '12347'\")\n",
    "customer_example"
   ]
  },
  {
   "cell_type": "code",
   "execution_count": 244,
   "metadata": {},
   "outputs": [
    {
     "name": "stdout",
     "output_type": "stream",
     "text": [
      "Recency: 365\n",
      "Age or Longevity (T): 367\n",
      "Frequency: 6\n",
      "Monetary Value: 599.70\n"
     ]
    }
   ],
   "source": [
    "customer_birthday = customer_example['invoice_date'].min()      # 2010–12–05\n",
    "customer_latest_trans = customer_example['invoice_date'].max()  # 2011–12–07\n",
    "latest_date = df_orders['invoice_date'].max()                   # 2011–12–09: the end date of our analytical horizon\n",
    "\n",
    "recency = customer_latest_trans - customer_birthday\n",
    "longevity_T = latest_date - customer_birthday\n",
    "frequency = customer_example.shape[0] - 1 # -1 as BG/NBD models focus on repeat purchases, it omits the initial transaction.\n",
    "monetary_value = customer_example.loc[2205:,'total_revenue'].mean() # not include the first transaction @ index = 548\n",
    "print(f\"Recency: {recency.days}\\nAge or Longevity (T): {longevity_T.days}\\nFrequency: {frequency}\\nMonetary Value: {monetary_value:.2f}\")"
   ]
  },
  {
   "cell_type": "code",
   "execution_count": 245,
   "metadata": {},
   "outputs": [],
   "source": [
    "df_rfmt = summary_data_from_transaction_data(df_orders, \n",
    "                                             customer_id_col='customer_id',\n",
    "                                             datetime_col='invoice_date',\n",
    "                                             monetary_value_col='total_revenue',\n",
    "                                             observation_period_end='2011-12-09 12:50:00',\n",
    "                                            #  include_first_transaction=True\n",
    "                                             )"
   ]
  },
  {
   "cell_type": "code",
   "execution_count": 246,
   "metadata": {},
   "outputs": [
    {
     "data": {
      "text/html": [
       "<div>\n",
       "<style scoped>\n",
       "    .dataframe tbody tr th:only-of-type {\n",
       "        vertical-align: middle;\n",
       "    }\n",
       "\n",
       "    .dataframe tbody tr th {\n",
       "        vertical-align: top;\n",
       "    }\n",
       "\n",
       "    .dataframe thead th {\n",
       "        text-align: right;\n",
       "    }\n",
       "</style>\n",
       "<table border=\"1\" class=\"dataframe\">\n",
       "  <thead>\n",
       "    <tr style=\"text-align: right;\">\n",
       "      <th></th>\n",
       "      <th>frequency</th>\n",
       "      <th>recency</th>\n",
       "      <th>T</th>\n",
       "      <th>monetary_value</th>\n",
       "    </tr>\n",
       "    <tr>\n",
       "      <th>customer_id</th>\n",
       "      <th></th>\n",
       "      <th></th>\n",
       "      <th></th>\n",
       "      <th></th>\n",
       "    </tr>\n",
       "  </thead>\n",
       "  <tbody>\n",
       "    <tr>\n",
       "      <th>12346</th>\n",
       "      <td>0.00</td>\n",
       "      <td>0.00</td>\n",
       "      <td>325.00</td>\n",
       "      <td>0.00</td>\n",
       "    </tr>\n",
       "    <tr>\n",
       "      <th>12347</th>\n",
       "      <td>6.00</td>\n",
       "      <td>365.00</td>\n",
       "      <td>367.00</td>\n",
       "      <td>599.70</td>\n",
       "    </tr>\n",
       "    <tr>\n",
       "      <th>12348</th>\n",
       "      <td>3.00</td>\n",
       "      <td>283.00</td>\n",
       "      <td>358.00</td>\n",
       "      <td>301.48</td>\n",
       "    </tr>\n",
       "    <tr>\n",
       "      <th>12349</th>\n",
       "      <td>0.00</td>\n",
       "      <td>0.00</td>\n",
       "      <td>18.00</td>\n",
       "      <td>0.00</td>\n",
       "    </tr>\n",
       "    <tr>\n",
       "      <th>12350</th>\n",
       "      <td>0.00</td>\n",
       "      <td>0.00</td>\n",
       "      <td>310.00</td>\n",
       "      <td>0.00</td>\n",
       "    </tr>\n",
       "  </tbody>\n",
       "</table>\n",
       "</div>"
      ],
      "text/plain": [
       "             frequency  recency      T  monetary_value\n",
       "customer_id                                           \n",
       "12346             0.00     0.00 325.00            0.00\n",
       "12347             6.00   365.00 367.00          599.70\n",
       "12348             3.00   283.00 358.00          301.48\n",
       "12349             0.00     0.00  18.00            0.00\n",
       "12350             0.00     0.00 310.00            0.00"
      ]
     },
     "execution_count": 246,
     "metadata": {},
     "output_type": "execute_result"
    }
   ],
   "source": [
    "df_rfmt.head()"
   ]
  },
  {
   "cell_type": "code",
   "execution_count": 247,
   "metadata": {},
   "outputs": [
    {
     "data": {
      "text/html": [
       "<div>\n",
       "<style scoped>\n",
       "    .dataframe tbody tr th:only-of-type {\n",
       "        vertical-align: middle;\n",
       "    }\n",
       "\n",
       "    .dataframe tbody tr th {\n",
       "        vertical-align: top;\n",
       "    }\n",
       "\n",
       "    .dataframe thead th {\n",
       "        text-align: right;\n",
       "    }\n",
       "</style>\n",
       "<table border=\"1\" class=\"dataframe\">\n",
       "  <thead>\n",
       "    <tr style=\"text-align: right;\">\n",
       "      <th></th>\n",
       "      <th>frequency</th>\n",
       "      <th>recency</th>\n",
       "      <th>T</th>\n",
       "      <th>monetary_value</th>\n",
       "    </tr>\n",
       "    <tr>\n",
       "      <th>customer_id</th>\n",
       "      <th></th>\n",
       "      <th></th>\n",
       "      <th></th>\n",
       "      <th></th>\n",
       "    </tr>\n",
       "  </thead>\n",
       "  <tbody>\n",
       "    <tr>\n",
       "      <th>14527</th>\n",
       "      <td>53.00</td>\n",
       "      <td>367.00</td>\n",
       "      <td>369.00</td>\n",
       "      <td>155.02</td>\n",
       "    </tr>\n",
       "  </tbody>\n",
       "</table>\n",
       "</div>"
      ],
      "text/plain": [
       "             frequency  recency      T  monetary_value\n",
       "customer_id                                           \n",
       "14527            53.00   367.00 369.00          155.02"
      ]
     },
     "execution_count": 247,
     "metadata": {},
     "output_type": "execute_result"
    }
   ],
   "source": [
    "df_rfmt[df_rfmt.index == '14527']"
   ]
  },
  {
   "cell_type": "code",
   "execution_count": 248,
   "metadata": {},
   "outputs": [
    {
     "data": {
      "image/png": "[encoded data removed]",
      "text/plain": [
       "<Figure size 1500x800 with 4 Axes>"
      ]
     },
     "metadata": {},
     "output_type": "display_data"
    }
   ],
   "source": [
    "fig, ((ax1, ax2), (ax3, ax4)) = plt.subplots(2,2, figsize=(15,8))\n",
    "for idx, metric in enumerate(['recency', 'frequency', 'T', 'monetary_value']):\n",
    "    sns.histplot(df_rfmt[metric], stat='density', ax=eval(f\"ax{idx+1}\"))\n",
    "plt.show()"
   ]
  },
  {
   "cell_type": "markdown",
   "metadata": {},
   "source": [
    "- The data are strongly skewed, with most customers have placed a single low value order\n",
    "- T plot show the peaks and troughs indicating that this business is strongly seasonal\n",
    "    - The spike @ 360 days, it indicates the start period of this analysis"
   ]
  },
  {
   "cell_type": "markdown",
   "metadata": {},
   "source": [
    "## Train Test Split\n",
    "- Lifetimes uses the terms **calibration** and **holdout** periods for what we would label the training and test datasets in most other applications.\n",
    "- `calibration_and_holdout_data()` takes as its arguments the chosen end of the calibration period and the end of the observation period."
   ]
  },
  {
   "cell_type": "markdown",
   "metadata": {},
   "source": [
    "### How to choose hold out period ?\n",
    "- This particular dataset comprises 400,000 records, but they are spread over 4,000 customers and cover just two years. \n",
    "- Many smaller customers submit their repeat orders a couple of months apart. \n",
    "- If we set the holdout period to a small number of time periods, it will contain only a few repeat transactions for small customers. We risk that it does not fully reflect their demand patterns. \n",
    "- In this dataset, a holdout period shorter than 100 days does not work well in this case. \n",
    "    - Ideally it should be close to 200 days. \n",
    "- Yet if we reserve too many days for the holdout period, the same problem can afflict the training phase: a training period as short as 365 days may not catch enough customer-specific transactions to pin down their demand patterns.\n",
    "- Alternative: It would be preferable to create the holdout dataset by **randomly drawing customers from the entire dataset** and then check whether the purchase behavior of the customers in the training dataset differs from the behavior of the holdout customers. \n",
    "    - But many of Lifetimes’ evaluation functions take a time period t as their parameter and would not work if calibration and holdout transactions overlap in the same period of time, even if the customers are kept separate."
   ]
  },
  {
   "cell_type": "code",
   "execution_count": 249,
   "metadata": {},
   "outputs": [
    {
     "name": "stdout",
     "output_type": "stream",
     "text": [
      "End of calibration period: 2011-04-13\n",
      "End of observations      : 2011-12-09\n"
     ]
    }
   ],
   "source": [
    "# train/test split (calibration/holdout)\n",
    "t_holdout = 240                                         # days to reserve for holdout period\n",
    "\n",
    "max_date = df_orders[\"invoice_date\"].max()              # end date of observations\n",
    "\n",
    "\n",
    "max_cal_date = max_date - timedelta(days=t_holdout)     # end date of chosen calibration period\n",
    "print(f\"End of calibration period: {max_cal_date}\")\n",
    "print(f\"End of observations      : {max_date}\")"
   ]
  },
  {
   "cell_type": "code",
   "execution_count": 250,
   "metadata": {},
   "outputs": [],
   "source": [
    "summary_cal_holdout = calibration_and_holdout_data(transactions=df_orders, \n",
    "                                                   customer_id_col='customer_id', \n",
    "                                                   datetime_col='invoice_date',\n",
    "                                                   monetary_value_col='total_revenue',\n",
    "                                                   calibration_period_end=max_cal_date,  # 2011-04-13\n",
    "                                                   observation_period_end=max_date,      # 2011-12-09\n",
    "                                                   freq = \"D\"\n",
    "                                                   )"
   ]
  },
  {
   "cell_type": "code",
   "execution_count": 251,
   "metadata": {},
   "outputs": [
    {
     "data": {
      "text/html": [
       "<div>\n",
       "<style scoped>\n",
       "    .dataframe tbody tr th:only-of-type {\n",
       "        vertical-align: middle;\n",
       "    }\n",
       "\n",
       "    .dataframe tbody tr th {\n",
       "        vertical-align: top;\n",
       "    }\n",
       "\n",
       "    .dataframe thead th {\n",
       "        text-align: right;\n",
       "    }\n",
       "</style>\n",
       "<table border=\"1\" class=\"dataframe\">\n",
       "  <thead>\n",
       "    <tr style=\"text-align: right;\">\n",
       "      <th></th>\n",
       "      <th>frequency_cal</th>\n",
       "      <th>recency_cal</th>\n",
       "      <th>T_cal</th>\n",
       "      <th>monetary_value_cal</th>\n",
       "      <th>frequency_holdout</th>\n",
       "      <th>monetary_value_holdout</th>\n",
       "      <th>duration_holdout</th>\n",
       "    </tr>\n",
       "    <tr>\n",
       "      <th>customer_id</th>\n",
       "      <th></th>\n",
       "      <th></th>\n",
       "      <th></th>\n",
       "      <th></th>\n",
       "      <th></th>\n",
       "      <th></th>\n",
       "      <th></th>\n",
       "    </tr>\n",
       "  </thead>\n",
       "  <tbody>\n",
       "    <tr>\n",
       "      <th>12346</th>\n",
       "      <td>0.00</td>\n",
       "      <td>0.00</td>\n",
       "      <td>85.00</td>\n",
       "      <td>0.00</td>\n",
       "      <td>0.00</td>\n",
       "      <td>0.00</td>\n",
       "      <td>240.00</td>\n",
       "    </tr>\n",
       "    <tr>\n",
       "      <th>12347</th>\n",
       "      <td>2.00</td>\n",
       "      <td>121.00</td>\n",
       "      <td>127.00</td>\n",
       "      <td>555.82</td>\n",
       "      <td>4.00</td>\n",
       "      <td>621.64</td>\n",
       "      <td>240.00</td>\n",
       "    </tr>\n",
       "    <tr>\n",
       "      <th>12348</th>\n",
       "      <td>2.00</td>\n",
       "      <td>110.00</td>\n",
       "      <td>118.00</td>\n",
       "      <td>297.22</td>\n",
       "      <td>1.00</td>\n",
       "      <td>310.00</td>\n",
       "      <td>240.00</td>\n",
       "    </tr>\n",
       "    <tr>\n",
       "      <th>12350</th>\n",
       "      <td>0.00</td>\n",
       "      <td>0.00</td>\n",
       "      <td>70.00</td>\n",
       "      <td>0.00</td>\n",
       "      <td>0.00</td>\n",
       "      <td>0.00</td>\n",
       "      <td>240.00</td>\n",
       "    </tr>\n",
       "    <tr>\n",
       "      <th>12352</th>\n",
       "      <td>3.00</td>\n",
       "      <td>34.00</td>\n",
       "      <td>56.00</td>\n",
       "      <td>421.77</td>\n",
       "      <td>3.00</td>\n",
       "      <td>314.74</td>\n",
       "      <td>240.00</td>\n",
       "    </tr>\n",
       "  </tbody>\n",
       "</table>\n",
       "</div>"
      ],
      "text/plain": [
       "             frequency_cal  recency_cal  T_cal  monetary_value_cal  \\\n",
       "customer_id                                                          \n",
       "12346                 0.00         0.00  85.00                0.00   \n",
       "12347                 2.00       121.00 127.00              555.82   \n",
       "12348                 2.00       110.00 118.00              297.22   \n",
       "12350                 0.00         0.00  70.00                0.00   \n",
       "12352                 3.00        34.00  56.00              421.77   \n",
       "\n",
       "             frequency_holdout  monetary_value_holdout  duration_holdout  \n",
       "customer_id                                                               \n",
       "12346                     0.00                    0.00            240.00  \n",
       "12347                     4.00                  621.64            240.00  \n",
       "12348                     1.00                  310.00            240.00  \n",
       "12350                     0.00                    0.00            240.00  \n",
       "12352                     3.00                  314.74            240.00  "
      ]
     },
     "execution_count": 251,
     "metadata": {},
     "output_type": "execute_result"
    }
   ],
   "source": [
    "summary_cal_holdout.head()"
   ]
  },
  {
   "cell_type": "code",
   "execution_count": 252,
   "metadata": {},
   "outputs": [
    {
     "data": {
      "text/html": [
       "<div>\n",
       "<style scoped>\n",
       "    .dataframe tbody tr th:only-of-type {\n",
       "        vertical-align: middle;\n",
       "    }\n",
       "\n",
       "    .dataframe tbody tr th {\n",
       "        vertical-align: top;\n",
       "    }\n",
       "\n",
       "    .dataframe thead th {\n",
       "        text-align: right;\n",
       "    }\n",
       "</style>\n",
       "<table border=\"1\" class=\"dataframe\">\n",
       "  <thead>\n",
       "    <tr style=\"text-align: right;\">\n",
       "      <th></th>\n",
       "      <th>frequency_cal</th>\n",
       "      <th>recency_cal</th>\n",
       "      <th>T_cal</th>\n",
       "      <th>monetary_value_cal</th>\n",
       "      <th>frequency_holdout</th>\n",
       "      <th>monetary_value_holdout</th>\n",
       "      <th>duration_holdout</th>\n",
       "    </tr>\n",
       "  </thead>\n",
       "  <tbody>\n",
       "    <tr>\n",
       "      <th>count</th>\n",
       "      <td>2,299.00</td>\n",
       "      <td>2,299.00</td>\n",
       "      <td>2,299.00</td>\n",
       "      <td>2,299.00</td>\n",
       "      <td>2,299.00</td>\n",
       "      <td>2,299.00</td>\n",
       "      <td>2,299.00</td>\n",
       "    </tr>\n",
       "    <tr>\n",
       "      <th>mean</th>\n",
       "      <td>1.10</td>\n",
       "      <td>30.87</td>\n",
       "      <td>79.32</td>\n",
       "      <td>175.90</td>\n",
       "      <td>3.40</td>\n",
       "      <td>316.51</td>\n",
       "      <td>240.00</td>\n",
       "    </tr>\n",
       "    <tr>\n",
       "      <th>std</th>\n",
       "      <td>2.49</td>\n",
       "      <td>43.81</td>\n",
       "      <td>43.27</td>\n",
       "      <td>438.19</td>\n",
       "      <td>5.47</td>\n",
       "      <td>600.80</td>\n",
       "      <td>0.00</td>\n",
       "    </tr>\n",
       "    <tr>\n",
       "      <th>min</th>\n",
       "      <td>0.00</td>\n",
       "      <td>0.00</td>\n",
       "      <td>0.00</td>\n",
       "      <td>0.00</td>\n",
       "      <td>0.00</td>\n",
       "      <td>0.00</td>\n",
       "      <td>240.00</td>\n",
       "    </tr>\n",
       "    <tr>\n",
       "      <th>25%</th>\n",
       "      <td>0.00</td>\n",
       "      <td>0.00</td>\n",
       "      <td>42.00</td>\n",
       "      <td>0.00</td>\n",
       "      <td>1.00</td>\n",
       "      <td>51.10</td>\n",
       "      <td>240.00</td>\n",
       "    </tr>\n",
       "    <tr>\n",
       "      <th>50%</th>\n",
       "      <td>0.00</td>\n",
       "      <td>0.00</td>\n",
       "      <td>82.00</td>\n",
       "      <td>0.00</td>\n",
       "      <td>2.00</td>\n",
       "      <td>234.32</td>\n",
       "      <td>240.00</td>\n",
       "    </tr>\n",
       "    <tr>\n",
       "      <th>75%</th>\n",
       "      <td>1.00</td>\n",
       "      <td>65.00</td>\n",
       "      <td>124.00</td>\n",
       "      <td>252.22</td>\n",
       "      <td>4.00</td>\n",
       "      <td>400.79</td>\n",
       "      <td>240.00</td>\n",
       "    </tr>\n",
       "    <tr>\n",
       "      <th>max</th>\n",
       "      <td>35.00</td>\n",
       "      <td>133.00</td>\n",
       "      <td>133.00</td>\n",
       "      <td>8,030.17</td>\n",
       "      <td>96.00</td>\n",
       "      <td>21,535.90</td>\n",
       "      <td>240.00</td>\n",
       "    </tr>\n",
       "  </tbody>\n",
       "</table>\n",
       "</div>"
      ],
      "text/plain": [
       "       frequency_cal  recency_cal    T_cal  monetary_value_cal  \\\n",
       "count       2,299.00     2,299.00 2,299.00            2,299.00   \n",
       "mean            1.10        30.87    79.32              175.90   \n",
       "std             2.49        43.81    43.27              438.19   \n",
       "min             0.00         0.00     0.00                0.00   \n",
       "25%             0.00         0.00    42.00                0.00   \n",
       "50%             0.00         0.00    82.00                0.00   \n",
       "75%             1.00        65.00   124.00              252.22   \n",
       "max            35.00       133.00   133.00            8,030.17   \n",
       "\n",
       "       frequency_holdout  monetary_value_holdout  duration_holdout  \n",
       "count           2,299.00                2,299.00          2,299.00  \n",
       "mean                3.40                  316.51            240.00  \n",
       "std                 5.47                  600.80              0.00  \n",
       "min                 0.00                    0.00            240.00  \n",
       "25%                 1.00                   51.10            240.00  \n",
       "50%                 2.00                  234.32            240.00  \n",
       "75%                 4.00                  400.79            240.00  \n",
       "max                96.00               21,535.90            240.00  "
      ]
     },
     "execution_count": 252,
     "metadata": {},
     "output_type": "execute_result"
    }
   ],
   "source": [
    "summary_cal_holdout.describe()"
   ]
  },
  {
   "cell_type": "markdown",
   "metadata": {},
   "source": [
    "## BG/NBD model\n",
    "- In non-contractual business settings, the purchase behavior of customers does not follow a deterministic trend. \n",
    "    - Both **demand** levels and **churn rates** are random variables. \n",
    "- A distributional model like BG/NBD describes the random processes that influence the customer behavior, individually and in aggregate.\n",
    "- Beta Geometric Negative Binomial Distribution or BG/NBD model is based on the original Pareto/NBD model for CLV which was formulated by Schmittlein, Morrison, and Colombo in 1987.\n",
    "- The method relies on four distributional assumptions to model the uncertainties:\n",
    "    - The **number of orders** a customer will place in a time period follows a **Poisson** distribution with transaction rate `lambda`. \n",
    "        - This Poisson count distribution is equivalent to the assumption that the time between transactions follows an exponential distribution with the same transaction rate lambda.\n",
    "    - The **demand varies** independently between customers: heterogeneity in lambda. \n",
    "        - The variation in lambda is a random variable that follows a **Gamma** distribution with shape parameter `r` and scale `alpha`.\n",
    "    - After any purchase, a customer may become inactive with probability `p` and turns away from the business. \n",
    "        - The churn risk follows a **Geometric** distribution.\n",
    "    - The** churn risk varies** independently between customers: heterogeneity in `p`. \n",
    "        - The variation of the churn or dropout probability `p` is a random variable that follows a **Beta** distribution.\n"
   ]
  },
  {
   "cell_type": "code",
   "execution_count": 18,
   "metadata": {},
   "outputs": [],
   "source": [
    "from lifetimes import BetaGeoFitter"
   ]
  },
  {
   "cell_type": "code",
   "execution_count": 19,
   "metadata": {},
   "outputs": [
    {
     "data": {
      "text/html": [
       "<div>\n",
       "<style scoped>\n",
       "    .dataframe tbody tr th:only-of-type {\n",
       "        vertical-align: middle;\n",
       "    }\n",
       "\n",
       "    .dataframe tbody tr th {\n",
       "        vertical-align: top;\n",
       "    }\n",
       "\n",
       "    .dataframe thead th {\n",
       "        text-align: right;\n",
       "    }\n",
       "</style>\n",
       "<table border=\"1\" class=\"dataframe\">\n",
       "  <thead>\n",
       "    <tr style=\"text-align: right;\">\n",
       "      <th></th>\n",
       "      <th>coef</th>\n",
       "      <th>se(coef)</th>\n",
       "      <th>lower 95% bound</th>\n",
       "      <th>upper 95% bound</th>\n",
       "    </tr>\n",
       "  </thead>\n",
       "  <tbody>\n",
       "    <tr>\n",
       "      <th>r</th>\n",
       "      <td>0.826433</td>\n",
       "      <td>0.026780</td>\n",
       "      <td>0.773944</td>\n",
       "      <td>0.878922</td>\n",
       "    </tr>\n",
       "    <tr>\n",
       "      <th>alpha</th>\n",
       "      <td>68.890678</td>\n",
       "      <td>2.611055</td>\n",
       "      <td>63.773011</td>\n",
       "      <td>74.008345</td>\n",
       "    </tr>\n",
       "    <tr>\n",
       "      <th>a</th>\n",
       "      <td>0.003443</td>\n",
       "      <td>0.010347</td>\n",
       "      <td>-0.016837</td>\n",
       "      <td>0.023722</td>\n",
       "    </tr>\n",
       "    <tr>\n",
       "      <th>b</th>\n",
       "      <td>6.749363</td>\n",
       "      <td>22.412933</td>\n",
       "      <td>-37.179985</td>\n",
       "      <td>50.678711</td>\n",
       "    </tr>\n",
       "  </tbody>\n",
       "</table>\n",
       "</div>"
      ],
      "text/plain": [
       "            coef   se(coef)  lower 95% bound  upper 95% bound\n",
       "r       0.826433   0.026780         0.773944         0.878922\n",
       "alpha  68.890678   2.611055        63.773011        74.008345\n",
       "a       0.003443   0.010347        -0.016837         0.023722\n",
       "b       6.749363  22.412933       -37.179985        50.678711"
      ]
     },
     "execution_count": 19,
     "metadata": {},
     "output_type": "execute_result"
    }
   ],
   "source": [
    "bgf = BetaGeoFitter(penalizer_coef=0)\n",
    "bgf.fit(df_rfmt['frequency'], df_rfmt['recency'], df_rfmt['T'])\n",
    "bgf.summary"
   ]
  },
  {
   "cell_type": "markdown",
   "metadata": {},
   "source": [
    "- `plot_frequency_recency_matrix()` is to create predictions and visualise once the BG/NBD model has been fitted to the data. \n",
    "- The matrix has \n",
    "    - The customer’s **recency** on the Y axis \n",
    "    - The **frequency** on the X axis \n",
    "    - The heatmap component is showing the predicted number of future purchases customers at intersecting points will make in one unit of time. \n",
    "- The customers most likely to order are those who’ve placed lots of previous orders and have been seen relatively recently.\n",
    "\n"
   ]
  },
  {
   "cell_type": "code",
   "execution_count": 20,
   "metadata": {},
   "outputs": [],
   "source": [
    "# plt.figure(num=None, figsize=(8, 8), dpi=80, facecolor='w', edgecolor='k')\n",
    "\n",
    "# plot_frequency_recency_matrix(bgf)\n",
    "# plt.show()"
   ]
  },
  {
   "cell_type": "markdown",
   "metadata": {},
   "source": [
    "- Plot the probability that each customer is \"alive\" based on their frequency and recency."
   ]
  },
  {
   "cell_type": "code",
   "execution_count": 21,
   "metadata": {},
   "outputs": [],
   "source": [
    "# plt.figure(num=None, figsize=(8, 8), dpi=80, facecolor='w', edgecolor='k')\n",
    "\n",
    "# plot_probability_alive_matrix(bgf)\n",
    "# plt.show()"
   ]
  },
  {
   "cell_type": "markdown",
   "metadata": {},
   "source": [
    "### Predict the number of orders each customer will make during a time period\n",
    "- Use the BG/NBD model data to predict the number of purchases each customer will make in some forthcoming periods."
   ]
  },
  {
   "cell_type": "code",
   "execution_count": 22,
   "metadata": {},
   "outputs": [],
   "source": [
    "# set t to 90 so we predicted for the 90 days after the end of the observation period\n",
    "t = 90\n",
    "df_rfmt['predicted_purchases'] = bgf.conditional_expected_number_of_purchases_up_to_time(t, \n",
    "                                                                                      df_rfmt['frequency'], \n",
    "                                                                                      df_rfmt['recency'], \n",
    "                                                                                      df_rfmt['T'])"
   ]
  },
  {
   "cell_type": "code",
   "execution_count": 23,
   "metadata": {},
   "outputs": [
    {
     "data": {
      "text/html": [
       "<div>\n",
       "<style scoped>\n",
       "    .dataframe tbody tr th:only-of-type {\n",
       "        vertical-align: middle;\n",
       "    }\n",
       "\n",
       "    .dataframe tbody tr th {\n",
       "        vertical-align: top;\n",
       "    }\n",
       "\n",
       "    .dataframe thead th {\n",
       "        text-align: right;\n",
       "    }\n",
       "</style>\n",
       "<table border=\"1\" class=\"dataframe\">\n",
       "  <thead>\n",
       "    <tr style=\"text-align: right;\">\n",
       "      <th></th>\n",
       "      <th>frequency</th>\n",
       "      <th>recency</th>\n",
       "      <th>T</th>\n",
       "      <th>monetary_value</th>\n",
       "      <th>predicted_purchases</th>\n",
       "    </tr>\n",
       "    <tr>\n",
       "      <th>customer_id</th>\n",
       "      <th></th>\n",
       "      <th></th>\n",
       "      <th></th>\n",
       "      <th></th>\n",
       "      <th></th>\n",
       "    </tr>\n",
       "  </thead>\n",
       "  <tbody>\n",
       "    <tr>\n",
       "      <th>16422</th>\n",
       "      <td>47.0</td>\n",
       "      <td>352.0</td>\n",
       "      <td>369.0</td>\n",
       "      <td>702.472340</td>\n",
       "      <td>9.822565</td>\n",
       "    </tr>\n",
       "    <tr>\n",
       "      <th>13798</th>\n",
       "      <td>52.0</td>\n",
       "      <td>371.0</td>\n",
       "      <td>372.0</td>\n",
       "      <td>706.650962</td>\n",
       "      <td>10.779581</td>\n",
       "    </tr>\n",
       "    <tr>\n",
       "      <th>14527</th>\n",
       "      <td>53.0</td>\n",
       "      <td>367.0</td>\n",
       "      <td>369.0</td>\n",
       "      <td>155.016415</td>\n",
       "      <td>11.058774</td>\n",
       "    </tr>\n",
       "    <tr>\n",
       "      <th>13089</th>\n",
       "      <td>65.0</td>\n",
       "      <td>367.0</td>\n",
       "      <td>369.0</td>\n",
       "      <td>893.714308</td>\n",
       "      <td>13.524270</td>\n",
       "    </tr>\n",
       "    <tr>\n",
       "      <th>12971</th>\n",
       "      <td>70.0</td>\n",
       "      <td>369.0</td>\n",
       "      <td>372.0</td>\n",
       "      <td>159.211286</td>\n",
       "      <td>14.452417</td>\n",
       "    </tr>\n",
       "    <tr>\n",
       "      <th>14606</th>\n",
       "      <td>88.0</td>\n",
       "      <td>372.0</td>\n",
       "      <td>373.0</td>\n",
       "      <td>135.890114</td>\n",
       "      <td>18.084835</td>\n",
       "    </tr>\n",
       "    <tr>\n",
       "      <th>15311</th>\n",
       "      <td>89.0</td>\n",
       "      <td>373.0</td>\n",
       "      <td>373.0</td>\n",
       "      <td>677.729438</td>\n",
       "      <td>18.288586</td>\n",
       "    </tr>\n",
       "    <tr>\n",
       "      <th>17841</th>\n",
       "      <td>111.0</td>\n",
       "      <td>372.0</td>\n",
       "      <td>373.0</td>\n",
       "      <td>364.452162</td>\n",
       "      <td>22.767661</td>\n",
       "    </tr>\n",
       "    <tr>\n",
       "      <th>12748</th>\n",
       "      <td>113.0</td>\n",
       "      <td>373.0</td>\n",
       "      <td>373.0</td>\n",
       "      <td>298.360885</td>\n",
       "      <td>23.175061</td>\n",
       "    </tr>\n",
       "    <tr>\n",
       "      <th>14911</th>\n",
       "      <td>131.0</td>\n",
       "      <td>372.0</td>\n",
       "      <td>373.0</td>\n",
       "      <td>1093.661679</td>\n",
       "      <td>26.839684</td>\n",
       "    </tr>\n",
       "  </tbody>\n",
       "</table>\n",
       "</div>"
      ],
      "text/plain": [
       "             frequency  recency      T  monetary_value  predicted_purchases\n",
       "customer_id                                                                \n",
       "16422             47.0    352.0  369.0      702.472340             9.822565\n",
       "13798             52.0    371.0  372.0      706.650962            10.779581\n",
       "14527             53.0    367.0  369.0      155.016415            11.058774\n",
       "13089             65.0    367.0  369.0      893.714308            13.524270\n",
       "12971             70.0    369.0  372.0      159.211286            14.452417\n",
       "14606             88.0    372.0  373.0      135.890114            18.084835\n",
       "15311             89.0    373.0  373.0      677.729438            18.288586\n",
       "17841            111.0    372.0  373.0      364.452162            22.767661\n",
       "12748            113.0    373.0  373.0      298.360885            23.175061\n",
       "14911            131.0    372.0  373.0     1093.661679            26.839684"
      ]
     },
     "execution_count": 23,
     "metadata": {},
     "output_type": "execute_result"
    }
   ],
   "source": [
    "df_rfmt.sort_values(by='predicted_purchases').tail(10)"
   ]
  },
  {
   "cell_type": "markdown",
   "metadata": {},
   "source": [
    "- Most customers in the dataset aren’t going to order in the next 90 days.\n",
    "- Obviously, this is based only on the customers in the dataset, so this prediction wouldn’t include any customers acquired since then or during the 90 day period, so will be higher in reality."
   ]
  },
  {
   "cell_type": "code",
   "execution_count": 24,
   "metadata": {},
   "outputs": [
    {
     "data": {
      "image/png": "[encoded data removed]",
      "text/plain": [
       "<Figure size 640x480 with 1 Axes>"
      ]
     },
     "metadata": {},
     "output_type": "display_data"
    }
   ],
   "source": [
    "sns.histplot(df_rfmt['predicted_purchases'], stat='density');"
   ]
  },
  {
   "cell_type": "markdown",
   "metadata": {},
   "source": [
    "- `plot_period_transactions()` function will compare the actual observations from a previous time period to the model’s prediction for that time period. As you can see, the two are almost identical, which shows that the model is a very good fit and predicts the number of periods in the calibration period quite well."
   ]
  },
  {
   "cell_type": "code",
   "execution_count": 25,
   "metadata": {},
   "outputs": [
    {
     "data": {
      "image/png": "[encoded data removed]",
      "text/plain": [
       "<Figure size 640x480 with 1 Axes>"
      ]
     },
     "metadata": {},
     "output_type": "display_data"
    }
   ],
   "source": [
    "plot_period_transactions(bgf);"
   ]
  },
  {
   "cell_type": "markdown",
   "metadata": {},
   "source": [
    "### Using a holdout group\n",
    "- The **calibration period** starts from the date of the first transaction in your dataset and ends here on 2011-10-10. \n",
    "- The **observation period** starts from 2011-10-10 and this ends on 2011-12-09.\n",
    "- `frequency_holdout` value containing the actual number of orders they placed in the holdout period."
   ]
  },
  {
   "cell_type": "code",
   "execution_count": 26,
   "metadata": {},
   "outputs": [
    {
     "data": {
      "text/plain": [
       "count                            18566\n",
       "mean     2011-07-01 14:04:43.983625984\n",
       "min                2010-12-01 08:26:00\n",
       "25%                2011-03-30 13:56:15\n",
       "50%                2011-07-12 14:37:00\n",
       "75%                2011-10-12 13:16:15\n",
       "max                2011-12-09 12:50:00\n",
       "Name: invoice_date, dtype: object"
      ]
     },
     "execution_count": 26,
     "metadata": {},
     "output_type": "execute_result"
    }
   ],
   "source": [
    "df_orders['invoice_date'].describe()"
   ]
  },
  {
   "cell_type": "code",
   "execution_count": 27,
   "metadata": {},
   "outputs": [
    {
     "data": {
      "text/plain": [
       "0.7381234514704298"
      ]
     },
     "execution_count": 27,
     "metadata": {},
     "output_type": "execute_result"
    }
   ],
   "source": [
    "df_orders.query(\"invoice_date <= '2011-10-10'\").shape[0] / df_orders.shape[0]"
   ]
  },
  {
   "cell_type": "code",
   "execution_count": 40,
   "metadata": {},
   "outputs": [],
   "source": [
    "summary_cal_holdout = calibration_and_holdout_data(df_orders, \n",
    "                                                   'customer_id', \n",
    "                                                   'invoice_date',\n",
    "                                                    calibration_period_end='2011-10-10',\n",
    "                                                    observation_period_end='2011-12-09')"
   ]
  },
  {
   "cell_type": "code",
   "execution_count": 41,
   "metadata": {},
   "outputs": [
    {
     "data": {
      "text/html": [
       "<div>\n",
       "<style scoped>\n",
       "    .dataframe tbody tr th:only-of-type {\n",
       "        vertical-align: middle;\n",
       "    }\n",
       "\n",
       "    .dataframe tbody tr th {\n",
       "        vertical-align: top;\n",
       "    }\n",
       "\n",
       "    .dataframe thead th {\n",
       "        text-align: right;\n",
       "    }\n",
       "</style>\n",
       "<table border=\"1\" class=\"dataframe\">\n",
       "  <thead>\n",
       "    <tr style=\"text-align: right;\">\n",
       "      <th></th>\n",
       "      <th>frequency_cal</th>\n",
       "      <th>recency_cal</th>\n",
       "      <th>T_cal</th>\n",
       "      <th>frequency_holdout</th>\n",
       "      <th>duration_holdout</th>\n",
       "    </tr>\n",
       "    <tr>\n",
       "      <th>customer_id</th>\n",
       "      <th></th>\n",
       "      <th></th>\n",
       "      <th></th>\n",
       "      <th></th>\n",
       "      <th></th>\n",
       "    </tr>\n",
       "  </thead>\n",
       "  <tbody>\n",
       "    <tr>\n",
       "      <th>14911</th>\n",
       "      <td>95.0</td>\n",
       "      <td>310.0</td>\n",
       "      <td>313.0</td>\n",
       "      <td>36.0</td>\n",
       "      <td>60.0</td>\n",
       "    </tr>\n",
       "    <tr>\n",
       "      <th>12748</th>\n",
       "      <td>84.0</td>\n",
       "      <td>312.0</td>\n",
       "      <td>313.0</td>\n",
       "      <td>28.0</td>\n",
       "      <td>60.0</td>\n",
       "    </tr>\n",
       "    <tr>\n",
       "      <th>17841</th>\n",
       "      <td>85.0</td>\n",
       "      <td>310.0</td>\n",
       "      <td>313.0</td>\n",
       "      <td>26.0</td>\n",
       "      <td>60.0</td>\n",
       "    </tr>\n",
       "    <tr>\n",
       "      <th>15311</th>\n",
       "      <td>70.0</td>\n",
       "      <td>310.0</td>\n",
       "      <td>313.0</td>\n",
       "      <td>18.0</td>\n",
       "      <td>60.0</td>\n",
       "    </tr>\n",
       "    <tr>\n",
       "      <th>14606</th>\n",
       "      <td>72.0</td>\n",
       "      <td>307.0</td>\n",
       "      <td>313.0</td>\n",
       "      <td>16.0</td>\n",
       "      <td>60.0</td>\n",
       "    </tr>\n",
       "  </tbody>\n",
       "</table>\n",
       "</div>"
      ],
      "text/plain": [
       "             frequency_cal  recency_cal  T_cal  frequency_holdout  \\\n",
       "customer_id                                                         \n",
       "14911                 95.0        310.0  313.0               36.0   \n",
       "12748                 84.0        312.0  313.0               28.0   \n",
       "17841                 85.0        310.0  313.0               26.0   \n",
       "15311                 70.0        310.0  313.0               18.0   \n",
       "14606                 72.0        307.0  313.0               16.0   \n",
       "\n",
       "             duration_holdout  \n",
       "customer_id                    \n",
       "14911                    60.0  \n",
       "12748                    60.0  \n",
       "17841                    60.0  \n",
       "15311                    60.0  \n",
       "14606                    60.0  "
      ]
     },
     "execution_count": 41,
     "metadata": {},
     "output_type": "execute_result"
    }
   ],
   "source": [
    "summary_cal_holdout.sort_values(by='frequency_holdout', ascending=False).head()"
   ]
  },
  {
   "cell_type": "code",
   "execution_count": 42,
   "metadata": {},
   "outputs": [
    {
     "data": {
      "text/plain": [
       "<lifetimes.BetaGeoFitter: fitted with 3721 subjects, a: 0.00, alpha: 69.89, b: 15536.39, r: 0.76>"
      ]
     },
     "execution_count": 42,
     "metadata": {},
     "output_type": "execute_result"
    }
   ],
   "source": [
    "# Re-fit the model on the calibration period\n",
    "bgf.fit(summary_cal_holdout['frequency_cal'], \n",
    "        summary_cal_holdout['recency_cal'], \n",
    "        summary_cal_holdout['T_cal'])"
   ]
  },
  {
   "cell_type": "markdown",
   "metadata": {},
   "source": [
    "- `plot_calibration_purchases_vs_holdout_purchases()` to plot the predicted frequency of orders in the holdout period to the actual value."
   ]
  },
  {
   "cell_type": "code",
   "execution_count": 43,
   "metadata": {},
   "outputs": [
    {
     "data": {
      "image/png": "[encoded data removed]",
      "text/plain": [
       "<Figure size 640x480 with 1 Axes>"
      ]
     },
     "metadata": {},
     "output_type": "display_data"
    }
   ],
   "source": [
    "plot_calibration_purchases_vs_holdout_purchases(bgf, summary_cal_holdout);"
   ]
  },
  {
   "cell_type": "markdown",
   "metadata": {},
   "source": [
    "### Get predictions for a specific customer\n",
    "- The customer in the index 1 should place 5.65 orders in the next 365 days"
   ]
  },
  {
   "cell_type": "code",
   "execution_count": 44,
   "metadata": {},
   "outputs": [
    {
     "data": {
      "text/plain": [
       "5.6514714519129905"
      ]
     },
     "execution_count": 44,
     "metadata": {},
     "output_type": "execute_result"
    }
   ],
   "source": [
    "t = 365\n",
    "individual = df_rfmt.iloc[1]\n",
    "bgf.predict(t, \n",
    "            individual['frequency'], \n",
    "            individual['recency'], \n",
    "            individual['T'])"
   ]
  },
  {
   "cell_type": "markdown",
   "metadata": {},
   "source": [
    "### Plot customer probability history\n",
    "- One of the main concepts of CLV models, like Buy Till You Die (BTYD) is that active customers will purchase “randomly” around their mean transaction rate.\n",
    "    - For example: if a customer shops every 30 days on average, their orders might come every 20-40 days"
   ]
  },
  {
   "cell_type": "markdown",
   "metadata": {},
   "source": [
    "- Customer 12347 from our original dataset, we can see that they’ve placed 7 orders since they were first acquired on 2010-12-07 about 365 days ago."
   ]
  },
  {
   "cell_type": "code",
   "execution_count": 65,
   "metadata": {},
   "outputs": [
    {
     "data": {
      "text/html": [
       "<div>\n",
       "<style scoped>\n",
       "    .dataframe tbody tr th:only-of-type {\n",
       "        vertical-align: middle;\n",
       "    }\n",
       "\n",
       "    .dataframe tbody tr th {\n",
       "        vertical-align: top;\n",
       "    }\n",
       "\n",
       "    .dataframe thead th {\n",
       "        text-align: right;\n",
       "    }\n",
       "</style>\n",
       "<table border=\"1\" class=\"dataframe\">\n",
       "  <thead>\n",
       "    <tr style=\"text-align: right;\">\n",
       "      <th></th>\n",
       "      <th>invoice_no</th>\n",
       "      <th>customer_id</th>\n",
       "      <th>invoice_date</th>\n",
       "      <th>total_revenue</th>\n",
       "    </tr>\n",
       "  </thead>\n",
       "  <tbody>\n",
       "    <tr>\n",
       "      <th>549</th>\n",
       "      <td>537626</td>\n",
       "      <td>12347</td>\n",
       "      <td>2010-12-07 14:57:00</td>\n",
       "      <td>711.79</td>\n",
       "    </tr>\n",
       "    <tr>\n",
       "      <th>2212</th>\n",
       "      <td>542237</td>\n",
       "      <td>12347</td>\n",
       "      <td>2011-01-26 14:30:00</td>\n",
       "      <td>475.39</td>\n",
       "    </tr>\n",
       "    <tr>\n",
       "      <th>4957</th>\n",
       "      <td>549222</td>\n",
       "      <td>12347</td>\n",
       "      <td>2011-04-07 10:43:00</td>\n",
       "      <td>636.25</td>\n",
       "    </tr>\n",
       "    <tr>\n",
       "      <th>7867</th>\n",
       "      <td>556201</td>\n",
       "      <td>12347</td>\n",
       "      <td>2011-06-09 13:01:00</td>\n",
       "      <td>382.52</td>\n",
       "    </tr>\n",
       "    <tr>\n",
       "      <th>10197</th>\n",
       "      <td>562032</td>\n",
       "      <td>12347</td>\n",
       "      <td>2011-08-02 08:48:00</td>\n",
       "      <td>584.91</td>\n",
       "    </tr>\n",
       "    <tr>\n",
       "      <th>15094</th>\n",
       "      <td>573511</td>\n",
       "      <td>12347</td>\n",
       "      <td>2011-10-31 12:25:00</td>\n",
       "      <td>1294.32</td>\n",
       "    </tr>\n",
       "    <tr>\n",
       "      <th>18397</th>\n",
       "      <td>581180</td>\n",
       "      <td>12347</td>\n",
       "      <td>2011-12-07 15:52:00</td>\n",
       "      <td>224.82</td>\n",
       "    </tr>\n",
       "  </tbody>\n",
       "</table>\n",
       "</div>"
      ],
      "text/plain": [
       "       invoice_no customer_id        invoice_date  total_revenue\n",
       "549        537626       12347 2010-12-07 14:57:00         711.79\n",
       "2212       542237       12347 2011-01-26 14:30:00         475.39\n",
       "4957       549222       12347 2011-04-07 10:43:00         636.25\n",
       "7867       556201       12347 2011-06-09 13:01:00         382.52\n",
       "10197      562032       12347 2011-08-02 08:48:00         584.91\n",
       "15094      573511       12347 2011-10-31 12:25:00        1294.32\n",
       "18397      581180       12347 2011-12-07 15:52:00         224.82"
      ]
     },
     "execution_count": 65,
     "metadata": {},
     "output_type": "execute_result"
    }
   ],
   "source": [
    "example_customer_orders = df_orders.loc[df_orders['customer_id'] == \"12347\"]\n",
    "example_customer_orders"
   ]
  },
  {
   "cell_type": "code",
   "execution_count": 67,
   "metadata": {},
   "outputs": [],
   "source": [
    "# days_since_birth = 365\n",
    "# plot_history_alive(bgf, days_since_birth, example_customer_orders, 'invoice_date')"
   ]
  },
  {
   "cell_type": "markdown",
   "metadata": {},
   "source": [
    "## Gamma-Gamma Model\n",
    "- Gamma-Gamma model was written by Peter Fader and Bruce Hardie in 2013 and was based on one of Fader’s earlier models for predicting spend.\n",
    "- Assumption: monetary value and frequency are independent variables and aren’t correlated with each other. \n",
    "- Goal: to predict the monetary value of the orders the customer will place"
   ]
  },
  {
   "cell_type": "code",
   "execution_count": 68,
   "metadata": {},
   "outputs": [
    {
     "data": {
      "text/html": [
       "<div>\n",
       "<style scoped>\n",
       "    .dataframe tbody tr th:only-of-type {\n",
       "        vertical-align: middle;\n",
       "    }\n",
       "\n",
       "    .dataframe tbody tr th {\n",
       "        vertical-align: top;\n",
       "    }\n",
       "\n",
       "    .dataframe thead th {\n",
       "        text-align: right;\n",
       "    }\n",
       "</style>\n",
       "<table border=\"1\" class=\"dataframe\">\n",
       "  <thead>\n",
       "    <tr style=\"text-align: right;\">\n",
       "      <th></th>\n",
       "      <th>frequency</th>\n",
       "      <th>recency</th>\n",
       "      <th>T</th>\n",
       "      <th>monetary_value</th>\n",
       "      <th>predicted_purchases</th>\n",
       "    </tr>\n",
       "    <tr>\n",
       "      <th>customer_id</th>\n",
       "      <th></th>\n",
       "      <th></th>\n",
       "      <th></th>\n",
       "      <th></th>\n",
       "      <th></th>\n",
       "    </tr>\n",
       "  </thead>\n",
       "  <tbody>\n",
       "    <tr>\n",
       "      <th>16446</th>\n",
       "      <td>1.0</td>\n",
       "      <td>205.0</td>\n",
       "      <td>205.0</td>\n",
       "      <td>168469.6000</td>\n",
       "      <td>0.599739</td>\n",
       "    </tr>\n",
       "    <tr>\n",
       "      <th>15749</th>\n",
       "      <td>1.0</td>\n",
       "      <td>97.0</td>\n",
       "      <td>332.0</td>\n",
       "      <td>21535.9000</td>\n",
       "      <td>0.408933</td>\n",
       "    </tr>\n",
       "    <tr>\n",
       "      <th>18102</th>\n",
       "      <td>25.0</td>\n",
       "      <td>367.0</td>\n",
       "      <td>367.0</td>\n",
       "      <td>9349.4772</td>\n",
       "      <td>5.330370</td>\n",
       "    </tr>\n",
       "    <tr>\n",
       "      <th>12536</th>\n",
       "      <td>1.0</td>\n",
       "      <td>16.0</td>\n",
       "      <td>59.0</td>\n",
       "      <td>8322.1200</td>\n",
       "      <td>1.283407</td>\n",
       "    </tr>\n",
       "    <tr>\n",
       "      <th>12415</th>\n",
       "      <td>15.0</td>\n",
       "      <td>313.0</td>\n",
       "      <td>337.0</td>\n",
       "      <td>7860.2100</td>\n",
       "      <td>3.506760</td>\n",
       "    </tr>\n",
       "  </tbody>\n",
       "</table>\n",
       "</div>"
      ],
      "text/plain": [
       "             frequency  recency      T  monetary_value  predicted_purchases\n",
       "customer_id                                                                \n",
       "16446              1.0    205.0  205.0     168469.6000             0.599739\n",
       "15749              1.0     97.0  332.0      21535.9000             0.408933\n",
       "18102             25.0    367.0  367.0       9349.4772             5.330370\n",
       "12536              1.0     16.0   59.0       8322.1200             1.283407\n",
       "12415             15.0    313.0  337.0       7860.2100             3.506760"
      ]
     },
     "execution_count": 68,
     "metadata": {},
     "output_type": "execute_result"
    }
   ],
   "source": [
    "returning_customers = df_rfmt[ (df_rfmt['frequency'] > 0) & (df_rfmt['monetary_value'] > 0)]\n",
    "returning_customers.sort_values(by='monetary_value', ascending=False).head()"
   ]
  },
  {
   "cell_type": "code",
   "execution_count": 69,
   "metadata": {},
   "outputs": [
    {
     "data": {
      "text/html": [
       "<div>\n",
       "<style scoped>\n",
       "    .dataframe tbody tr th:only-of-type {\n",
       "        vertical-align: middle;\n",
       "    }\n",
       "\n",
       "    .dataframe tbody tr th {\n",
       "        vertical-align: top;\n",
       "    }\n",
       "\n",
       "    .dataframe thead th {\n",
       "        text-align: right;\n",
       "    }\n",
       "</style>\n",
       "<table border=\"1\" class=\"dataframe\">\n",
       "  <thead>\n",
       "    <tr style=\"text-align: right;\">\n",
       "      <th></th>\n",
       "      <th>monetary_value</th>\n",
       "      <th>frequency</th>\n",
       "    </tr>\n",
       "  </thead>\n",
       "  <tbody>\n",
       "    <tr>\n",
       "      <th>monetary_value</th>\n",
       "      <td>1.000000</td>\n",
       "      <td>0.015882</td>\n",
       "    </tr>\n",
       "    <tr>\n",
       "      <th>frequency</th>\n",
       "      <td>0.015882</td>\n",
       "      <td>1.000000</td>\n",
       "    </tr>\n",
       "  </tbody>\n",
       "</table>\n",
       "</div>"
      ],
      "text/plain": [
       "                monetary_value  frequency\n",
       "monetary_value        1.000000   0.015882\n",
       "frequency             0.015882   1.000000"
      ]
     },
     "execution_count": 69,
     "metadata": {},
     "output_type": "execute_result"
    }
   ],
   "source": [
    "returning_customers[['monetary_value', 'frequency']].corr()"
   ]
  },
  {
   "cell_type": "code",
   "execution_count": 70,
   "metadata": {},
   "outputs": [
    {
     "data": {
      "text/plain": [
       "<lifetimes.GammaGammaFitter: fitted with 2790 subjects, p: 2.10, q: 3.45, v: 485.57>"
      ]
     },
     "execution_count": 70,
     "metadata": {},
     "output_type": "execute_result"
    }
   ],
   "source": [
    "from lifetimes import GammaGammaFitter\n",
    "\n",
    "ggf = GammaGammaFitter(penalizer_coef = 0)\n",
    "ggf.fit(returning_customers['frequency'],\n",
    "        returning_customers['monetary_value'])"
   ]
  },
  {
   "cell_type": "code",
   "execution_count": 72,
   "metadata": {},
   "outputs": [],
   "source": [
    "# predicted average order value (aov) for each customer. \n",
    "predicted_monetary = ggf.conditional_expected_average_profit(\n",
    "        returning_customers['frequency'],\n",
    "        returning_customers['monetary_value']\n",
    ")\n",
    "aov_df = pd.DataFrame(predicted_monetary,columns = ['aov'])\n",
    "aov_df = aov_df.sort_values(by='aov', ascending=False)"
   ]
  },
  {
   "cell_type": "code",
   "execution_count": 73,
   "metadata": {},
   "outputs": [
    {
     "data": {
      "text/html": [
       "<div>\n",
       "<style scoped>\n",
       "    .dataframe tbody tr th:only-of-type {\n",
       "        vertical-align: middle;\n",
       "    }\n",
       "\n",
       "    .dataframe tbody tr th {\n",
       "        vertical-align: top;\n",
       "    }\n",
       "\n",
       "    .dataframe thead th {\n",
       "        text-align: right;\n",
       "    }\n",
       "</style>\n",
       "<table border=\"1\" class=\"dataframe\">\n",
       "  <thead>\n",
       "    <tr style=\"text-align: right;\">\n",
       "      <th></th>\n",
       "      <th>aov</th>\n",
       "    </tr>\n",
       "    <tr>\n",
       "      <th>customer_id</th>\n",
       "      <th></th>\n",
       "    </tr>\n",
       "  </thead>\n",
       "  <tbody>\n",
       "    <tr>\n",
       "      <th>16446</th>\n",
       "      <td>78051.285456</td>\n",
       "    </tr>\n",
       "    <tr>\n",
       "      <th>15749</th>\n",
       "      <td>10173.137080</td>\n",
       "    </tr>\n",
       "    <tr>\n",
       "      <th>18102</th>\n",
       "      <td>8951.861919</td>\n",
       "    </tr>\n",
       "    <tr>\n",
       "      <th>12415</th>\n",
       "      <td>7323.918818</td>\n",
       "    </tr>\n",
       "    <tr>\n",
       "      <th>17450</th>\n",
       "      <td>7105.093878</td>\n",
       "    </tr>\n",
       "  </tbody>\n",
       "</table>\n",
       "</div>"
      ],
      "text/plain": [
       "                      aov\n",
       "customer_id              \n",
       "16446        78051.285456\n",
       "15749        10173.137080\n",
       "18102         8951.861919\n",
       "12415         7323.918818\n",
       "17450         7105.093878"
      ]
     },
     "execution_count": 73,
     "metadata": {},
     "output_type": "execute_result"
    }
   ],
   "source": [
    "aov_df.head()"
   ]
  },
  {
   "cell_type": "markdown",
   "metadata": {},
   "source": [
    "- Average Order Value (AOV) plot: Most of our customers are going to spend only a modest amount, but there’s a long-tail of higher value customers and a little group of really big spenders on the far right."
   ]
  },
  {
   "cell_type": "code",
   "execution_count": 75,
   "metadata": {},
   "outputs": [
    {
     "data": {
      "image/png": "[encoded data removed]",
      "text/plain": [
       "<Figure size 640x480 with 1 Axes>"
      ]
     },
     "metadata": {},
     "output_type": "display_data"
    }
   ],
   "source": [
    "ax = sns.histplot(aov_df['aov'], stat='density');"
   ]
  },
  {
   "cell_type": "markdown",
   "metadata": {},
   "source": [
    "### Segment customers by their Average Order Value (AOV)"
   ]
  },
  {
   "cell_type": "markdown",
   "metadata": {},
   "source": [
    "#### Method 1: Quantile-based discretization or Binning\n",
    "- Bin 1 contains the low CLV customers who have an average value of £220.87, the averages go up in each bin, \n",
    "- Bin 5 has the highest CLV customers with an average value of £995.95. \n",
    "    - However, there’s quite a spread at Bin 5, where it includes customers from £480.89 to £78051.28\n",
    "- This is a long-tail distribution &#8594; K-mean clustering"
   ]
  },
  {
   "cell_type": "code",
   "execution_count": 76,
   "metadata": {},
   "outputs": [],
   "source": [
    "aov_df['aov_bin'] = pd.qcut(aov_df['aov'], q=5, labels=[1, 2, 3, 4, 5])\n",
    "aov_df = aov_df.reset_index()"
   ]
  },
  {
   "cell_type": "code",
   "execution_count": 80,
   "metadata": {},
   "outputs": [
    {
     "data": {
      "text/html": [
       "<div>\n",
       "<style scoped>\n",
       "    .dataframe tbody tr th:only-of-type {\n",
       "        vertical-align: middle;\n",
       "    }\n",
       "\n",
       "    .dataframe tbody tr th {\n",
       "        vertical-align: top;\n",
       "    }\n",
       "\n",
       "    .dataframe thead th {\n",
       "        text-align: right;\n",
       "    }\n",
       "</style>\n",
       "<table border=\"1\" class=\"dataframe\">\n",
       "  <thead>\n",
       "    <tr style=\"text-align: right;\">\n",
       "      <th></th>\n",
       "      <th>count</th>\n",
       "      <th>min_aov</th>\n",
       "      <th>max_aov</th>\n",
       "      <th>std_aov</th>\n",
       "      <th>mean_aov</th>\n",
       "    </tr>\n",
       "    <tr>\n",
       "      <th>aov_bin</th>\n",
       "      <th></th>\n",
       "      <th></th>\n",
       "      <th></th>\n",
       "      <th></th>\n",
       "      <th></th>\n",
       "    </tr>\n",
       "  </thead>\n",
       "  <tbody>\n",
       "    <tr>\n",
       "      <th>1</th>\n",
       "      <td>558</td>\n",
       "      <td>47.048956</td>\n",
       "      <td>262.414928</td>\n",
       "      <td>33.087555</td>\n",
       "      <td>220.876536</td>\n",
       "    </tr>\n",
       "    <tr>\n",
       "      <th>2</th>\n",
       "      <td>558</td>\n",
       "      <td>262.728865</td>\n",
       "      <td>315.218776</td>\n",
       "      <td>14.721693</td>\n",
       "      <td>288.545256</td>\n",
       "    </tr>\n",
       "    <tr>\n",
       "      <th>3</th>\n",
       "      <td>558</td>\n",
       "      <td>315.231126</td>\n",
       "      <td>378.261066</td>\n",
       "      <td>18.114800</td>\n",
       "      <td>346.538339</td>\n",
       "    </tr>\n",
       "    <tr>\n",
       "      <th>4</th>\n",
       "      <td>558</td>\n",
       "      <td>378.441724</td>\n",
       "      <td>480.345312</td>\n",
       "      <td>29.050575</td>\n",
       "      <td>420.939367</td>\n",
       "    </tr>\n",
       "    <tr>\n",
       "      <th>5</th>\n",
       "      <td>558</td>\n",
       "      <td>480.893801</td>\n",
       "      <td>78051.285456</td>\n",
       "      <td>3374.574619</td>\n",
       "      <td>995.951175</td>\n",
       "    </tr>\n",
       "  </tbody>\n",
       "</table>\n",
       "</div>"
      ],
      "text/plain": [
       "         count     min_aov       max_aov      std_aov    mean_aov\n",
       "aov_bin                                                          \n",
       "1          558   47.048956    262.414928    33.087555  220.876536\n",
       "2          558  262.728865    315.218776    14.721693  288.545256\n",
       "3          558  315.231126    378.261066    18.114800  346.538339\n",
       "4          558  378.441724    480.345312    29.050575  420.939367\n",
       "5          558  480.893801  78051.285456  3374.574619  995.951175"
      ]
     },
     "execution_count": 80,
     "metadata": {},
     "output_type": "execute_result"
    }
   ],
   "source": [
    "aov_df.groupby('aov_bin').agg(\n",
    "    count=('customer_id', 'count'),\n",
    "    min_aov=('aov', min),\n",
    "    max_aov=('aov', max),\n",
    "    std_aov=('aov', 'std'),    \n",
    "    mean_aov=('aov', 'mean')\n",
    ").sort_values(by='mean_aov')"
   ]
  },
  {
   "cell_type": "markdown",
   "metadata": {},
   "source": [
    "#### Method 2: K-means Clustering\n",
    "- Note: cluster numbers aren’t sorted in order, you can clearly see the differences in AOV across the five clusters. \n",
    "- Cluster 4 contains low spenders, averaging ~£329.96 per order, while clusters 1 and 2 include some very big spenders."
   ]
  },
  {
   "cell_type": "code",
   "execution_count": 84,
   "metadata": {},
   "outputs": [
    {
     "data": {
      "text/html": [
       "<div>\n",
       "<style scoped>\n",
       "    .dataframe tbody tr th:only-of-type {\n",
       "        vertical-align: middle;\n",
       "    }\n",
       "\n",
       "    .dataframe tbody tr th {\n",
       "        vertical-align: top;\n",
       "    }\n",
       "\n",
       "    .dataframe thead th {\n",
       "        text-align: right;\n",
       "    }\n",
       "</style>\n",
       "<table border=\"1\" class=\"dataframe\">\n",
       "  <thead>\n",
       "    <tr style=\"text-align: right;\">\n",
       "      <th></th>\n",
       "      <th>aov</th>\n",
       "    </tr>\n",
       "    <tr>\n",
       "      <th>cluster</th>\n",
       "      <th></th>\n",
       "    </tr>\n",
       "  </thead>\n",
       "  <tbody>\n",
       "    <tr>\n",
       "      <th>4</th>\n",
       "      <td>329.967945</td>\n",
       "    </tr>\n",
       "    <tr>\n",
       "      <th>0</th>\n",
       "      <td>752.552292</td>\n",
       "    </tr>\n",
       "    <tr>\n",
       "      <th>3</th>\n",
       "      <td>2340.657131</td>\n",
       "    </tr>\n",
       "    <tr>\n",
       "      <th>2</th>\n",
       "      <td>7953.457890</td>\n",
       "    </tr>\n",
       "    <tr>\n",
       "      <th>1</th>\n",
       "      <td>78051.285456</td>\n",
       "    </tr>\n",
       "  </tbody>\n",
       "</table>\n",
       "</div>"
      ],
      "text/plain": [
       "                  aov\n",
       "cluster              \n",
       "4          329.967945\n",
       "0          752.552292\n",
       "3         2340.657131\n",
       "2         7953.457890\n",
       "1        78051.285456"
      ]
     },
     "execution_count": 84,
     "metadata": {},
     "output_type": "execute_result"
    }
   ],
   "source": [
    "from sklearn.cluster import KMeans\n",
    "\n",
    "aov_clusters = aov_df[['aov']]\n",
    "kmeans = KMeans(n_clusters=5)\n",
    "kmeans.fit(aov_clusters)\n",
    "\n",
    "aov_clusters = aov_clusters.assign(cluster=kmeans.labels_)\n",
    "unsorted_aov = aov_clusters.groupby('cluster')['aov'].mean().sort_values(ascending=True).to_frame()\n",
    "unsorted_aov"
   ]
  },
  {
   "cell_type": "code",
   "execution_count": null,
   "metadata": {},
   "outputs": [],
   "source": [
    "# plt.figure(figsize=(8,8))\n",
    "# sns.scatterplot(data = aov_clusters, x='frequency', y='monetary', hue='clusters')"
   ]
  },
  {
   "cell_type": "markdown",
   "metadata": {},
   "source": [
    "## Customer Lifetime Value\n",
    "- BG/NBD model to predict the number of orders \n",
    "- Gamma-Gamma model to predict their values using the Gamma-Gamma model’s `customer_lifetime_value()` function which requires\n",
    "    - `bgf` model\n",
    "    - the recency, frequency, monetary_value, and T data for each customers. \n",
    "    - The `time` parameter is in **months** and defines how many months into the future we wish to predict.\n",
    "    - `discount_rate` relates to discounted cash flow (DCF), which is a financial measure for adjusting the cost of capital. This is a monthly adjusted discount rate and uses a default value of 0.01 in this package. "
   ]
  },
  {
   "cell_type": "code",
   "execution_count": 87,
   "metadata": {},
   "outputs": [
    {
     "data": {
      "text/plain": [
       "<lifetimes.BetaGeoFitter: fitted with 2790 subjects, a: 0.01, alpha: 108.89, b: 0.16, r: 1.94>"
      ]
     },
     "execution_count": 87,
     "metadata": {},
     "output_type": "execute_result"
    }
   ],
   "source": [
    "# re-fit the BetaGeoFitter BG/NBD model to our dataset for the returning customers\n",
    "bgf.fit(returning_customers['frequency'], \n",
    "        returning_customers['recency'], \n",
    "        returning_customers['T'])"
   ]
  },
  {
   "cell_type": "code",
   "execution_count": 88,
   "metadata": {},
   "outputs": [],
   "source": [
    "# predicts your best customers to be over the next 12 months.\n",
    "preds = ggf.customer_lifetime_value(\n",
    "    bgf,\n",
    "    returning_customers['frequency'],\n",
    "    returning_customers['recency'],\n",
    "    returning_customers['T'],\n",
    "    returning_customers['monetary_value'],\n",
    "    time = 12,\n",
    "    discount_rate = 0.01\n",
    ")\n",
    "\n",
    "preds = preds.to_frame().reset_index()"
   ]
  },
  {
   "cell_type": "code",
   "execution_count": 90,
   "metadata": {},
   "outputs": [
    {
     "data": {
      "text/html": [
       "<div>\n",
       "<style scoped>\n",
       "    .dataframe tbody tr th:only-of-type {\n",
       "        vertical-align: middle;\n",
       "    }\n",
       "\n",
       "    .dataframe tbody tr th {\n",
       "        vertical-align: top;\n",
       "    }\n",
       "\n",
       "    .dataframe thead th {\n",
       "        text-align: right;\n",
       "    }\n",
       "</style>\n",
       "<table border=\"1\" class=\"dataframe\">\n",
       "  <thead>\n",
       "    <tr style=\"text-align: right;\">\n",
       "      <th></th>\n",
       "      <th>customer_id</th>\n",
       "      <th>clv</th>\n",
       "    </tr>\n",
       "  </thead>\n",
       "  <tbody>\n",
       "    <tr>\n",
       "      <th>1938</th>\n",
       "      <td>16446</td>\n",
       "      <td>231839.793106</td>\n",
       "    </tr>\n",
       "    <tr>\n",
       "      <th>1111</th>\n",
       "      <td>14646</td>\n",
       "      <td>207563.198151</td>\n",
       "    </tr>\n",
       "    <tr>\n",
       "      <th>2706</th>\n",
       "      <td>18102</td>\n",
       "      <td>170553.506139</td>\n",
       "    </tr>\n",
       "    <tr>\n",
       "      <th>2413</th>\n",
       "      <td>17450</td>\n",
       "      <td>140365.469522</td>\n",
       "    </tr>\n",
       "    <tr>\n",
       "      <th>834</th>\n",
       "      <td>14096</td>\n",
       "      <td>109633.219359</td>\n",
       "    </tr>\n",
       "  </tbody>\n",
       "</table>\n",
       "</div>"
      ],
      "text/plain": [
       "     customer_id            clv\n",
       "1938       16446  231839.793106\n",
       "1111       14646  207563.198151\n",
       "2706       18102  170553.506139\n",
       "2413       17450  140365.469522\n",
       "834        14096  109633.219359"
      ]
     },
     "execution_count": 90,
     "metadata": {},
     "output_type": "execute_result"
    }
   ],
   "source": [
    "preds.sort_values(by='clv', ascending=False).head()"
   ]
  },
  {
   "cell_type": "code",
   "execution_count": null,
   "metadata": {},
   "outputs": [],
   "source": []
  }
 ],
 "metadata": {
  "kernelspec": {
   "display_name": "ml_env",
   "language": "python",
   "name": "python3"
  },
  "language_info": {
   "codemirror_mode": {
    "name": "ipython",
    "version": 3
   },
   "file_extension": ".py",
   "mimetype": "text/x-python",
   "name": "python",
   "nbconvert_exporter": "python",
   "pygments_lexer": "ipython3",
   "version": "3.11.6"
  }
 },
 "nbformat": 4,
 "nbformat_minor": 2
}
