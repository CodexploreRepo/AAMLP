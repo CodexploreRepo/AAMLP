{
 "cells": [
  {
   "cell_type": "markdown",
   "metadata": {},
   "source": [
    "# Buy ‘Til You Die: Predict Customer Lifetime Value (CLV)\n",
    "- Goal: to predict the transaction frequency of customers and their churn risks.\n",
    "    - For example: A customer who used to purchase once every 20 days on average, but has remained inactive for 50 days, must be rated an increased churn risk. She may be on the brink of turning away from our business, towards a competitor’s product range. \n",
    "- **Buy ’Til You Die Models** (BTYD) : from the “birth” of a customer (when she places her first order with our business) to the day she “dies” (when she turns to a competitor and thus is dead to us, the enterprise she’s spurned).\n",
    "- In contractual settings, Customers sign term-limited contracts with internet providers, mobile phone networks, insurance companies, and subscription-based service providers. Enterprises in contractual settings can develop a much clearer view on customers that have a propensity to churn.\n",
    "    - Contractual churn problems, to which we can apply a battery of well-known models such as logistic regression, random forests, gradient boost approaches, and other classifiers.\n",
    "- In a non-contractual business environment, circumstances are more murky. \n",
    "    - Most classification models we typically apply to customer churn problems in contractual business settings are not applicable to non-contractual settings. Churn dates are not transparent.\n",
    "    - We need to analyze the purchase behavior of customers by making distributional assumptions. A probability model will also enable us to predict the purchase volume.\n",
    "- The model we are going to build will enable marketing teams to set the focus of their efforts on those customers for whom the model identifies a turning point.\n",
    "    - the Beta-Geometric/Negative Binomial (BG/NBD) model: to predict both the number of transactions and the churn risk (conversely, the probability of being alive) for each customer.\n",
    "    - the Gamma-Gamma model for estimating the customer lifetime value.\n",
    "    - Model outputs:\n",
    "        - **CLV** denotes the customer lifetime value: in this case, the revenues over a chosen period of time, for instance 12 months.\n",
    "        - The four predict columns forecast the **number of purchase transactions** we can expect over the next 10, 30, 60, and 90 days from each customer.\n",
    "        - `prob_alive` estimates the customer’s probability of being alive. Its complement `(1 — p)` is equivalent to the customer’s **churn risk**: of turning away from our business and favoring a competitor.\n",
    "\n",
    "\n",
    "- Reference:\n",
    "    - [Buy ‘Til You Die: Predict Customer Lifetime Value in Python](https://towardsdatascience.com/buy-til-you-die-predict-customer-lifetime-value-in-python-9701bfd4ddc0)"
   ]
  },
  {
   "cell_type": "code",
   "execution_count": 188,
   "metadata": {},
   "outputs": [],
   "source": [
    "import pandas as pd\n",
    "import numpy as np\n",
    "import matplotlib.pyplot as plt\n",
    "import seaborn as sns\n",
    "\n",
    "from sklearn.metrics import mean_absolute_percentage_error\n",
    "\n",
    "sns.set_theme(rc={'image.cmap': 'coolwarm'})\n",
    "pd.options.display.float_format = '{:,.2f}'.format\n",
    "\n",
    "\n",
    "from lifetimes.utils import (\n",
    "    summary_data_from_transaction_data, \n",
    "    calibration_and_holdout_data, \n",
    "    calculate_alive_path\n",
    "    )\n",
    "from lifetimes.plotting import (\n",
    "    plot_frequency_recency_matrix, \n",
    "    plot_probability_alive_matrix, \n",
    "    plot_period_transactions,\n",
    "    plot_calibration_purchases_vs_holdout_purchases,\n",
    "    plot_history_alive\n",
    ")\n",
    "\n",
    "import re\n",
    "from datetime import timedelta"
   ]
  },
  {
   "cell_type": "markdown",
   "metadata": {},
   "source": [
    "## 1. Data Prepration\n",
    "- Data Source: [Online Retail Transactions](https://archive.ics.uci.edu/dataset/352/online+retail)"
   ]
  },
  {
   "cell_type": "code",
   "execution_count": 81,
   "metadata": {},
   "outputs": [],
   "source": [
    "df = pd.read_excel(\"../../../data/common_datasets/online-retail.xlsx\")"
   ]
  },
  {
   "cell_type": "code",
   "execution_count": 82,
   "metadata": {},
   "outputs": [
    {
     "data": {
      "text/html": [
       "<div>\n",
       "<style scoped>\n",
       "    .dataframe tbody tr th:only-of-type {\n",
       "        vertical-align: middle;\n",
       "    }\n",
       "\n",
       "    .dataframe tbody tr th {\n",
       "        vertical-align: top;\n",
       "    }\n",
       "\n",
       "    .dataframe thead th {\n",
       "        text-align: right;\n",
       "    }\n",
       "</style>\n",
       "<table border=\"1\" class=\"dataframe\">\n",
       "  <thead>\n",
       "    <tr style=\"text-align: right;\">\n",
       "      <th></th>\n",
       "      <th>InvoiceNo</th>\n",
       "      <th>StockCode</th>\n",
       "      <th>Description</th>\n",
       "      <th>Quantity</th>\n",
       "      <th>InvoiceDate</th>\n",
       "      <th>UnitPrice</th>\n",
       "      <th>CustomerID</th>\n",
       "      <th>Country</th>\n",
       "    </tr>\n",
       "  </thead>\n",
       "  <tbody>\n",
       "    <tr>\n",
       "      <th>541904</th>\n",
       "      <td>581587</td>\n",
       "      <td>22613</td>\n",
       "      <td>PACK OF 20 SPACEBOY NAPKINS</td>\n",
       "      <td>12</td>\n",
       "      <td>2011-12-09 12:50:00</td>\n",
       "      <td>0.85</td>\n",
       "      <td>12,680.00</td>\n",
       "      <td>France</td>\n",
       "    </tr>\n",
       "    <tr>\n",
       "      <th>541905</th>\n",
       "      <td>581587</td>\n",
       "      <td>22899</td>\n",
       "      <td>CHILDREN'S APRON DOLLY GIRL</td>\n",
       "      <td>6</td>\n",
       "      <td>2011-12-09 12:50:00</td>\n",
       "      <td>2.10</td>\n",
       "      <td>12,680.00</td>\n",
       "      <td>France</td>\n",
       "    </tr>\n",
       "    <tr>\n",
       "      <th>541906</th>\n",
       "      <td>581587</td>\n",
       "      <td>23254</td>\n",
       "      <td>CHILDRENS CUTLERY DOLLY GIRL</td>\n",
       "      <td>4</td>\n",
       "      <td>2011-12-09 12:50:00</td>\n",
       "      <td>4.15</td>\n",
       "      <td>12,680.00</td>\n",
       "      <td>France</td>\n",
       "    </tr>\n",
       "    <tr>\n",
       "      <th>541907</th>\n",
       "      <td>581587</td>\n",
       "      <td>23255</td>\n",
       "      <td>CHILDRENS CUTLERY CIRCUS PARADE</td>\n",
       "      <td>4</td>\n",
       "      <td>2011-12-09 12:50:00</td>\n",
       "      <td>4.15</td>\n",
       "      <td>12,680.00</td>\n",
       "      <td>France</td>\n",
       "    </tr>\n",
       "    <tr>\n",
       "      <th>541908</th>\n",
       "      <td>581587</td>\n",
       "      <td>22138</td>\n",
       "      <td>BAKING SET 9 PIECE RETROSPOT</td>\n",
       "      <td>3</td>\n",
       "      <td>2011-12-09 12:50:00</td>\n",
       "      <td>4.95</td>\n",
       "      <td>12,680.00</td>\n",
       "      <td>France</td>\n",
       "    </tr>\n",
       "  </tbody>\n",
       "</table>\n",
       "</div>"
      ],
      "text/plain": [
       "       InvoiceNo StockCode                      Description  Quantity  \\\n",
       "541904    581587     22613      PACK OF 20 SPACEBOY NAPKINS        12   \n",
       "541905    581587     22899     CHILDREN'S APRON DOLLY GIRL          6   \n",
       "541906    581587     23254    CHILDRENS CUTLERY DOLLY GIRL          4   \n",
       "541907    581587     23255  CHILDRENS CUTLERY CIRCUS PARADE         4   \n",
       "541908    581587     22138    BAKING SET 9 PIECE RETROSPOT          3   \n",
       "\n",
       "               InvoiceDate  UnitPrice  CustomerID Country  \n",
       "541904 2011-12-09 12:50:00       0.85   12,680.00  France  \n",
       "541905 2011-12-09 12:50:00       2.10   12,680.00  France  \n",
       "541906 2011-12-09 12:50:00       4.15   12,680.00  France  \n",
       "541907 2011-12-09 12:50:00       4.15   12,680.00  France  \n",
       "541908 2011-12-09 12:50:00       4.95   12,680.00  France  "
      ]
     },
     "execution_count": 82,
     "metadata": {},
     "output_type": "execute_result"
    }
   ],
   "source": [
    "df.tail()"
   ]
  },
  {
   "cell_type": "code",
   "execution_count": 83,
   "metadata": {},
   "outputs": [],
   "source": [
    "col_list = []\n",
    "for col_name in df.columns:\n",
    "    if col_name == \"CustomerID\":\n",
    "        col_name = \"customer_id\"\n",
    "    else:\n",
    "        col_name = \"_\".join([col.lower() for col in re.findall('[A-Z][^A-Z]*', col_name)])\n",
    "    col_list.append(col_name)"
   ]
  },
  {
   "cell_type": "code",
   "execution_count": 84,
   "metadata": {},
   "outputs": [],
   "source": [
    "df.columns = col_list"
   ]
  },
  {
   "cell_type": "code",
   "execution_count": 85,
   "metadata": {},
   "outputs": [
    {
     "data": {
      "text/plain": [
       "(541909, 8)"
      ]
     },
     "execution_count": 85,
     "metadata": {},
     "output_type": "execute_result"
    }
   ],
   "source": [
    "df.shape"
   ]
  },
  {
   "cell_type": "code",
   "execution_count": 86,
   "metadata": {},
   "outputs": [],
   "source": [
    "df = df[~df['customer_id'].isna()]"
   ]
  },
  {
   "cell_type": "code",
   "execution_count": 87,
   "metadata": {},
   "outputs": [],
   "source": [
    "# Filter those transactions start with letter 'c', it indicates a cancellation, 'a' it indicates adjust bad dept\n",
    "df = df[~df[\"invoice_no\"].astype(str).str.startswith((\"A\",\"C\"))]\n",
    "# Convert customer_id from float to string\n",
    "df['customer_id'] = df['customer_id'].astype(str).str.split(\".\").str[0] \\\n",
    "                                     .astype(np.int64).astype(object)   # convert from string to integer -> categorical"
   ]
  },
  {
   "cell_type": "code",
   "execution_count": 88,
   "metadata": {},
   "outputs": [],
   "source": [
    "df[\"invoice_date\"] = df['invoice_date'].dt.date # normalize to date only"
   ]
  },
  {
   "cell_type": "code",
   "execution_count": 89,
   "metadata": {},
   "outputs": [],
   "source": [
    "df['total_revenue'] = df['quantity']*df['unit_price']"
   ]
  },
  {
   "cell_type": "code",
   "execution_count": 90,
   "metadata": {},
   "outputs": [
    {
     "data": {
      "text/html": [
       "<div>\n",
       "<style scoped>\n",
       "    .dataframe tbody tr th:only-of-type {\n",
       "        vertical-align: middle;\n",
       "    }\n",
       "\n",
       "    .dataframe tbody tr th {\n",
       "        vertical-align: top;\n",
       "    }\n",
       "\n",
       "    .dataframe thead th {\n",
       "        text-align: right;\n",
       "    }\n",
       "</style>\n",
       "<table border=\"1\" class=\"dataframe\">\n",
       "  <thead>\n",
       "    <tr style=\"text-align: right;\">\n",
       "      <th></th>\n",
       "      <th>invoice_no</th>\n",
       "      <th>stock_code</th>\n",
       "      <th>description</th>\n",
       "      <th>quantity</th>\n",
       "      <th>invoice_date</th>\n",
       "      <th>unit_price</th>\n",
       "      <th>customer_id</th>\n",
       "      <th>country</th>\n",
       "      <th>total_revenue</th>\n",
       "    </tr>\n",
       "  </thead>\n",
       "  <tbody>\n",
       "    <tr>\n",
       "      <th>541894</th>\n",
       "      <td>581587</td>\n",
       "      <td>22631</td>\n",
       "      <td>CIRCUS PARADE LUNCH BOX</td>\n",
       "      <td>12</td>\n",
       "      <td>2011-12-09</td>\n",
       "      <td>1.95</td>\n",
       "      <td>12680</td>\n",
       "      <td>France</td>\n",
       "      <td>23.40</td>\n",
       "    </tr>\n",
       "    <tr>\n",
       "      <th>541895</th>\n",
       "      <td>581587</td>\n",
       "      <td>22556</td>\n",
       "      <td>PLASTERS IN TIN CIRCUS PARADE</td>\n",
       "      <td>12</td>\n",
       "      <td>2011-12-09</td>\n",
       "      <td>1.65</td>\n",
       "      <td>12680</td>\n",
       "      <td>France</td>\n",
       "      <td>19.80</td>\n",
       "    </tr>\n",
       "    <tr>\n",
       "      <th>541896</th>\n",
       "      <td>581587</td>\n",
       "      <td>22555</td>\n",
       "      <td>PLASTERS IN TIN STRONGMAN</td>\n",
       "      <td>12</td>\n",
       "      <td>2011-12-09</td>\n",
       "      <td>1.65</td>\n",
       "      <td>12680</td>\n",
       "      <td>France</td>\n",
       "      <td>19.80</td>\n",
       "    </tr>\n",
       "    <tr>\n",
       "      <th>541897</th>\n",
       "      <td>581587</td>\n",
       "      <td>22728</td>\n",
       "      <td>ALARM CLOCK BAKELIKE PINK</td>\n",
       "      <td>4</td>\n",
       "      <td>2011-12-09</td>\n",
       "      <td>3.75</td>\n",
       "      <td>12680</td>\n",
       "      <td>France</td>\n",
       "      <td>15.00</td>\n",
       "    </tr>\n",
       "    <tr>\n",
       "      <th>541898</th>\n",
       "      <td>581587</td>\n",
       "      <td>22727</td>\n",
       "      <td>ALARM CLOCK BAKELIKE RED</td>\n",
       "      <td>4</td>\n",
       "      <td>2011-12-09</td>\n",
       "      <td>3.75</td>\n",
       "      <td>12680</td>\n",
       "      <td>France</td>\n",
       "      <td>15.00</td>\n",
       "    </tr>\n",
       "    <tr>\n",
       "      <th>541899</th>\n",
       "      <td>581587</td>\n",
       "      <td>22726</td>\n",
       "      <td>ALARM CLOCK BAKELIKE GREEN</td>\n",
       "      <td>4</td>\n",
       "      <td>2011-12-09</td>\n",
       "      <td>3.75</td>\n",
       "      <td>12680</td>\n",
       "      <td>France</td>\n",
       "      <td>15.00</td>\n",
       "    </tr>\n",
       "    <tr>\n",
       "      <th>541900</th>\n",
       "      <td>581587</td>\n",
       "      <td>22730</td>\n",
       "      <td>ALARM CLOCK BAKELIKE IVORY</td>\n",
       "      <td>4</td>\n",
       "      <td>2011-12-09</td>\n",
       "      <td>3.75</td>\n",
       "      <td>12680</td>\n",
       "      <td>France</td>\n",
       "      <td>15.00</td>\n",
       "    </tr>\n",
       "    <tr>\n",
       "      <th>541901</th>\n",
       "      <td>581587</td>\n",
       "      <td>22367</td>\n",
       "      <td>CHILDRENS APRON SPACEBOY DESIGN</td>\n",
       "      <td>8</td>\n",
       "      <td>2011-12-09</td>\n",
       "      <td>1.95</td>\n",
       "      <td>12680</td>\n",
       "      <td>France</td>\n",
       "      <td>15.60</td>\n",
       "    </tr>\n",
       "    <tr>\n",
       "      <th>541902</th>\n",
       "      <td>581587</td>\n",
       "      <td>22629</td>\n",
       "      <td>SPACEBOY LUNCH BOX</td>\n",
       "      <td>12</td>\n",
       "      <td>2011-12-09</td>\n",
       "      <td>1.95</td>\n",
       "      <td>12680</td>\n",
       "      <td>France</td>\n",
       "      <td>23.40</td>\n",
       "    </tr>\n",
       "    <tr>\n",
       "      <th>541903</th>\n",
       "      <td>581587</td>\n",
       "      <td>23256</td>\n",
       "      <td>CHILDRENS CUTLERY SPACEBOY</td>\n",
       "      <td>4</td>\n",
       "      <td>2011-12-09</td>\n",
       "      <td>4.15</td>\n",
       "      <td>12680</td>\n",
       "      <td>France</td>\n",
       "      <td>16.60</td>\n",
       "    </tr>\n",
       "    <tr>\n",
       "      <th>541904</th>\n",
       "      <td>581587</td>\n",
       "      <td>22613</td>\n",
       "      <td>PACK OF 20 SPACEBOY NAPKINS</td>\n",
       "      <td>12</td>\n",
       "      <td>2011-12-09</td>\n",
       "      <td>0.85</td>\n",
       "      <td>12680</td>\n",
       "      <td>France</td>\n",
       "      <td>10.20</td>\n",
       "    </tr>\n",
       "    <tr>\n",
       "      <th>541905</th>\n",
       "      <td>581587</td>\n",
       "      <td>22899</td>\n",
       "      <td>CHILDREN'S APRON DOLLY GIRL</td>\n",
       "      <td>6</td>\n",
       "      <td>2011-12-09</td>\n",
       "      <td>2.10</td>\n",
       "      <td>12680</td>\n",
       "      <td>France</td>\n",
       "      <td>12.60</td>\n",
       "    </tr>\n",
       "    <tr>\n",
       "      <th>541906</th>\n",
       "      <td>581587</td>\n",
       "      <td>23254</td>\n",
       "      <td>CHILDRENS CUTLERY DOLLY GIRL</td>\n",
       "      <td>4</td>\n",
       "      <td>2011-12-09</td>\n",
       "      <td>4.15</td>\n",
       "      <td>12680</td>\n",
       "      <td>France</td>\n",
       "      <td>16.60</td>\n",
       "    </tr>\n",
       "    <tr>\n",
       "      <th>541907</th>\n",
       "      <td>581587</td>\n",
       "      <td>23255</td>\n",
       "      <td>CHILDRENS CUTLERY CIRCUS PARADE</td>\n",
       "      <td>4</td>\n",
       "      <td>2011-12-09</td>\n",
       "      <td>4.15</td>\n",
       "      <td>12680</td>\n",
       "      <td>France</td>\n",
       "      <td>16.60</td>\n",
       "    </tr>\n",
       "    <tr>\n",
       "      <th>541908</th>\n",
       "      <td>581587</td>\n",
       "      <td>22138</td>\n",
       "      <td>BAKING SET 9 PIECE RETROSPOT</td>\n",
       "      <td>3</td>\n",
       "      <td>2011-12-09</td>\n",
       "      <td>4.95</td>\n",
       "      <td>12680</td>\n",
       "      <td>France</td>\n",
       "      <td>14.85</td>\n",
       "    </tr>\n",
       "  </tbody>\n",
       "</table>\n",
       "</div>"
      ],
      "text/plain": [
       "       invoice_no stock_code                      description  quantity  \\\n",
       "541894     581587      22631         CIRCUS PARADE LUNCH BOX         12   \n",
       "541895     581587      22556   PLASTERS IN TIN CIRCUS PARADE         12   \n",
       "541896     581587      22555        PLASTERS IN TIN STRONGMAN        12   \n",
       "541897     581587      22728        ALARM CLOCK BAKELIKE PINK         4   \n",
       "541898     581587      22727        ALARM CLOCK BAKELIKE RED          4   \n",
       "541899     581587      22726       ALARM CLOCK BAKELIKE GREEN         4   \n",
       "541900     581587      22730       ALARM CLOCK BAKELIKE IVORY         4   \n",
       "541901     581587      22367  CHILDRENS APRON SPACEBOY DESIGN         8   \n",
       "541902     581587      22629              SPACEBOY LUNCH BOX         12   \n",
       "541903     581587      23256      CHILDRENS CUTLERY SPACEBOY          4   \n",
       "541904     581587      22613      PACK OF 20 SPACEBOY NAPKINS        12   \n",
       "541905     581587      22899     CHILDREN'S APRON DOLLY GIRL          6   \n",
       "541906     581587      23254    CHILDRENS CUTLERY DOLLY GIRL          4   \n",
       "541907     581587      23255  CHILDRENS CUTLERY CIRCUS PARADE         4   \n",
       "541908     581587      22138    BAKING SET 9 PIECE RETROSPOT          3   \n",
       "\n",
       "       invoice_date  unit_price customer_id country  total_revenue  \n",
       "541894   2011-12-09        1.95       12680  France          23.40  \n",
       "541895   2011-12-09        1.65       12680  France          19.80  \n",
       "541896   2011-12-09        1.65       12680  France          19.80  \n",
       "541897   2011-12-09        3.75       12680  France          15.00  \n",
       "541898   2011-12-09        3.75       12680  France          15.00  \n",
       "541899   2011-12-09        3.75       12680  France          15.00  \n",
       "541900   2011-12-09        3.75       12680  France          15.00  \n",
       "541901   2011-12-09        1.95       12680  France          15.60  \n",
       "541902   2011-12-09        1.95       12680  France          23.40  \n",
       "541903   2011-12-09        4.15       12680  France          16.60  \n",
       "541904   2011-12-09        0.85       12680  France          10.20  \n",
       "541905   2011-12-09        2.10       12680  France          12.60  \n",
       "541906   2011-12-09        4.15       12680  France          16.60  \n",
       "541907   2011-12-09        4.15       12680  France          16.60  \n",
       "541908   2011-12-09        4.95       12680  France          14.85  "
      ]
     },
     "execution_count": 90,
     "metadata": {},
     "output_type": "execute_result"
    }
   ],
   "source": [
    "df.query(\"invoice_no == 581587\") # 581587 A563185"
   ]
  },
  {
   "cell_type": "code",
   "execution_count": 91,
   "metadata": {},
   "outputs": [
    {
     "data": {
      "text/html": [
       "<div>\n",
       "<style scoped>\n",
       "    .dataframe tbody tr th:only-of-type {\n",
       "        vertical-align: middle;\n",
       "    }\n",
       "\n",
       "    .dataframe tbody tr th {\n",
       "        vertical-align: top;\n",
       "    }\n",
       "\n",
       "    .dataframe thead th {\n",
       "        text-align: right;\n",
       "    }\n",
       "</style>\n",
       "<table border=\"1\" class=\"dataframe\">\n",
       "  <thead>\n",
       "    <tr style=\"text-align: right;\">\n",
       "      <th></th>\n",
       "      <th>count</th>\n",
       "      <th>unique</th>\n",
       "      <th>top</th>\n",
       "      <th>freq</th>\n",
       "    </tr>\n",
       "  </thead>\n",
       "  <tbody>\n",
       "    <tr>\n",
       "      <th>invoice_no</th>\n",
       "      <td>397924</td>\n",
       "      <td>18536</td>\n",
       "      <td>576339</td>\n",
       "      <td>542</td>\n",
       "    </tr>\n",
       "    <tr>\n",
       "      <th>stock_code</th>\n",
       "      <td>397924</td>\n",
       "      <td>3665</td>\n",
       "      <td>85123A</td>\n",
       "      <td>2035</td>\n",
       "    </tr>\n",
       "    <tr>\n",
       "      <th>description</th>\n",
       "      <td>397924</td>\n",
       "      <td>3877</td>\n",
       "      <td>WHITE HANGING HEART T-LIGHT HOLDER</td>\n",
       "      <td>2028</td>\n",
       "    </tr>\n",
       "    <tr>\n",
       "      <th>invoice_date</th>\n",
       "      <td>397924</td>\n",
       "      <td>305</td>\n",
       "      <td>2011-11-06</td>\n",
       "      <td>3423</td>\n",
       "    </tr>\n",
       "    <tr>\n",
       "      <th>customer_id</th>\n",
       "      <td>397924</td>\n",
       "      <td>4339</td>\n",
       "      <td>17841</td>\n",
       "      <td>7847</td>\n",
       "    </tr>\n",
       "    <tr>\n",
       "      <th>country</th>\n",
       "      <td>397924</td>\n",
       "      <td>37</td>\n",
       "      <td>United Kingdom</td>\n",
       "      <td>354345</td>\n",
       "    </tr>\n",
       "  </tbody>\n",
       "</table>\n",
       "</div>"
      ],
      "text/plain": [
       "               count unique                                 top    freq\n",
       "invoice_no    397924  18536                              576339     542\n",
       "stock_code    397924   3665                              85123A    2035\n",
       "description   397924   3877  WHITE HANGING HEART T-LIGHT HOLDER    2028\n",
       "invoice_date  397924    305                          2011-11-06    3423\n",
       "customer_id   397924   4339                               17841    7847\n",
       "country       397924     37                      United Kingdom  354345"
      ]
     },
     "execution_count": 91,
     "metadata": {},
     "output_type": "execute_result"
    }
   ],
   "source": [
    "# review the categorical variables\n",
    "df.describe(include='object').T"
   ]
  },
  {
   "cell_type": "markdown",
   "metadata": {},
   "source": [
    "- The dataset comprises 4,339 unique customer IDs and 305 invoice dates within the time horizon."
   ]
  },
  {
   "cell_type": "code",
   "execution_count": 92,
   "metadata": {},
   "outputs": [
    {
     "data": {
      "text/html": [
       "<div>\n",
       "<style scoped>\n",
       "    .dataframe tbody tr th:only-of-type {\n",
       "        vertical-align: middle;\n",
       "    }\n",
       "\n",
       "    .dataframe tbody tr th {\n",
       "        vertical-align: top;\n",
       "    }\n",
       "\n",
       "    .dataframe thead th {\n",
       "        text-align: right;\n",
       "    }\n",
       "</style>\n",
       "<table border=\"1\" class=\"dataframe\">\n",
       "  <thead>\n",
       "    <tr style=\"text-align: right;\">\n",
       "      <th></th>\n",
       "      <th>quantity</th>\n",
       "      <th>unit_price</th>\n",
       "      <th>total_revenue</th>\n",
       "    </tr>\n",
       "  </thead>\n",
       "  <tbody>\n",
       "    <tr>\n",
       "      <th>count</th>\n",
       "      <td>397,924.00</td>\n",
       "      <td>397,924.00</td>\n",
       "      <td>397,924.00</td>\n",
       "    </tr>\n",
       "    <tr>\n",
       "      <th>mean</th>\n",
       "      <td>13.02</td>\n",
       "      <td>3.12</td>\n",
       "      <td>22.39</td>\n",
       "    </tr>\n",
       "    <tr>\n",
       "      <th>std</th>\n",
       "      <td>180.42</td>\n",
       "      <td>22.10</td>\n",
       "      <td>309.06</td>\n",
       "    </tr>\n",
       "    <tr>\n",
       "      <th>min</th>\n",
       "      <td>1.00</td>\n",
       "      <td>0.00</td>\n",
       "      <td>0.00</td>\n",
       "    </tr>\n",
       "    <tr>\n",
       "      <th>25%</th>\n",
       "      <td>2.00</td>\n",
       "      <td>1.25</td>\n",
       "      <td>4.68</td>\n",
       "    </tr>\n",
       "    <tr>\n",
       "      <th>50%</th>\n",
       "      <td>6.00</td>\n",
       "      <td>1.95</td>\n",
       "      <td>11.80</td>\n",
       "    </tr>\n",
       "    <tr>\n",
       "      <th>75%</th>\n",
       "      <td>12.00</td>\n",
       "      <td>3.75</td>\n",
       "      <td>19.80</td>\n",
       "    </tr>\n",
       "    <tr>\n",
       "      <th>max</th>\n",
       "      <td>80,995.00</td>\n",
       "      <td>8,142.75</td>\n",
       "      <td>168,469.60</td>\n",
       "    </tr>\n",
       "  </tbody>\n",
       "</table>\n",
       "</div>"
      ],
      "text/plain": [
       "        quantity  unit_price  total_revenue\n",
       "count 397,924.00  397,924.00     397,924.00\n",
       "mean       13.02        3.12          22.39\n",
       "std       180.42       22.10         309.06\n",
       "min         1.00        0.00           0.00\n",
       "25%         2.00        1.25           4.68\n",
       "50%         6.00        1.95          11.80\n",
       "75%        12.00        3.75          19.80\n",
       "max    80,995.00    8,142.75     168,469.60"
      ]
     },
     "execution_count": 92,
     "metadata": {},
     "output_type": "execute_result"
    }
   ],
   "source": [
    "# review the numerical variables\n",
    "df.describe()"
   ]
  },
  {
   "cell_type": "code",
   "execution_count": 93,
   "metadata": {},
   "outputs": [],
   "source": [
    "# aggregation as per invoice_no: sum of all items purchased within the invoice\n",
    "df_orders = df.groupby(['invoice_no','customer_id', 'invoice_date']).agg({'total_revenue': 'sum'}).reset_index() "
   ]
  },
  {
   "cell_type": "code",
   "execution_count": 95,
   "metadata": {},
   "outputs": [
    {
     "data": {
      "text/plain": [
       "(datetime.date(2011, 12, 9), datetime.date(2010, 12, 1))"
      ]
     },
     "execution_count": 95,
     "metadata": {},
     "output_type": "execute_result"
    }
   ],
   "source": [
    "df_orders['invoice_date'].max(), df_orders['invoice_date'].min() "
   ]
  },
  {
   "cell_type": "markdown",
   "metadata": {},
   "source": [
    "## 2. Raw Recency, Frequency, and Monetary Metrics\n",
    "- The next step is to turn our raw transactional data into the recency, frequency, monetary and tenure (T) metrics we need to provide to the CLV models. \n",
    "    - **Lifetimes** package has the function to do it `summary_data_from_transaction_data()`.\n",
    "        - Note 1: The `observation_period_end` date would usually represent the most recent order date within your dataframe.\n",
    "        - Note 2: The first transaction by default is **not included** while calculating the frequency and monetary value. \n",
    "            - To include it, just set the parameter `include_first_transaction` to True. To use the data with some fitters from the lifetimes package, this parameter must be set to False\n",
    "        - Note 3: recency defintion in Lifetimes package is different from the recency definition below\n",
    "            - For the `customer_id=12347`, `recency` is the number of days between her first (2010-12-07) and her latest transaction (2011-12-07), which is 365 days. \n",
    "            - A bit counter-intuitively, it does not measure the days since her latest purchase."
   ]
  },
  {
   "cell_type": "markdown",
   "metadata": {},
   "source": [
    "- The Lifetimes package will compute these values for us. To understand their definitions, let’s demonstrate how they can be determined for a chosen customer: ID = 14527."
   ]
  },
  {
   "cell_type": "code",
   "execution_count": 214,
   "metadata": {},
   "outputs": [
    {
     "data": {
      "text/html": [
       "<div>\n",
       "<style scoped>\n",
       "    .dataframe tbody tr th:only-of-type {\n",
       "        vertical-align: middle;\n",
       "    }\n",
       "\n",
       "    .dataframe tbody tr th {\n",
       "        vertical-align: top;\n",
       "    }\n",
       "\n",
       "    .dataframe thead th {\n",
       "        text-align: right;\n",
       "    }\n",
       "</style>\n",
       "<table border=\"1\" class=\"dataframe\">\n",
       "  <thead>\n",
       "    <tr style=\"text-align: right;\">\n",
       "      <th></th>\n",
       "      <th>invoice_no</th>\n",
       "      <th>customer_id</th>\n",
       "      <th>invoice_date</th>\n",
       "      <th>total_revenue</th>\n",
       "    </tr>\n",
       "  </thead>\n",
       "  <tbody>\n",
       "    <tr>\n",
       "      <th>548</th>\n",
       "      <td>537626</td>\n",
       "      <td>12347</td>\n",
       "      <td>2010-12-07</td>\n",
       "      <td>711.79</td>\n",
       "    </tr>\n",
       "    <tr>\n",
       "      <th>2205</th>\n",
       "      <td>542237</td>\n",
       "      <td>12347</td>\n",
       "      <td>2011-01-26</td>\n",
       "      <td>475.39</td>\n",
       "    </tr>\n",
       "    <tr>\n",
       "      <th>4942</th>\n",
       "      <td>549222</td>\n",
       "      <td>12347</td>\n",
       "      <td>2011-04-07</td>\n",
       "      <td>636.25</td>\n",
       "    </tr>\n",
       "    <tr>\n",
       "      <th>7844</th>\n",
       "      <td>556201</td>\n",
       "      <td>12347</td>\n",
       "      <td>2011-06-09</td>\n",
       "      <td>382.52</td>\n",
       "    </tr>\n",
       "    <tr>\n",
       "      <th>10173</th>\n",
       "      <td>562032</td>\n",
       "      <td>12347</td>\n",
       "      <td>2011-08-02</td>\n",
       "      <td>584.91</td>\n",
       "    </tr>\n",
       "    <tr>\n",
       "      <th>15066</th>\n",
       "      <td>573511</td>\n",
       "      <td>12347</td>\n",
       "      <td>2011-10-31</td>\n",
       "      <td>1,294.32</td>\n",
       "    </tr>\n",
       "    <tr>\n",
       "      <th>18367</th>\n",
       "      <td>581180</td>\n",
       "      <td>12347</td>\n",
       "      <td>2011-12-07</td>\n",
       "      <td>224.82</td>\n",
       "    </tr>\n",
       "  </tbody>\n",
       "</table>\n",
       "</div>"
      ],
      "text/plain": [
       "       invoice_no  customer_id invoice_date  total_revenue\n",
       "548        537626        12347   2010-12-07         711.79\n",
       "2205       542237        12347   2011-01-26         475.39\n",
       "4942       549222        12347   2011-04-07         636.25\n",
       "7844       556201        12347   2011-06-09         382.52\n",
       "10173      562032        12347   2011-08-02         584.91\n",
       "15066      573511        12347   2011-10-31       1,294.32\n",
       "18367      581180        12347   2011-12-07         224.82"
      ]
     },
     "execution_count": 214,
     "metadata": {},
     "output_type": "execute_result"
    }
   ],
   "source": [
    "customer_example = df_orders.query(\"customer_id == 12347\")\n",
    "customer_example"
   ]
  },
  {
   "cell_type": "code",
   "execution_count": 99,
   "metadata": {},
   "outputs": [
    {
     "name": "stdout",
     "output_type": "stream",
     "text": [
      "Recency: 365\n",
      "Age or Longevity (T): 367\n",
      "Frequency: 6\n",
      "Monetary Value: 599.70\n"
     ]
    }
   ],
   "source": [
    "customer_birthday = customer_example['invoice_date'].min()      # 2010–12–05\n",
    "customer_latest_trans = customer_example['invoice_date'].max()  # 2011–12–07\n",
    "latest_date = df_orders['invoice_date'].max()                   # 2011–12–09: the end date of our analytical horizon\n",
    "\n",
    "recency = customer_latest_trans - customer_birthday\n",
    "longevity_T = latest_date - customer_birthday\n",
    "frequency = customer_example.shape[0] - 1 # -1 as BG/NBD models focus on repeat purchases, it omits the initial transaction.\n",
    "monetary_value = customer_example.loc[2205:,'total_revenue'].mean() # not include the first transaction @ index = 548\n",
    "print(f\"Recency: {recency.days}\\nAge or Longevity (T): {longevity_T.days}\\nFrequency: {frequency}\\nMonetary Value: {monetary_value:.2f}\")"
   ]
  },
  {
   "cell_type": "code",
   "execution_count": 217,
   "metadata": {},
   "outputs": [],
   "source": [
    "df_rfmt = summary_data_from_transaction_data(df_orders, \n",
    "                                             customer_id_col='customer_id',\n",
    "                                             datetime_col='invoice_date',\n",
    "                                             monetary_value_col='total_revenue',\n",
    "                                             observation_period_end='2011-12-09 12:50:00',\n",
    "                                            #  include_first_transaction=True\n",
    "                                             )"
   ]
  },
  {
   "cell_type": "code",
   "execution_count": 218,
   "metadata": {},
   "outputs": [
    {
     "name": "stdout",
     "output_type": "stream",
     "text": [
      "|   customer_id |   frequency |   recency |   T |   monetary_value |\n",
      "|--------------:|------------:|----------:|----:|-----------------:|\n",
      "|         12346 |           0 |         0 | 325 |            0     |\n",
      "|         12347 |           6 |       365 | 367 |          599.702 |\n",
      "|         12348 |           3 |       283 | 358 |          301.48  |\n",
      "|         12349 |           0 |         0 |  18 |            0     |\n",
      "|         12350 |           0 |         0 | 310 |            0     |\n"
     ]
    }
   ],
   "source": [
    "print(df_rfmt.head().to_markdown())"
   ]
  },
  {
   "cell_type": "code",
   "execution_count": 103,
   "metadata": {},
   "outputs": [
    {
     "data": {
      "text/html": [
       "<div>\n",
       "<style scoped>\n",
       "    .dataframe tbody tr th:only-of-type {\n",
       "        vertical-align: middle;\n",
       "    }\n",
       "\n",
       "    .dataframe tbody tr th {\n",
       "        vertical-align: top;\n",
       "    }\n",
       "\n",
       "    .dataframe thead th {\n",
       "        text-align: right;\n",
       "    }\n",
       "</style>\n",
       "<table border=\"1\" class=\"dataframe\">\n",
       "  <thead>\n",
       "    <tr style=\"text-align: right;\">\n",
       "      <th></th>\n",
       "      <th>frequency</th>\n",
       "      <th>recency</th>\n",
       "      <th>T</th>\n",
       "      <th>monetary_value</th>\n",
       "    </tr>\n",
       "    <tr>\n",
       "      <th>customer_id</th>\n",
       "      <th></th>\n",
       "      <th></th>\n",
       "      <th></th>\n",
       "      <th></th>\n",
       "    </tr>\n",
       "  </thead>\n",
       "  <tbody>\n",
       "    <tr>\n",
       "      <th>14527</th>\n",
       "      <td>53.00</td>\n",
       "      <td>367.00</td>\n",
       "      <td>369.00</td>\n",
       "      <td>155.02</td>\n",
       "    </tr>\n",
       "  </tbody>\n",
       "</table>\n",
       "</div>"
      ],
      "text/plain": [
       "             frequency  recency      T  monetary_value\n",
       "customer_id                                           \n",
       "14527            53.00   367.00 369.00          155.02"
      ]
     },
     "execution_count": 103,
     "metadata": {},
     "output_type": "execute_result"
    }
   ],
   "source": [
    "df_rfmt[df_rfmt.index == 14527]"
   ]
  },
  {
   "cell_type": "code",
   "execution_count": 219,
   "metadata": {},
   "outputs": [
    {
     "data": {
      "image/png": "[encoded data removed]",
      "text/plain": [
       "<Figure size 1500x800 with 4 Axes>"
      ]
     },
     "metadata": {},
     "output_type": "display_data"
    }
   ],
   "source": [
    "fig, ((ax1, ax2), (ax3, ax4)) = plt.subplots(2,2, figsize=(15,8))\n",
    "for idx, metric in enumerate(['recency', 'frequency', 'T', 'monetary_value']):\n",
    "    sns.histplot(df_rfmt[metric], kde=True, ax=eval(f\"ax{idx+1}\"))\n",
    "plt.show()"
   ]
  },
  {
   "cell_type": "markdown",
   "metadata": {},
   "source": [
    "- The data are strongly skewed, with most customers have placed a single low value order\n",
    "- T plot show the peaks and troughs indicating that this business is strongly seasonal\n",
    "    - The spike @ 360 days, it indicates the start period of this analysis"
   ]
  },
  {
   "cell_type": "markdown",
   "metadata": {},
   "source": [
    "## Train Test Split\n",
    "- Lifetimes uses the terms **calibration** and **holdout** periods for what we would label the training and test datasets in most other applications.\n",
    "- `calibration_and_holdout_data()` takes as its arguments the chosen end of the calibration period and the end of the observation period."
   ]
  },
  {
   "cell_type": "markdown",
   "metadata": {},
   "source": [
    "### How to choose hold out period ?\n",
    "- This particular dataset comprises 400,000 records, but they are spread over 4,000 customers and cover just two years. \n",
    "- Many smaller customers submit their repeat orders a couple of months apart. \n",
    "- If we set the holdout period to a small number of time periods, it will contain only a few repeat transactions for small customers. We risk that it does not fully reflect their demand patterns. \n",
    "- In this dataset, a holdout period shorter than 100 days does not work well in this case. \n",
    "    - Ideally it should be close to 200 days. \n",
    "- Yet if we reserve too many days for the holdout period, the same problem can afflict the training phase: a training period as short as 365 days may not catch enough customer-specific transactions to pin down their demand patterns.\n",
    "- Alternative: It would be preferable to create the holdout dataset by **randomly drawing customers from the entire dataset** and then check whether the purchase behavior of the customers in the training dataset differs from the behavior of the holdout customers. \n",
    "    - But many of Lifetimes’ evaluation functions take a time period t as their parameter and would not work if calibration and holdout transactions overlap in the same period of time, even if the customers are kept separate."
   ]
  },
  {
   "cell_type": "code",
   "execution_count": 105,
   "metadata": {},
   "outputs": [
    {
     "name": "stdout",
     "output_type": "stream",
     "text": [
      "End of calibration period: 2011-04-13\n",
      "End of observations      : 2011-12-09\n"
     ]
    }
   ],
   "source": [
    "# train/test split (calibration/holdout)\n",
    "t_holdout = 240                                         # days to reserve for holdout period\n",
    "\n",
    "max_date = df_orders[\"invoice_date\"].max()              # end date of observations\n",
    "\n",
    "\n",
    "max_cal_date = max_date - timedelta(days=t_holdout)     # end date of chosen calibration period\n",
    "print(f\"End of calibration period: {max_cal_date}\")\n",
    "print(f\"End of observations      : {max_date}\")"
   ]
  },
  {
   "cell_type": "code",
   "execution_count": 106,
   "metadata": {},
   "outputs": [],
   "source": [
    "summary_cal_holdout = calibration_and_holdout_data(transactions=df_orders, \n",
    "                                                   customer_id_col='customer_id', \n",
    "                                                   datetime_col='invoice_date',\n",
    "                                                   monetary_value_col='total_revenue',\n",
    "                                                   calibration_period_end=max_cal_date,  # 2011-04-13\n",
    "                                                   observation_period_end=max_date,      # 2011-12-09\n",
    "                                                   freq = \"D\"\n",
    "                                                   )"
   ]
  },
  {
   "cell_type": "code",
   "execution_count": 107,
   "metadata": {},
   "outputs": [
    {
     "data": {
      "text/html": [
       "<div>\n",
       "<style scoped>\n",
       "    .dataframe tbody tr th:only-of-type {\n",
       "        vertical-align: middle;\n",
       "    }\n",
       "\n",
       "    .dataframe tbody tr th {\n",
       "        vertical-align: top;\n",
       "    }\n",
       "\n",
       "    .dataframe thead th {\n",
       "        text-align: right;\n",
       "    }\n",
       "</style>\n",
       "<table border=\"1\" class=\"dataframe\">\n",
       "  <thead>\n",
       "    <tr style=\"text-align: right;\">\n",
       "      <th></th>\n",
       "      <th>frequency_cal</th>\n",
       "      <th>recency_cal</th>\n",
       "      <th>T_cal</th>\n",
       "      <th>monetary_value_cal</th>\n",
       "      <th>frequency_holdout</th>\n",
       "      <th>monetary_value_holdout</th>\n",
       "      <th>duration_holdout</th>\n",
       "    </tr>\n",
       "    <tr>\n",
       "      <th>customer_id</th>\n",
       "      <th></th>\n",
       "      <th></th>\n",
       "      <th></th>\n",
       "      <th></th>\n",
       "      <th></th>\n",
       "      <th></th>\n",
       "      <th></th>\n",
       "    </tr>\n",
       "  </thead>\n",
       "  <tbody>\n",
       "    <tr>\n",
       "      <th>12346</th>\n",
       "      <td>0.00</td>\n",
       "      <td>0.00</td>\n",
       "      <td>85.00</td>\n",
       "      <td>0.00</td>\n",
       "      <td>0.00</td>\n",
       "      <td>0.00</td>\n",
       "      <td>240.00</td>\n",
       "    </tr>\n",
       "    <tr>\n",
       "      <th>12347</th>\n",
       "      <td>2.00</td>\n",
       "      <td>121.00</td>\n",
       "      <td>127.00</td>\n",
       "      <td>555.82</td>\n",
       "      <td>4.00</td>\n",
       "      <td>621.64</td>\n",
       "      <td>240.00</td>\n",
       "    </tr>\n",
       "    <tr>\n",
       "      <th>12348</th>\n",
       "      <td>2.00</td>\n",
       "      <td>110.00</td>\n",
       "      <td>118.00</td>\n",
       "      <td>297.22</td>\n",
       "      <td>1.00</td>\n",
       "      <td>310.00</td>\n",
       "      <td>240.00</td>\n",
       "    </tr>\n",
       "    <tr>\n",
       "      <th>12350</th>\n",
       "      <td>0.00</td>\n",
       "      <td>0.00</td>\n",
       "      <td>70.00</td>\n",
       "      <td>0.00</td>\n",
       "      <td>0.00</td>\n",
       "      <td>0.00</td>\n",
       "      <td>240.00</td>\n",
       "    </tr>\n",
       "    <tr>\n",
       "      <th>12352</th>\n",
       "      <td>3.00</td>\n",
       "      <td>34.00</td>\n",
       "      <td>56.00</td>\n",
       "      <td>421.77</td>\n",
       "      <td>3.00</td>\n",
       "      <td>314.74</td>\n",
       "      <td>240.00</td>\n",
       "    </tr>\n",
       "  </tbody>\n",
       "</table>\n",
       "</div>"
      ],
      "text/plain": [
       "             frequency_cal  recency_cal  T_cal  monetary_value_cal  \\\n",
       "customer_id                                                          \n",
       "12346                 0.00         0.00  85.00                0.00   \n",
       "12347                 2.00       121.00 127.00              555.82   \n",
       "12348                 2.00       110.00 118.00              297.22   \n",
       "12350                 0.00         0.00  70.00                0.00   \n",
       "12352                 3.00        34.00  56.00              421.77   \n",
       "\n",
       "             frequency_holdout  monetary_value_holdout  duration_holdout  \n",
       "customer_id                                                               \n",
       "12346                     0.00                    0.00            240.00  \n",
       "12347                     4.00                  621.64            240.00  \n",
       "12348                     1.00                  310.00            240.00  \n",
       "12350                     0.00                    0.00            240.00  \n",
       "12352                     3.00                  314.74            240.00  "
      ]
     },
     "execution_count": 107,
     "metadata": {},
     "output_type": "execute_result"
    }
   ],
   "source": [
    "summary_cal_holdout.head()"
   ]
  },
  {
   "cell_type": "code",
   "execution_count": 108,
   "metadata": {},
   "outputs": [
    {
     "data": {
      "text/html": [
       "<div>\n",
       "<style scoped>\n",
       "    .dataframe tbody tr th:only-of-type {\n",
       "        vertical-align: middle;\n",
       "    }\n",
       "\n",
       "    .dataframe tbody tr th {\n",
       "        vertical-align: top;\n",
       "    }\n",
       "\n",
       "    .dataframe thead th {\n",
       "        text-align: right;\n",
       "    }\n",
       "</style>\n",
       "<table border=\"1\" class=\"dataframe\">\n",
       "  <thead>\n",
       "    <tr style=\"text-align: right;\">\n",
       "      <th></th>\n",
       "      <th>frequency_cal</th>\n",
       "      <th>recency_cal</th>\n",
       "      <th>T_cal</th>\n",
       "      <th>monetary_value_cal</th>\n",
       "      <th>frequency_holdout</th>\n",
       "      <th>monetary_value_holdout</th>\n",
       "      <th>duration_holdout</th>\n",
       "    </tr>\n",
       "  </thead>\n",
       "  <tbody>\n",
       "    <tr>\n",
       "      <th>count</th>\n",
       "      <td>2,299.00</td>\n",
       "      <td>2,299.00</td>\n",
       "      <td>2,299.00</td>\n",
       "      <td>2,299.00</td>\n",
       "      <td>2,299.00</td>\n",
       "      <td>2,299.00</td>\n",
       "      <td>2,299.00</td>\n",
       "    </tr>\n",
       "    <tr>\n",
       "      <th>mean</th>\n",
       "      <td>1.10</td>\n",
       "      <td>30.87</td>\n",
       "      <td>79.32</td>\n",
       "      <td>175.90</td>\n",
       "      <td>3.40</td>\n",
       "      <td>316.51</td>\n",
       "      <td>240.00</td>\n",
       "    </tr>\n",
       "    <tr>\n",
       "      <th>std</th>\n",
       "      <td>2.49</td>\n",
       "      <td>43.81</td>\n",
       "      <td>43.27</td>\n",
       "      <td>438.19</td>\n",
       "      <td>5.47</td>\n",
       "      <td>600.80</td>\n",
       "      <td>0.00</td>\n",
       "    </tr>\n",
       "    <tr>\n",
       "      <th>min</th>\n",
       "      <td>0.00</td>\n",
       "      <td>0.00</td>\n",
       "      <td>0.00</td>\n",
       "      <td>0.00</td>\n",
       "      <td>0.00</td>\n",
       "      <td>0.00</td>\n",
       "      <td>240.00</td>\n",
       "    </tr>\n",
       "    <tr>\n",
       "      <th>25%</th>\n",
       "      <td>0.00</td>\n",
       "      <td>0.00</td>\n",
       "      <td>42.00</td>\n",
       "      <td>0.00</td>\n",
       "      <td>1.00</td>\n",
       "      <td>51.10</td>\n",
       "      <td>240.00</td>\n",
       "    </tr>\n",
       "    <tr>\n",
       "      <th>50%</th>\n",
       "      <td>0.00</td>\n",
       "      <td>0.00</td>\n",
       "      <td>82.00</td>\n",
       "      <td>0.00</td>\n",
       "      <td>2.00</td>\n",
       "      <td>234.32</td>\n",
       "      <td>240.00</td>\n",
       "    </tr>\n",
       "    <tr>\n",
       "      <th>75%</th>\n",
       "      <td>1.00</td>\n",
       "      <td>65.00</td>\n",
       "      <td>124.00</td>\n",
       "      <td>252.22</td>\n",
       "      <td>4.00</td>\n",
       "      <td>400.79</td>\n",
       "      <td>240.00</td>\n",
       "    </tr>\n",
       "    <tr>\n",
       "      <th>max</th>\n",
       "      <td>35.00</td>\n",
       "      <td>133.00</td>\n",
       "      <td>133.00</td>\n",
       "      <td>8,030.17</td>\n",
       "      <td>96.00</td>\n",
       "      <td>21,535.90</td>\n",
       "      <td>240.00</td>\n",
       "    </tr>\n",
       "  </tbody>\n",
       "</table>\n",
       "</div>"
      ],
      "text/plain": [
       "       frequency_cal  recency_cal    T_cal  monetary_value_cal  \\\n",
       "count       2,299.00     2,299.00 2,299.00            2,299.00   \n",
       "mean            1.10        30.87    79.32              175.90   \n",
       "std             2.49        43.81    43.27              438.19   \n",
       "min             0.00         0.00     0.00                0.00   \n",
       "25%             0.00         0.00    42.00                0.00   \n",
       "50%             0.00         0.00    82.00                0.00   \n",
       "75%             1.00        65.00   124.00              252.22   \n",
       "max            35.00       133.00   133.00            8,030.17   \n",
       "\n",
       "       frequency_holdout  monetary_value_holdout  duration_holdout  \n",
       "count           2,299.00                2,299.00          2,299.00  \n",
       "mean                3.40                  316.51            240.00  \n",
       "std                 5.47                  600.80              0.00  \n",
       "min                 0.00                    0.00            240.00  \n",
       "25%                 1.00                   51.10            240.00  \n",
       "50%                 2.00                  234.32            240.00  \n",
       "75%                 4.00                  400.79            240.00  \n",
       "max                96.00               21,535.90            240.00  "
      ]
     },
     "execution_count": 108,
     "metadata": {},
     "output_type": "execute_result"
    }
   ],
   "source": [
    "summary_cal_holdout.describe()"
   ]
  },
  {
   "cell_type": "markdown",
   "metadata": {},
   "source": [
    "## BG/NBD model\n",
    "- In non-contractual business settings, the purchase behavior of customers does not follow a deterministic trend. \n",
    "    - Both **demand** levels and **churn rates** are random variables. \n",
    "- A distributional model like BG/NBD describes the random processes that influence the customer behavior, individually and in aggregate.\n",
    "- Beta Geometric Negative Binomial Distribution or BG/NBD model is based on the original Pareto/NBD model for CLV which was formulated by Schmittlein, Morrison, and Colombo in 1987.\n",
    "- The method relies on four distributional assumptions to model the uncertainties:\n",
    "    - Assumption 1: The **number of orders** a customer will place in a time period follows a **Poisson** distribution with transaction rate `lambda`. \n",
    "        - This Poisson count distribution is equivalent to the assumption that the time between transactions follows an exponential distribution with the same transaction rate lambda.\n",
    "    - Assumption 2:The **demand varies** independently between customers: heterogeneity in `lambda`. \n",
    "        - The variation in lambda is a random variable that follows a **Gamma** distribution with shape parameter `r` and scale `alpha`.\n",
    "    - Assumption 3:After any purchase, a customer may become inactive with probability `p` and turns away from the business. \n",
    "        - The churn risk follows a **Geometric** distribution.\n",
    "    - Assumption 4:The **churn risk varies** independently between customers: heterogeneity in `p`. \n",
    "        - The variation of the churn or dropout probability `p` is a random variable that follows a **Beta** distribution.\n",
    "- The assumption 1 & 2 combine to form a Poisson-Gamma mixture distribution. If the lambda rate is a Gamma random variable, then the mixture distribution is equal to a Negative binomial distribution — Wikipedia."
   ]
  },
  {
   "cell_type": "code",
   "execution_count": 109,
   "metadata": {},
   "outputs": [],
   "source": [
    "from lifetimes import BetaGeoFitter"
   ]
  },
  {
   "cell_type": "code",
   "execution_count": 110,
   "metadata": {},
   "outputs": [
    {
     "name": "stdout",
     "output_type": "stream",
     "text": [
      "Optimization terminated successfully.\n",
      "         Current function value: 0.079518\n",
      "         Iterations: 49\n",
      "         Function evaluations: 50\n",
      "         Gradient evaluations: 50\n"
     ]
    },
    {
     "data": {
      "text/html": [
       "<div>\n",
       "<style scoped>\n",
       "    .dataframe tbody tr th:only-of-type {\n",
       "        vertical-align: middle;\n",
       "    }\n",
       "\n",
       "    .dataframe tbody tr th {\n",
       "        vertical-align: top;\n",
       "    }\n",
       "\n",
       "    .dataframe thead th {\n",
       "        text-align: right;\n",
       "    }\n",
       "</style>\n",
       "<table border=\"1\" class=\"dataframe\">\n",
       "  <thead>\n",
       "    <tr style=\"text-align: right;\">\n",
       "      <th></th>\n",
       "      <th>coef</th>\n",
       "      <th>se(coef)</th>\n",
       "      <th>lower 95% bound</th>\n",
       "      <th>upper 95% bound</th>\n",
       "    </tr>\n",
       "  </thead>\n",
       "  <tbody>\n",
       "    <tr>\n",
       "      <th>r</th>\n",
       "      <td>0.69</td>\n",
       "      <td>0.04</td>\n",
       "      <td>0.60</td>\n",
       "      <td>0.77</td>\n",
       "    </tr>\n",
       "    <tr>\n",
       "      <th>alpha</th>\n",
       "      <td>54.76</td>\n",
       "      <td>3.74</td>\n",
       "      <td>47.43</td>\n",
       "      <td>62.08</td>\n",
       "    </tr>\n",
       "    <tr>\n",
       "      <th>a</th>\n",
       "      <td>0.00</td>\n",
       "      <td>0.00</td>\n",
       "      <td>-0.00</td>\n",
       "      <td>0.00</td>\n",
       "    </tr>\n",
       "    <tr>\n",
       "      <th>b</th>\n",
       "      <td>0.03</td>\n",
       "      <td>10.43</td>\n",
       "      <td>-20.40</td>\n",
       "      <td>20.47</td>\n",
       "    </tr>\n",
       "  </tbody>\n",
       "</table>\n",
       "</div>"
      ],
      "text/plain": [
       "       coef  se(coef)  lower 95% bound  upper 95% bound\n",
       "r      0.69      0.04             0.60             0.77\n",
       "alpha 54.76      3.74            47.43            62.08\n",
       "a      0.00      0.00            -0.00             0.00\n",
       "b      0.03     10.43           -20.40            20.47"
      ]
     },
     "execution_count": 110,
     "metadata": {},
     "output_type": "execute_result"
    }
   ],
   "source": [
    "bgf = BetaGeoFitter(penalizer_coef=1e-06)\n",
    "bgf.fit(summary_cal_holdout['frequency_cal'], \n",
    "        summary_cal_holdout['recency_cal'], \n",
    "        summary_cal_holdout['T_cal'],\n",
    "        weights=None,\n",
    "        verbose=True,\n",
    "        tol=1e-06\n",
    "\n",
    ")\n",
    "bgf.summary"
   ]
  },
  {
   "cell_type": "markdown",
   "metadata": {},
   "source": [
    "- The `plot_period_transactions` method draws a chart that compares the predictions with the actual observations in the training dataset. \n",
    "    - The chart suggests that the model’s predictions for the number of purchases are closely aligned with the actual observations."
   ]
  },
  {
   "cell_type": "code",
   "execution_count": 111,
   "metadata": {},
   "outputs": [
    {
     "data": {
      "text/plain": [
       "<Figure size 480x480 with 0 Axes>"
      ]
     },
     "metadata": {},
     "output_type": "display_data"
    },
    {
     "data": {
      "image/png": "[encoded data removed]",
      "text/plain": [
       "<Figure size 640x480 with 1 Axes>"
      ]
     },
     "metadata": {},
     "output_type": "display_data"
    }
   ],
   "source": [
    "# training: does the model reflect the actual data closely enough?\n",
    "\n",
    "# frequency of repeat transactions: predicted vs actual\n",
    "plt.figure(num=None, figsize=(6, 6), dpi=80, facecolor='w', edgecolor='k')\n",
    "plot_period_transactions(bgf)\n",
    "plt.show()"
   ]
  },
  {
   "cell_type": "markdown",
   "metadata": {},
   "source": [
    "- `plot_calibration_purchases_vs_holdout_purchases` compares the predicted frequency with the actual purchases in the testing period.\n",
    "    - As we can see, for higher transaction levels, the model tends to underestimate the frequency, owing to the rarity of customers who made more than 3 repeat purchases within the short training time window."
   ]
  },
  {
   "cell_type": "code",
   "execution_count": 112,
   "metadata": {},
   "outputs": [
    {
     "name": "stderr",
     "output_type": "stream",
     "text": [
      "/Users/codexplore/miniforge3/envs/ml_env/lib/python3.11/site-packages/pandas/core/arraylike.py:396: RuntimeWarning: invalid value encountered in log\n",
      "  result = getattr(ufunc, method)(*inputs, **kwargs)\n"
     ]
    },
    {
     "data": {
      "image/png": "[encoded data removed]",
      "text/plain": [
       "<Figure size 640x480 with 1 Axes>"
      ]
     },
     "metadata": {},
     "output_type": "display_data"
    }
   ],
   "source": [
    "plot_calibration_purchases_vs_holdout_purchases(bgf, summary_cal_holdout);"
   ]
  },
  {
   "cell_type": "markdown",
   "metadata": {},
   "source": [
    "### Fit BG/NBD Model with Full dataset"
   ]
  },
  {
   "cell_type": "code",
   "execution_count": 113,
   "metadata": {},
   "outputs": [
    {
     "name": "stdout",
     "output_type": "stream",
     "text": [
      "Optimization terminated successfully.\n",
      "         Current function value: -2.709794\n",
      "         Iterations: 38\n",
      "         Function evaluations: 39\n",
      "         Gradient evaluations: 39\n"
     ]
    },
    {
     "data": {
      "text/html": [
       "<div>\n",
       "<style scoped>\n",
       "    .dataframe tbody tr th:only-of-type {\n",
       "        vertical-align: middle;\n",
       "    }\n",
       "\n",
       "    .dataframe tbody tr th {\n",
       "        vertical-align: top;\n",
       "    }\n",
       "\n",
       "    .dataframe thead th {\n",
       "        text-align: right;\n",
       "    }\n",
       "</style>\n",
       "<table border=\"1\" class=\"dataframe\">\n",
       "  <thead>\n",
       "    <tr style=\"text-align: right;\">\n",
       "      <th></th>\n",
       "      <th>coef</th>\n",
       "      <th>se(coef)</th>\n",
       "      <th>lower 95% bound</th>\n",
       "      <th>upper 95% bound</th>\n",
       "    </tr>\n",
       "  </thead>\n",
       "  <tbody>\n",
       "    <tr>\n",
       "      <th>r</th>\n",
       "      <td>0.83</td>\n",
       "      <td>0.03</td>\n",
       "      <td>0.77</td>\n",
       "      <td>0.88</td>\n",
       "    </tr>\n",
       "    <tr>\n",
       "      <th>alpha</th>\n",
       "      <td>68.91</td>\n",
       "      <td>2.62</td>\n",
       "      <td>63.78</td>\n",
       "      <td>74.04</td>\n",
       "    </tr>\n",
       "    <tr>\n",
       "      <th>a</th>\n",
       "      <td>0.00</td>\n",
       "      <td>0.01</td>\n",
       "      <td>-0.01</td>\n",
       "      <td>0.01</td>\n",
       "    </tr>\n",
       "    <tr>\n",
       "      <th>b</th>\n",
       "      <td>2.97</td>\n",
       "      <td>6.27</td>\n",
       "      <td>-9.32</td>\n",
       "      <td>15.25</td>\n",
       "    </tr>\n",
       "  </tbody>\n",
       "</table>\n",
       "</div>"
      ],
      "text/plain": [
       "       coef  se(coef)  lower 95% bound  upper 95% bound\n",
       "r      0.83      0.03             0.77             0.88\n",
       "alpha 68.91      2.62            63.78            74.04\n",
       "a      0.00      0.01            -0.01             0.01\n",
       "b      2.97      6.27            -9.32            15.25"
      ]
     },
     "execution_count": 113,
     "metadata": {},
     "output_type": "execute_result"
    }
   ],
   "source": [
    "# BG/NBD model\n",
    "bgf = BetaGeoFitter(penalizer_coef=1e-06)\n",
    "bgf.fit(\n",
    "        frequency = df_rfmt[\"frequency\"], \n",
    "        recency = df_rfmt[\"recency\"], \n",
    "        T = df_rfmt[\"T\"],   \n",
    "        weights = None,  \n",
    "        verbose = True,   \n",
    "        tol = 1e-06)\n",
    "\n",
    "bgf.summary"
   ]
  },
  {
   "cell_type": "code",
   "execution_count": 114,
   "metadata": {},
   "outputs": [
    {
     "data": {
      "text/plain": [
       "<Figure size 480x480 with 0 Axes>"
      ]
     },
     "metadata": {},
     "output_type": "display_data"
    },
    {
     "data": {
      "image/png": "[encoded data removed]",
      "text/plain": [
       "<Figure size 640x480 with 1 Axes>"
      ]
     },
     "metadata": {},
     "output_type": "display_data"
    }
   ],
   "source": [
    "# training: does the model reflect the actual data closely enough?\n",
    "\n",
    "# frequency of repeat transactions: predicted vs actual\n",
    "plt.figure(num=None, figsize=(6, 6), dpi=80, facecolor='w', edgecolor='k')\n",
    "plot_period_transactions(bgf, max_frequency=10)\n",
    "plt.show()"
   ]
  },
  {
   "cell_type": "markdown",
   "metadata": {},
   "source": [
    "#### Frequency / Recency Matrix\n",
    "- `plot_frequency_recency_matrix()` is to create predictions and visualise once the BG/NBD model has been fitted to the data. \n",
    "- The matrix has \n",
    "    - The customer’s **recency** on the Y axis \n",
    "    - The **frequency** on the X axis \n",
    "    - The heatmap component is showing the predicted number of future purchases customers at intersecting points will make in one unit of time. \n",
    "- The customers most likely to order are those who’ve placed lots of previous orders and have been seen relatively recently."
   ]
  },
  {
   "cell_type": "code",
   "execution_count": 115,
   "metadata": {},
   "outputs": [
    {
     "data": {
      "image/png": "[encoded data removed]",
      "text/plain": [
       "<Figure size 600x600 with 2 Axes>"
      ]
     },
     "metadata": {},
     "output_type": "display_data"
    },
    {
     "data": {
      "image/png": "[encoded data removed]",
      "text/plain": [
       "<Figure size 600x600 with 2 Axes>"
      ]
     },
     "metadata": {},
     "output_type": "display_data"
    }
   ],
   "source": [
    "def plot_freq_rec(t):\n",
    "    plt.figure(figsize=(6, 6)) \n",
    "    plot_frequency_recency_matrix(\n",
    "            model = bgf,   \n",
    "            T = t,  \n",
    ");\n",
    "            \n",
    "            \n",
    "# call plotter function for different forecast periods:\n",
    "t_list = [10, 90]\n",
    "_ = [plot_freq_rec(t) for t in t_list]"
   ]
  },
  {
   "cell_type": "markdown",
   "metadata": {},
   "source": [
    "- The frequency/recency matrices both show the same shape of the probability distribution, for 10 as well as 90 days\n",
    "    - With a reddish hot zone in the lower right corner. The shape of the distribution remains constant.\n",
    "    - They only differ in their scales on the right-hand side: the number of purchases over a longer or shorter number of days.\n",
    "- Each matrix demonstrates that a customer with a high frequency (80 or more transactions ), combined with a long recency (more than 300 days between first and latest transactions), will exhibit the highest propensity for future purchases: orange to red, implying 15 to 25 transactions over the next 90 days."
   ]
  },
  {
   "cell_type": "markdown",
   "metadata": {},
   "source": [
    "### Predict the number of orders each customer will make during a time period\n",
    "- Use the BG/NBD model data to predict the number of purchases each customer will make in some forthcoming periods."
   ]
  },
  {
   "cell_type": "code",
   "execution_count": 118,
   "metadata": {},
   "outputs": [
    {
     "name": "stdout",
     "output_type": "stream",
     "text": [
      "customer_id=12748: expected number of purchases within 30 days = 7.7\n"
     ]
    }
   ],
   "source": [
    "# predict for single customer\n",
    "# predict purchases for a selected customer for t days\n",
    "t = 30\n",
    "cust_id = 12748\n",
    "\n",
    "df_rfmt_C = df_rfmt.loc[cust_id,:]\n",
    "pred_C = bgf.predict(t, \n",
    "                    df_rfmt_C[\"frequency\"], \n",
    "                    df_rfmt_C[\"recency\"], \n",
    "                    df_rfmt_C[\"T\"])\n",
    "print(f\"customer_id={cust_id}: expected number of purchases within {t} days = {pred_C:.1f}\")\n"
   ]
  },
  {
   "cell_type": "code",
   "execution_count": 120,
   "metadata": {},
   "outputs": [],
   "source": [
    "def predict_purch(df, t):\n",
    "    # predict each customer's purchases over next t days\n",
    "    df[f\"predict_purch_{t}\" ] = \\\n",
    "            bgf.predict(\n",
    "                t, \n",
    "                df[\"frequency\"], \n",
    "                df[\"recency\"], \n",
    "                df[\"T\"])\n",
    "    return df\n",
    "# get the expected purchase volume over 10, 30, 60, and 90 days.                    \n",
    "for t in [10,30,60,90]:\n",
    "    df_rfmt = predict_purch(df_rfmt, t)\n",
    "\n"
   ]
  },
  {
   "cell_type": "code",
   "execution_count": 126,
   "metadata": {},
   "outputs": [
    {
     "data": {
      "text/html": [
       "<div>\n",
       "<style scoped>\n",
       "    .dataframe tbody tr th:only-of-type {\n",
       "        vertical-align: middle;\n",
       "    }\n",
       "\n",
       "    .dataframe tbody tr th {\n",
       "        vertical-align: top;\n",
       "    }\n",
       "\n",
       "    .dataframe thead th {\n",
       "        text-align: right;\n",
       "    }\n",
       "</style>\n",
       "<table border=\"1\" class=\"dataframe\">\n",
       "  <thead>\n",
       "    <tr style=\"text-align: right;\">\n",
       "      <th></th>\n",
       "      <th>frequency</th>\n",
       "      <th>recency</th>\n",
       "      <th>T</th>\n",
       "      <th>monetary_value</th>\n",
       "      <th>predict_purch_10</th>\n",
       "      <th>predict_purch_30</th>\n",
       "      <th>predict_purch_60</th>\n",
       "      <th>predict_purch_90</th>\n",
       "    </tr>\n",
       "    <tr>\n",
       "      <th>customer_id</th>\n",
       "      <th></th>\n",
       "      <th></th>\n",
       "      <th></th>\n",
       "      <th></th>\n",
       "      <th></th>\n",
       "      <th></th>\n",
       "      <th></th>\n",
       "      <th></th>\n",
       "    </tr>\n",
       "  </thead>\n",
       "  <tbody>\n",
       "    <tr>\n",
       "      <th>14911</th>\n",
       "      <td>131.00</td>\n",
       "      <td>372.00</td>\n",
       "      <td>373.00</td>\n",
       "      <td>1,093.66</td>\n",
       "      <td>2.98</td>\n",
       "      <td>8.95</td>\n",
       "      <td>17.90</td>\n",
       "      <td>26.84</td>\n",
       "    </tr>\n",
       "    <tr>\n",
       "      <th>12748</th>\n",
       "      <td>113.00</td>\n",
       "      <td>373.00</td>\n",
       "      <td>373.00</td>\n",
       "      <td>298.36</td>\n",
       "      <td>2.58</td>\n",
       "      <td>7.73</td>\n",
       "      <td>15.45</td>\n",
       "      <td>23.18</td>\n",
       "    </tr>\n",
       "    <tr>\n",
       "      <th>17841</th>\n",
       "      <td>111.00</td>\n",
       "      <td>372.00</td>\n",
       "      <td>373.00</td>\n",
       "      <td>364.45</td>\n",
       "      <td>2.53</td>\n",
       "      <td>7.59</td>\n",
       "      <td>15.18</td>\n",
       "      <td>22.77</td>\n",
       "    </tr>\n",
       "    <tr>\n",
       "      <th>15311</th>\n",
       "      <td>89.00</td>\n",
       "      <td>373.00</td>\n",
       "      <td>373.00</td>\n",
       "      <td>677.73</td>\n",
       "      <td>2.03</td>\n",
       "      <td>6.10</td>\n",
       "      <td>12.19</td>\n",
       "      <td>18.29</td>\n",
       "    </tr>\n",
       "    <tr>\n",
       "      <th>14606</th>\n",
       "      <td>88.00</td>\n",
       "      <td>372.00</td>\n",
       "      <td>373.00</td>\n",
       "      <td>135.89</td>\n",
       "      <td>2.01</td>\n",
       "      <td>6.03</td>\n",
       "      <td>12.06</td>\n",
       "      <td>18.09</td>\n",
       "    </tr>\n",
       "  </tbody>\n",
       "</table>\n",
       "</div>"
      ],
      "text/plain": [
       "             frequency  recency      T  monetary_value  predict_purch_10  \\\n",
       "customer_id                                                                \n",
       "14911           131.00   372.00 373.00        1,093.66              2.98   \n",
       "12748           113.00   373.00 373.00          298.36              2.58   \n",
       "17841           111.00   372.00 373.00          364.45              2.53   \n",
       "15311            89.00   373.00 373.00          677.73              2.03   \n",
       "14606            88.00   372.00 373.00          135.89              2.01   \n",
       "\n",
       "             predict_purch_30  predict_purch_60  predict_purch_90  \n",
       "customer_id                                                        \n",
       "14911                    8.95             17.90             26.84  \n",
       "12748                    7.73             15.45             23.18  \n",
       "17841                    7.59             15.18             22.77  \n",
       "15311                    6.10             12.19             18.29  \n",
       "14606                    6.03             12.06             18.09  "
      ]
     },
     "execution_count": 126,
     "metadata": {},
     "output_type": "execute_result"
    }
   ],
   "source": [
    "df_rfmt.sort_values(by='predict_purch_90', ascending=False).head()"
   ]
  },
  {
   "cell_type": "markdown",
   "metadata": {},
   "source": [
    "- Most customers in the dataset aren’t going to order in the next 90 days. \n",
    "- Only a few big spenders have the inclination or the means to place an order over the next 90 days\n",
    "- Obviously, this is based only on the customers in the dataset, so this prediction wouldn’t include any customers acquired since then or during the 90 day period, so will be higher in reality."
   ]
  },
  {
   "cell_type": "code",
   "execution_count": 135,
   "metadata": {},
   "outputs": [
    {
     "data": {
      "image/png": "[encoded data removed]",
      "text/plain": [
       "<Figure size 640x480 with 1 Axes>"
      ]
     },
     "metadata": {},
     "output_type": "display_data"
    }
   ],
   "source": [
    "sns.histplot(df_rfmt['predict_purch_90'], kde=True, bins=50).set_xlim(0,8);"
   ]
  },
  {
   "cell_type": "markdown",
   "metadata": {},
   "source": [
    "- `probability_of_n_purchases_up_to_time` computes the average number of transactions per customer within a period of time."
   ]
  },
  {
   "cell_type": "code",
   "execution_count": 136,
   "metadata": {},
   "outputs": [],
   "source": [
    "def prob_purch(t, n):\n",
    "    # probability of n repeat purchases within t days\n",
    "    p = bgf.probability_of_n_purchases_up_to_time(t, n)\n",
    "    return p\n",
    "\n",
    "\n",
    "  # call helper function: probability of n repeat purchases within t days\n",
    "t = 90                  # forecast period, days\n",
    "purch = range(0,10)   # number of repeat purchases from 0 to 9\n",
    "probs = [prob_purch(t,n) for n in purch]"
   ]
  },
  {
   "cell_type": "code",
   "execution_count": 142,
   "metadata": {},
   "outputs": [
    {
     "data": {
      "image/png": "[encoded data removed]",
      "text/plain": [
       "<Figure size 800x400 with 1 Axes>"
      ]
     },
     "metadata": {},
     "output_type": "display_data"
    }
   ],
   "source": [
    "fig, ax = plt.subplots(figsize=(8,4))\n",
    "ax.plot(purch, probs, '-o', color='blue')\n",
    "ax.set(xlabel=\"Avg number of purchases\", ylabel=\"Probability\")\n",
    "ax.set_xticks(purch)\n",
    "plt.show()"
   ]
  },
  {
   "cell_type": "markdown",
   "metadata": {},
   "source": [
    "### Customer Churn Probability\n",
    "- In the next step, we will estimate a customer’s churn risk \n",
    "- Conversely, her probability of being alive (in her role as a customer) at time t."
   ]
  },
  {
   "cell_type": "code",
   "execution_count": 143,
   "metadata": {},
   "outputs": [],
   "source": [
    "# probability that a customer is alive for each customer in dataframe\n",
    "prob_alive = bgf.conditional_probability_alive(\n",
    "        frequency = df_rfmt[\"frequency\"], \n",
    "        recency = df_rfmt[\"recency\"], \n",
    "        T = df_rfmt[\"T\"])\n",
    "\n",
    "df_rfmt[\"prob_alive\"] = prob_alive"
   ]
  },
  {
   "cell_type": "code",
   "execution_count": 144,
   "metadata": {},
   "outputs": [
    {
     "data": {
      "text/plain": [
       "count   4,339.00\n",
       "mean        1.00\n",
       "std         0.01\n",
       "min         0.75\n",
       "25%         1.00\n",
       "50%         1.00\n",
       "75%         1.00\n",
       "max         1.00\n",
       "Name: prob_alive, dtype: float64"
      ]
     },
     "execution_count": 144,
     "metadata": {},
     "output_type": "execute_result"
    }
   ],
   "source": [
    "df_rfmt[\"prob_alive\"].describe()"
   ]
  },
  {
   "cell_type": "markdown",
   "metadata": {},
   "source": [
    "- Almost all customers have the probability > 99%. \n",
    "- Let's investigate on those with the prob < 90%.\n",
    "    - Interestingly, there is only 4 customers with a survival rating of less than 90% "
   ]
  },
  {
   "cell_type": "code",
   "execution_count": 148,
   "metadata": {},
   "outputs": [
    {
     "data": {
      "text/html": [
       "<div>\n",
       "<style scoped>\n",
       "    .dataframe tbody tr th:only-of-type {\n",
       "        vertical-align: middle;\n",
       "    }\n",
       "\n",
       "    .dataframe tbody tr th {\n",
       "        vertical-align: top;\n",
       "    }\n",
       "\n",
       "    .dataframe thead th {\n",
       "        text-align: right;\n",
       "    }\n",
       "</style>\n",
       "<table border=\"1\" class=\"dataframe\">\n",
       "  <thead>\n",
       "    <tr style=\"text-align: right;\">\n",
       "      <th></th>\n",
       "      <th>frequency</th>\n",
       "      <th>recency</th>\n",
       "      <th>T</th>\n",
       "      <th>monetary_value</th>\n",
       "      <th>predict_purch_10</th>\n",
       "      <th>predict_purch_30</th>\n",
       "      <th>predict_purch_60</th>\n",
       "      <th>predict_purch_90</th>\n",
       "      <th>prob_alive</th>\n",
       "    </tr>\n",
       "    <tr>\n",
       "      <th>customer_id</th>\n",
       "      <th></th>\n",
       "      <th></th>\n",
       "      <th></th>\n",
       "      <th></th>\n",
       "      <th></th>\n",
       "      <th></th>\n",
       "      <th></th>\n",
       "      <th></th>\n",
       "      <th></th>\n",
       "    </tr>\n",
       "  </thead>\n",
       "  <tbody>\n",
       "    <tr>\n",
       "      <th>13093</th>\n",
       "      <td>6.00</td>\n",
       "      <td>98.00</td>\n",
       "      <td>373.00</td>\n",
       "      <td>1,172.18</td>\n",
       "      <td>0.13</td>\n",
       "      <td>0.39</td>\n",
       "      <td>0.79</td>\n",
       "      <td>1.18</td>\n",
       "      <td>0.85</td>\n",
       "    </tr>\n",
       "    <tr>\n",
       "      <th>15107</th>\n",
       "      <td>5.00</td>\n",
       "      <td>61.00</td>\n",
       "      <td>372.00</td>\n",
       "      <td>40.70</td>\n",
       "      <td>0.10</td>\n",
       "      <td>0.30</td>\n",
       "      <td>0.60</td>\n",
       "      <td>0.89</td>\n",
       "      <td>0.75</td>\n",
       "    </tr>\n",
       "    <tr>\n",
       "      <th>15235</th>\n",
       "      <td>9.00</td>\n",
       "      <td>156.00</td>\n",
       "      <td>373.00</td>\n",
       "      <td>240.89</td>\n",
       "      <td>0.20</td>\n",
       "      <td>0.59</td>\n",
       "      <td>1.18</td>\n",
       "      <td>1.77</td>\n",
       "      <td>0.89</td>\n",
       "    </tr>\n",
       "    <tr>\n",
       "      <th>16725</th>\n",
       "      <td>5.00</td>\n",
       "      <td>69.00</td>\n",
       "      <td>371.00</td>\n",
       "      <td>131.77</td>\n",
       "      <td>0.11</td>\n",
       "      <td>0.32</td>\n",
       "      <td>0.65</td>\n",
       "      <td>0.97</td>\n",
       "      <td>0.81</td>\n",
       "    </tr>\n",
       "  </tbody>\n",
       "</table>\n",
       "</div>"
      ],
      "text/plain": [
       "             frequency  recency      T  monetary_value  predict_purch_10  \\\n",
       "customer_id                                                                \n",
       "13093             6.00    98.00 373.00        1,172.18              0.13   \n",
       "15107             5.00    61.00 372.00           40.70              0.10   \n",
       "15235             9.00   156.00 373.00          240.89              0.20   \n",
       "16725             5.00    69.00 371.00          131.77              0.11   \n",
       "\n",
       "             predict_purch_30  predict_purch_60  predict_purch_90  prob_alive  \n",
       "customer_id                                                                    \n",
       "13093                    0.39              0.79              1.18        0.85  \n",
       "15107                    0.30              0.60              0.89        0.75  \n",
       "15235                    0.59              1.18              1.77        0.89  \n",
       "16725                    0.32              0.65              0.97        0.81  "
      ]
     },
     "execution_count": 148,
     "metadata": {},
     "output_type": "execute_result"
    }
   ],
   "source": [
    "df_rfmt[df_rfmt[\"prob_alive\"] < 0.9]"
   ]
  },
  {
   "cell_type": "markdown",
   "metadata": {},
   "source": [
    "- Let’s examine customer ID = 15107, with a rating of 75%."
   ]
  },
  {
   "cell_type": "code",
   "execution_count": 152,
   "metadata": {},
   "outputs": [],
   "source": [
    "customer_id = 15107\n",
    "df_c_15107 = df_orders[df_orders[\"customer_id\"]==15107] "
   ]
  },
  {
   "cell_type": "code",
   "execution_count": 177,
   "metadata": {},
   "outputs": [
    {
     "data": {
      "image/png": "[encoded data removed]",
      "text/plain": [
       "<Figure size 2000x400 with 1 Axes>"
      ]
     },
     "metadata": {},
     "output_type": "display_data"
    }
   ],
   "source": [
    "# history of the selected customer: probability over time of being alive\n",
    "fig = plt.figure(figsize=(20,4))\n",
    "span_days = 373\n",
    "plot_history_alive(\n",
    "                    model = bgf, \n",
    "                    t=span_days,\n",
    "                    transactions = df_c_15107, \n",
    "                    datetime_col = \"invoice_date\");\n",
    "                    "
   ]
  },
  {
   "cell_type": "markdown",
   "metadata": {},
   "source": [
    "- Customer 12347 from our original dataset, we can see that they’ve placed 7 orders since they were first acquired on 2010-12-07 about 365 days ago."
   ]
  },
  {
   "cell_type": "code",
   "execution_count": 180,
   "metadata": {},
   "outputs": [
    {
     "data": {
      "text/plain": [
       "count   374.00\n",
       "mean      0.95\n",
       "std       0.07\n",
       "min       0.75\n",
       "25%       0.92\n",
       "50%       0.99\n",
       "75%       1.00\n",
       "max       1.00\n",
       "dtype: float64"
      ]
     },
     "execution_count": 180,
     "metadata": {},
     "output_type": "execute_result"
    }
   ],
   "source": [
    " # selected customer's probability of being alive - development over time\n",
    "path_alive = calculate_alive_path(\n",
    "            model = bgf, \n",
    "            t = span_days, \n",
    "            transactions = df_c_15107, \n",
    "            datetime_col = \"invoice_date\")\n",
    "path_alive.explode().astype(np.float64).describe()"
   ]
  },
  {
   "cell_type": "markdown",
   "metadata": {},
   "source": [
    "## Gamma-Gamma Model\n",
    "- The **BG/NBD** model enables us to predict both the number of transactions and the churn risk (conversely, the probability of being alive) for each customer.\n",
    "- **Gamma-Gamma** (GG) model was written by Peter Fader and Bruce Hardie in 2013 and was based on one of Fader’s earlier models to estimate the **monetary values** that correspond to the count data. \n",
    "    - Fader/Hardie suggested the **Gamma distribution** as a more appropriate alternative to mirror a customer’s average transaction value.\n",
    "- Assumption: monetary value and frequency are independent variables and aren’t correlated with each other. \n",
    "- Goal: to predict the monetary value of the orders the customer will place"
   ]
  },
  {
   "cell_type": "code",
   "execution_count": 182,
   "metadata": {},
   "outputs": [
    {
     "data": {
      "text/html": [
       "<div>\n",
       "<style scoped>\n",
       "    .dataframe tbody tr th:only-of-type {\n",
       "        vertical-align: middle;\n",
       "    }\n",
       "\n",
       "    .dataframe tbody tr th {\n",
       "        vertical-align: top;\n",
       "    }\n",
       "\n",
       "    .dataframe thead th {\n",
       "        text-align: right;\n",
       "    }\n",
       "</style>\n",
       "<table border=\"1\" class=\"dataframe\">\n",
       "  <thead>\n",
       "    <tr style=\"text-align: right;\">\n",
       "      <th></th>\n",
       "      <th>frequency</th>\n",
       "      <th>recency</th>\n",
       "      <th>T</th>\n",
       "      <th>monetary_value</th>\n",
       "      <th>predict_purch_10</th>\n",
       "      <th>predict_purch_30</th>\n",
       "      <th>predict_purch_60</th>\n",
       "      <th>predict_purch_90</th>\n",
       "      <th>prob_alive</th>\n",
       "    </tr>\n",
       "    <tr>\n",
       "      <th>customer_id</th>\n",
       "      <th></th>\n",
       "      <th></th>\n",
       "      <th></th>\n",
       "      <th></th>\n",
       "      <th></th>\n",
       "      <th></th>\n",
       "      <th></th>\n",
       "      <th></th>\n",
       "      <th></th>\n",
       "    </tr>\n",
       "  </thead>\n",
       "  <tbody>\n",
       "    <tr>\n",
       "      <th>16446</th>\n",
       "      <td>1.00</td>\n",
       "      <td>205.00</td>\n",
       "      <td>205.00</td>\n",
       "      <td>168,469.60</td>\n",
       "      <td>0.07</td>\n",
       "      <td>0.20</td>\n",
       "      <td>0.40</td>\n",
       "      <td>0.60</td>\n",
       "      <td>1.00</td>\n",
       "    </tr>\n",
       "    <tr>\n",
       "      <th>15749</th>\n",
       "      <td>1.00</td>\n",
       "      <td>97.00</td>\n",
       "      <td>332.00</td>\n",
       "      <td>21,535.90</td>\n",
       "      <td>0.05</td>\n",
       "      <td>0.14</td>\n",
       "      <td>0.27</td>\n",
       "      <td>0.41</td>\n",
       "      <td>1.00</td>\n",
       "    </tr>\n",
       "    <tr>\n",
       "      <th>18102</th>\n",
       "      <td>25.00</td>\n",
       "      <td>367.00</td>\n",
       "      <td>367.00</td>\n",
       "      <td>9,349.48</td>\n",
       "      <td>0.59</td>\n",
       "      <td>1.78</td>\n",
       "      <td>3.55</td>\n",
       "      <td>5.33</td>\n",
       "      <td>1.00</td>\n",
       "    </tr>\n",
       "    <tr>\n",
       "      <th>12536</th>\n",
       "      <td>1.00</td>\n",
       "      <td>16.00</td>\n",
       "      <td>59.00</td>\n",
       "      <td>8,322.12</td>\n",
       "      <td>0.14</td>\n",
       "      <td>0.43</td>\n",
       "      <td>0.86</td>\n",
       "      <td>1.28</td>\n",
       "      <td>1.00</td>\n",
       "    </tr>\n",
       "    <tr>\n",
       "      <th>12415</th>\n",
       "      <td>15.00</td>\n",
       "      <td>313.00</td>\n",
       "      <td>337.00</td>\n",
       "      <td>7,860.21</td>\n",
       "      <td>0.39</td>\n",
       "      <td>1.17</td>\n",
       "      <td>2.34</td>\n",
       "      <td>3.51</td>\n",
       "      <td>1.00</td>\n",
       "    </tr>\n",
       "  </tbody>\n",
       "</table>\n",
       "</div>"
      ],
      "text/plain": [
       "             frequency  recency      T  monetary_value  predict_purch_10  \\\n",
       "customer_id                                                                \n",
       "16446             1.00   205.00 205.00      168,469.60              0.07   \n",
       "15749             1.00    97.00 332.00       21,535.90              0.05   \n",
       "18102            25.00   367.00 367.00        9,349.48              0.59   \n",
       "12536             1.00    16.00  59.00        8,322.12              0.14   \n",
       "12415            15.00   313.00 337.00        7,860.21              0.39   \n",
       "\n",
       "             predict_purch_30  predict_purch_60  predict_purch_90  prob_alive  \n",
       "customer_id                                                                    \n",
       "16446                    0.20              0.40              0.60        1.00  \n",
       "15749                    0.14              0.27              0.41        1.00  \n",
       "18102                    1.78              3.55              5.33        1.00  \n",
       "12536                    0.43              0.86              1.28        1.00  \n",
       "12415                    1.17              2.34              3.51        1.00  "
      ]
     },
     "execution_count": 182,
     "metadata": {},
     "output_type": "execute_result"
    }
   ],
   "source": [
    "# The GG model only works for positive monetary values (>0). \n",
    "# Thus, we exclude the few transactions with a unit price of zero.\n",
    "returning_customers = df_rfmt[(df_rfmt['frequency'] > 0) & (df_rfmt['monetary_value'] > 0)]\n",
    "returning_customers.sort_values(by='monetary_value', ascending=False).head()"
   ]
  },
  {
   "cell_type": "code",
   "execution_count": 183,
   "metadata": {},
   "outputs": [
    {
     "data": {
      "text/html": [
       "<div>\n",
       "<style scoped>\n",
       "    .dataframe tbody tr th:only-of-type {\n",
       "        vertical-align: middle;\n",
       "    }\n",
       "\n",
       "    .dataframe tbody tr th {\n",
       "        vertical-align: top;\n",
       "    }\n",
       "\n",
       "    .dataframe thead th {\n",
       "        text-align: right;\n",
       "    }\n",
       "</style>\n",
       "<table border=\"1\" class=\"dataframe\">\n",
       "  <thead>\n",
       "    <tr style=\"text-align: right;\">\n",
       "      <th></th>\n",
       "      <th>frequency</th>\n",
       "      <th>recency</th>\n",
       "      <th>T</th>\n",
       "      <th>monetary_value</th>\n",
       "      <th>predict_purch_10</th>\n",
       "      <th>predict_purch_30</th>\n",
       "      <th>predict_purch_60</th>\n",
       "      <th>predict_purch_90</th>\n",
       "      <th>prob_alive</th>\n",
       "    </tr>\n",
       "  </thead>\n",
       "  <tbody>\n",
       "    <tr>\n",
       "      <th>count</th>\n",
       "      <td>2,790.00</td>\n",
       "      <td>2,790.00</td>\n",
       "      <td>2,790.00</td>\n",
       "      <td>2,790.00</td>\n",
       "      <td>2,790.00</td>\n",
       "      <td>2,790.00</td>\n",
       "      <td>2,790.00</td>\n",
       "      <td>2,790.00</td>\n",
       "      <td>2,790.00</td>\n",
       "    </tr>\n",
       "    <tr>\n",
       "      <th>mean</th>\n",
       "      <td>4.45</td>\n",
       "      <td>203.33</td>\n",
       "      <td>260.12</td>\n",
       "      <td>477.36</td>\n",
       "      <td>0.16</td>\n",
       "      <td>0.48</td>\n",
       "      <td>0.95</td>\n",
       "      <td>1.43</td>\n",
       "      <td>1.00</td>\n",
       "    </tr>\n",
       "    <tr>\n",
       "      <th>std</th>\n",
       "      <td>6.93</td>\n",
       "      <td>111.46</td>\n",
       "      <td>101.48</td>\n",
       "      <td>3,245.62</td>\n",
       "      <td>0.16</td>\n",
       "      <td>0.49</td>\n",
       "      <td>0.97</td>\n",
       "      <td>1.46</td>\n",
       "      <td>0.01</td>\n",
       "    </tr>\n",
       "    <tr>\n",
       "      <th>min</th>\n",
       "      <td>1.00</td>\n",
       "      <td>1.00</td>\n",
       "      <td>9.00</td>\n",
       "      <td>1.00</td>\n",
       "      <td>0.04</td>\n",
       "      <td>0.12</td>\n",
       "      <td>0.24</td>\n",
       "      <td>0.37</td>\n",
       "      <td>0.75</td>\n",
       "    </tr>\n",
       "    <tr>\n",
       "      <th>25%</th>\n",
       "      <td>1.00</td>\n",
       "      <td>106.00</td>\n",
       "      <td>197.25</td>\n",
       "      <td>187.17</td>\n",
       "      <td>0.07</td>\n",
       "      <td>0.22</td>\n",
       "      <td>0.45</td>\n",
       "      <td>0.67</td>\n",
       "      <td>1.00</td>\n",
       "    </tr>\n",
       "    <tr>\n",
       "      <th>50%</th>\n",
       "      <td>3.00</td>\n",
       "      <td>211.00</td>\n",
       "      <td>284.00</td>\n",
       "      <td>309.47</td>\n",
       "      <td>0.12</td>\n",
       "      <td>0.36</td>\n",
       "      <td>0.71</td>\n",
       "      <td>1.07</td>\n",
       "      <td>1.00</td>\n",
       "    </tr>\n",
       "    <tr>\n",
       "      <th>75%</th>\n",
       "      <td>5.00</td>\n",
       "      <td>301.75</td>\n",
       "      <td>358.00</td>\n",
       "      <td>458.37</td>\n",
       "      <td>0.18</td>\n",
       "      <td>0.55</td>\n",
       "      <td>1.11</td>\n",
       "      <td>1.66</td>\n",
       "      <td>1.00</td>\n",
       "    </tr>\n",
       "    <tr>\n",
       "      <th>max</th>\n",
       "      <td>131.00</td>\n",
       "      <td>373.00</td>\n",
       "      <td>373.00</td>\n",
       "      <td>168,469.60</td>\n",
       "      <td>2.98</td>\n",
       "      <td>8.95</td>\n",
       "      <td>17.90</td>\n",
       "      <td>26.84</td>\n",
       "      <td>1.00</td>\n",
       "    </tr>\n",
       "  </tbody>\n",
       "</table>\n",
       "</div>"
      ],
      "text/plain": [
       "       frequency  recency        T  monetary_value  predict_purch_10  \\\n",
       "count   2,790.00 2,790.00 2,790.00        2,790.00          2,790.00   \n",
       "mean        4.45   203.33   260.12          477.36              0.16   \n",
       "std         6.93   111.46   101.48        3,245.62              0.16   \n",
       "min         1.00     1.00     9.00            1.00              0.04   \n",
       "25%         1.00   106.00   197.25          187.17              0.07   \n",
       "50%         3.00   211.00   284.00          309.47              0.12   \n",
       "75%         5.00   301.75   358.00          458.37              0.18   \n",
       "max       131.00   373.00   373.00      168,469.60              2.98   \n",
       "\n",
       "       predict_purch_30  predict_purch_60  predict_purch_90  prob_alive  \n",
       "count          2,790.00          2,790.00          2,790.00    2,790.00  \n",
       "mean               0.48              0.95              1.43        1.00  \n",
       "std                0.49              0.97              1.46        0.01  \n",
       "min                0.12              0.24              0.37        0.75  \n",
       "25%                0.22              0.45              0.67        1.00  \n",
       "50%                0.36              0.71              1.07        1.00  \n",
       "75%                0.55              1.11              1.66        1.00  \n",
       "max                8.95             17.90             26.84        1.00  "
      ]
     },
     "execution_count": 183,
     "metadata": {},
     "output_type": "execute_result"
    }
   ],
   "source": [
    "returning_customers.describe()"
   ]
  },
  {
   "cell_type": "markdown",
   "metadata": {},
   "source": [
    "- The correlation matrix confirms that the Pearson’s correlation coefficient amounts to a modest 0.016 in our example, low enough that we will proceed."
   ]
  },
  {
   "cell_type": "code",
   "execution_count": 69,
   "metadata": {},
   "outputs": [
    {
     "data": {
      "text/html": [
       "<div>\n",
       "<style scoped>\n",
       "    .dataframe tbody tr th:only-of-type {\n",
       "        vertical-align: middle;\n",
       "    }\n",
       "\n",
       "    .dataframe tbody tr th {\n",
       "        vertical-align: top;\n",
       "    }\n",
       "\n",
       "    .dataframe thead th {\n",
       "        text-align: right;\n",
       "    }\n",
       "</style>\n",
       "<table border=\"1\" class=\"dataframe\">\n",
       "  <thead>\n",
       "    <tr style=\"text-align: right;\">\n",
       "      <th></th>\n",
       "      <th>monetary_value</th>\n",
       "      <th>frequency</th>\n",
       "    </tr>\n",
       "  </thead>\n",
       "  <tbody>\n",
       "    <tr>\n",
       "      <th>monetary_value</th>\n",
       "      <td>1.000000</td>\n",
       "      <td>0.015882</td>\n",
       "    </tr>\n",
       "    <tr>\n",
       "      <th>frequency</th>\n",
       "      <td>0.015882</td>\n",
       "      <td>1.000000</td>\n",
       "    </tr>\n",
       "  </tbody>\n",
       "</table>\n",
       "</div>"
      ],
      "text/plain": [
       "                monetary_value  frequency\n",
       "monetary_value        1.000000   0.015882\n",
       "frequency             0.015882   1.000000"
      ]
     },
     "execution_count": 69,
     "metadata": {},
     "output_type": "execute_result"
    }
   ],
   "source": [
    "returning_customers[['monetary_value', 'frequency']].corr()"
   ]
  },
  {
   "cell_type": "code",
   "execution_count": 198,
   "metadata": {},
   "outputs": [
    {
     "data": {
      "text/plain": [
       "<lifetimes.GammaGammaFitter: fitted with 2790 subjects, p: 4.18, q: 2.42, v: 149.88>"
      ]
     },
     "execution_count": 198,
     "metadata": {},
     "output_type": "execute_result"
    }
   ],
   "source": [
    "from lifetimes import GammaGammaFitter\n",
    "\n",
    "ggf = GammaGammaFitter(penalizer_coef = 1e-06)\n",
    "ggf.fit(returning_customers['frequency'],\n",
    "        returning_customers['monetary_value'],\n",
    "        weights = None,   \n",
    "        # verbose = True,  \n",
    "        tol = 1e-06,  \n",
    "        q_constraint = True\n",
    "        )"
   ]
  },
  {
   "cell_type": "code",
   "execution_count": 199,
   "metadata": {},
   "outputs": [
    {
     "data": {
      "text/html": [
       "<div>\n",
       "<style scoped>\n",
       "    .dataframe tbody tr th:only-of-type {\n",
       "        vertical-align: middle;\n",
       "    }\n",
       "\n",
       "    .dataframe tbody tr th {\n",
       "        vertical-align: top;\n",
       "    }\n",
       "\n",
       "    .dataframe thead th {\n",
       "        text-align: right;\n",
       "    }\n",
       "</style>\n",
       "<table border=\"1\" class=\"dataframe\">\n",
       "  <thead>\n",
       "    <tr style=\"text-align: right;\">\n",
       "      <th></th>\n",
       "      <th>coef</th>\n",
       "      <th>se(coef)</th>\n",
       "      <th>lower 95% bound</th>\n",
       "      <th>upper 95% bound</th>\n",
       "    </tr>\n",
       "  </thead>\n",
       "  <tbody>\n",
       "    <tr>\n",
       "      <th>p</th>\n",
       "      <td>4.18</td>\n",
       "      <td>0.19</td>\n",
       "      <td>3.81</td>\n",
       "      <td>4.54</td>\n",
       "    </tr>\n",
       "    <tr>\n",
       "      <th>q</th>\n",
       "      <td>2.42</td>\n",
       "      <td>0.07</td>\n",
       "      <td>2.28</td>\n",
       "      <td>2.55</td>\n",
       "    </tr>\n",
       "    <tr>\n",
       "      <th>v</th>\n",
       "      <td>149.88</td>\n",
       "      <td>8.30</td>\n",
       "      <td>133.60</td>\n",
       "      <td>166.15</td>\n",
       "    </tr>\n",
       "  </tbody>\n",
       "</table>\n",
       "</div>"
      ],
      "text/plain": [
       "    coef  se(coef)  lower 95% bound  upper 95% bound\n",
       "p   4.18      0.19             3.81             4.54\n",
       "q   2.42      0.07             2.28             2.55\n",
       "v 149.88      8.30           133.60           166.15"
      ]
     },
     "execution_count": 199,
     "metadata": {},
     "output_type": "execute_result"
    }
   ],
   "source": [
    "ggf.summary"
   ]
  },
  {
   "cell_type": "markdown",
   "metadata": {},
   "source": [
    "- Lifetimes’ function `conditional_expected_average_profit` to compute every customer’s expected monetary value\n",
    "- Our source dataset does not offer profit margins, therefore the function, despite its name, returns the expected average revenues or average order value (aov)"
   ]
  },
  {
   "cell_type": "code",
   "execution_count": 200,
   "metadata": {},
   "outputs": [],
   "source": [
    "# predicted average order value (aov) for each customer. \n",
    "predicted_monetary = ggf.conditional_expected_average_profit(\n",
    "        returning_customers['frequency'],\n",
    "        returning_customers['monetary_value']\n",
    ")\n",
    "aov_df = pd.DataFrame(predicted_monetary, columns = ['aov'])\n",
    "aov_df = aov_df.sort_values(by='aov', ascending=False)"
   ]
  },
  {
   "cell_type": "code",
   "execution_count": 201,
   "metadata": {},
   "outputs": [
    {
     "name": "stdout",
     "output_type": "stream",
     "text": [
      "MAPE of predicted revenues: 1.41\n"
     ]
    }
   ],
   "source": [
    "print(f\"MAPE of predicted revenues: {mean_absolute_percentage_error(returning_customers['monetary_value'], aov_df):.2f}\")"
   ]
  },
  {
   "cell_type": "code",
   "execution_count": 73,
   "metadata": {},
   "outputs": [
    {
     "data": {
      "text/html": [
       "<div>\n",
       "<style scoped>\n",
       "    .dataframe tbody tr th:only-of-type {\n",
       "        vertical-align: middle;\n",
       "    }\n",
       "\n",
       "    .dataframe tbody tr th {\n",
       "        vertical-align: top;\n",
       "    }\n",
       "\n",
       "    .dataframe thead th {\n",
       "        text-align: right;\n",
       "    }\n",
       "</style>\n",
       "<table border=\"1\" class=\"dataframe\">\n",
       "  <thead>\n",
       "    <tr style=\"text-align: right;\">\n",
       "      <th></th>\n",
       "      <th>aov</th>\n",
       "    </tr>\n",
       "    <tr>\n",
       "      <th>customer_id</th>\n",
       "      <th></th>\n",
       "    </tr>\n",
       "  </thead>\n",
       "  <tbody>\n",
       "    <tr>\n",
       "      <th>16446</th>\n",
       "      <td>78051.285456</td>\n",
       "    </tr>\n",
       "    <tr>\n",
       "      <th>15749</th>\n",
       "      <td>10173.137080</td>\n",
       "    </tr>\n",
       "    <tr>\n",
       "      <th>18102</th>\n",
       "      <td>8951.861919</td>\n",
       "    </tr>\n",
       "    <tr>\n",
       "      <th>12415</th>\n",
       "      <td>7323.918818</td>\n",
       "    </tr>\n",
       "    <tr>\n",
       "      <th>17450</th>\n",
       "      <td>7105.093878</td>\n",
       "    </tr>\n",
       "  </tbody>\n",
       "</table>\n",
       "</div>"
      ],
      "text/plain": [
       "                      aov\n",
       "customer_id              \n",
       "16446        78051.285456\n",
       "15749        10173.137080\n",
       "18102         8951.861919\n",
       "12415         7323.918818\n",
       "17450         7105.093878"
      ]
     },
     "execution_count": 73,
     "metadata": {},
     "output_type": "execute_result"
    }
   ],
   "source": [
    "aov_df.head()"
   ]
  },
  {
   "cell_type": "markdown",
   "metadata": {},
   "source": [
    "- Average Order Value (AOV) plot: Most of our customers are going to spend only a modest amount, but there’s a long-tail of higher value customers and a little group of really big spenders on the far right."
   ]
  },
  {
   "cell_type": "code",
   "execution_count": 204,
   "metadata": {},
   "outputs": [
    {
     "data": {
      "image/png": "[encoded data removed]",
      "text/plain": [
       "<Figure size 640x480 with 1 Axes>"
      ]
     },
     "metadata": {},
     "output_type": "display_data"
    }
   ],
   "source": [
    "ax = sns.histplot(aov_df['aov'], kde=True).set_xlim(0, 2500);"
   ]
  },
  {
   "cell_type": "markdown",
   "metadata": {},
   "source": [
    "### Segment customers by their Average Order Value (AOV)"
   ]
  },
  {
   "cell_type": "markdown",
   "metadata": {},
   "source": [
    "#### Method 1: Quantile-based discretization or Binning\n",
    "- Bin 1 contains the low CLV customers who have an average value of £220.87, the averages go up in each bin, \n",
    "- Bin 5 has the highest CLV customers with an average value of £995.95. \n",
    "    - However, there’s quite a spread at Bin 5, where it includes customers from £480.89 to £78051.28\n",
    "- This is a long-tail distribution &#8594; K-mean clustering"
   ]
  },
  {
   "cell_type": "code",
   "execution_count": 76,
   "metadata": {},
   "outputs": [],
   "source": [
    "aov_df['aov_bin'] = pd.qcut(aov_df['aov'], q=5, labels=[1, 2, 3, 4, 5])\n",
    "aov_df = aov_df.reset_index()"
   ]
  },
  {
   "cell_type": "code",
   "execution_count": 80,
   "metadata": {},
   "outputs": [
    {
     "data": {
      "text/html": [
       "<div>\n",
       "<style scoped>\n",
       "    .dataframe tbody tr th:only-of-type {\n",
       "        vertical-align: middle;\n",
       "    }\n",
       "\n",
       "    .dataframe tbody tr th {\n",
       "        vertical-align: top;\n",
       "    }\n",
       "\n",
       "    .dataframe thead th {\n",
       "        text-align: right;\n",
       "    }\n",
       "</style>\n",
       "<table border=\"1\" class=\"dataframe\">\n",
       "  <thead>\n",
       "    <tr style=\"text-align: right;\">\n",
       "      <th></th>\n",
       "      <th>count</th>\n",
       "      <th>min_aov</th>\n",
       "      <th>max_aov</th>\n",
       "      <th>std_aov</th>\n",
       "      <th>mean_aov</th>\n",
       "    </tr>\n",
       "    <tr>\n",
       "      <th>aov_bin</th>\n",
       "      <th></th>\n",
       "      <th></th>\n",
       "      <th></th>\n",
       "      <th></th>\n",
       "      <th></th>\n",
       "    </tr>\n",
       "  </thead>\n",
       "  <tbody>\n",
       "    <tr>\n",
       "      <th>1</th>\n",
       "      <td>558</td>\n",
       "      <td>47.048956</td>\n",
       "      <td>262.414928</td>\n",
       "      <td>33.087555</td>\n",
       "      <td>220.876536</td>\n",
       "    </tr>\n",
       "    <tr>\n",
       "      <th>2</th>\n",
       "      <td>558</td>\n",
       "      <td>262.728865</td>\n",
       "      <td>315.218776</td>\n",
       "      <td>14.721693</td>\n",
       "      <td>288.545256</td>\n",
       "    </tr>\n",
       "    <tr>\n",
       "      <th>3</th>\n",
       "      <td>558</td>\n",
       "      <td>315.231126</td>\n",
       "      <td>378.261066</td>\n",
       "      <td>18.114800</td>\n",
       "      <td>346.538339</td>\n",
       "    </tr>\n",
       "    <tr>\n",
       "      <th>4</th>\n",
       "      <td>558</td>\n",
       "      <td>378.441724</td>\n",
       "      <td>480.345312</td>\n",
       "      <td>29.050575</td>\n",
       "      <td>420.939367</td>\n",
       "    </tr>\n",
       "    <tr>\n",
       "      <th>5</th>\n",
       "      <td>558</td>\n",
       "      <td>480.893801</td>\n",
       "      <td>78051.285456</td>\n",
       "      <td>3374.574619</td>\n",
       "      <td>995.951175</td>\n",
       "    </tr>\n",
       "  </tbody>\n",
       "</table>\n",
       "</div>"
      ],
      "text/plain": [
       "         count     min_aov       max_aov      std_aov    mean_aov\n",
       "aov_bin                                                          \n",
       "1          558   47.048956    262.414928    33.087555  220.876536\n",
       "2          558  262.728865    315.218776    14.721693  288.545256\n",
       "3          558  315.231126    378.261066    18.114800  346.538339\n",
       "4          558  378.441724    480.345312    29.050575  420.939367\n",
       "5          558  480.893801  78051.285456  3374.574619  995.951175"
      ]
     },
     "execution_count": 80,
     "metadata": {},
     "output_type": "execute_result"
    }
   ],
   "source": [
    "aov_df.groupby('aov_bin').agg(\n",
    "    count=('customer_id', 'count'),\n",
    "    min_aov=('aov', min),\n",
    "    max_aov=('aov', max),\n",
    "    std_aov=('aov', 'std'),    \n",
    "    mean_aov=('aov', 'mean')\n",
    ").sort_values(by='mean_aov')"
   ]
  },
  {
   "cell_type": "markdown",
   "metadata": {},
   "source": [
    "#### Method 2: K-means Clustering\n",
    "- Note: cluster numbers aren’t sorted in order, you can clearly see the differences in AOV across the five clusters. \n",
    "- Cluster 4 contains low spenders, averaging ~£329.96 per order, while clusters 1 and 2 include some very big spenders."
   ]
  },
  {
   "cell_type": "code",
   "execution_count": 84,
   "metadata": {},
   "outputs": [
    {
     "data": {
      "text/html": [
       "<div>\n",
       "<style scoped>\n",
       "    .dataframe tbody tr th:only-of-type {\n",
       "        vertical-align: middle;\n",
       "    }\n",
       "\n",
       "    .dataframe tbody tr th {\n",
       "        vertical-align: top;\n",
       "    }\n",
       "\n",
       "    .dataframe thead th {\n",
       "        text-align: right;\n",
       "    }\n",
       "</style>\n",
       "<table border=\"1\" class=\"dataframe\">\n",
       "  <thead>\n",
       "    <tr style=\"text-align: right;\">\n",
       "      <th></th>\n",
       "      <th>aov</th>\n",
       "    </tr>\n",
       "    <tr>\n",
       "      <th>cluster</th>\n",
       "      <th></th>\n",
       "    </tr>\n",
       "  </thead>\n",
       "  <tbody>\n",
       "    <tr>\n",
       "      <th>4</th>\n",
       "      <td>329.967945</td>\n",
       "    </tr>\n",
       "    <tr>\n",
       "      <th>0</th>\n",
       "      <td>752.552292</td>\n",
       "    </tr>\n",
       "    <tr>\n",
       "      <th>3</th>\n",
       "      <td>2340.657131</td>\n",
       "    </tr>\n",
       "    <tr>\n",
       "      <th>2</th>\n",
       "      <td>7953.457890</td>\n",
       "    </tr>\n",
       "    <tr>\n",
       "      <th>1</th>\n",
       "      <td>78051.285456</td>\n",
       "    </tr>\n",
       "  </tbody>\n",
       "</table>\n",
       "</div>"
      ],
      "text/plain": [
       "                  aov\n",
       "cluster              \n",
       "4          329.967945\n",
       "0          752.552292\n",
       "3         2340.657131\n",
       "2         7953.457890\n",
       "1        78051.285456"
      ]
     },
     "execution_count": 84,
     "metadata": {},
     "output_type": "execute_result"
    }
   ],
   "source": [
    "from sklearn.cluster import KMeans\n",
    "\n",
    "aov_clusters = aov_df[['aov']]\n",
    "kmeans = KMeans(n_clusters=5)\n",
    "kmeans.fit(aov_clusters)\n",
    "\n",
    "aov_clusters = aov_clusters.assign(cluster=kmeans.labels_)\n",
    "unsorted_aov = aov_clusters.groupby('cluster')['aov'].mean().sort_values(ascending=True).to_frame()\n",
    "unsorted_aov"
   ]
  },
  {
   "cell_type": "code",
   "execution_count": null,
   "metadata": {},
   "outputs": [],
   "source": [
    "# plt.figure(figsize=(8,8))\n",
    "# sns.scatterplot(data = aov_clusters, x='frequency', y='monetary', hue='clusters')"
   ]
  },
  {
   "cell_type": "markdown",
   "metadata": {},
   "source": [
    "## Customer Lifetime Value\n",
    "-  A **customer’s “lifetime”** denotes the time from her first transaction to her unknown future churn date, when she will turn away from our business. \n",
    "    - For practical purposes, the “lifetime” horizon should be limited to a user-defined time period, for instance the next 12 months\n",
    "- BG/NBD model to predict the number of orders \n",
    "- Gamma-Gamma model to predict their values using the Gamma-Gamma model’s `customer_lifetime_value()` function which requires\n",
    "    - `bgf` model\n",
    "    - the recency, frequency, monetary_value, and T data for each customers. \n",
    "    - The `time` parameter is in **months** and defines how many months into the future we wish to predict.\n",
    "    - `discount_rate` relates to discounted cash flow (DCF), which is a financial measure for adjusting the cost of capital. This is a monthly adjusted discount rate and uses a default value of 0.01 in this package. "
   ]
  },
  {
   "cell_type": "code",
   "execution_count": 87,
   "metadata": {},
   "outputs": [
    {
     "data": {
      "text/plain": [
       "<lifetimes.BetaGeoFitter: fitted with 2790 subjects, a: 0.01, alpha: 108.89, b: 0.16, r: 1.94>"
      ]
     },
     "execution_count": 87,
     "metadata": {},
     "output_type": "execute_result"
    }
   ],
   "source": [
    "# re-fit the BetaGeoFitter BG/NBD model to our dataset for the returning customers\n",
    "bgf.fit(returning_customers['frequency'], \n",
    "        returning_customers['recency'], \n",
    "        returning_customers['T'])"
   ]
  },
  {
   "cell_type": "markdown",
   "metadata": {},
   "source": [
    "- Lifetimes’ `customer_lifetime_value` function will add up the predicted revenues over the chosen horizon of 12 months.\n",
    "- The customer lifetime value is the outcome of a discounted cash flow (DCF) calculation. \n",
    "    - The time-value-of-money concept: \n",
    "        - A sum of money is worth more in the near future than in the far future.\n",
    "        - A customer whose proceeds flow to the business now is more valuable than a customer who will contribute revenues in the more remote future. \n",
    "        - The time value of money is expressed by the **discount rate**.    \n",
    "- The discount should reflect our company’s cost of capital: a weighted average of\n",
    "    - the **interest rate** the company owes on its loans and\n",
    "    - The **return on equity** (dividend rate) the company’s shareholders expect to receive.\n",
    "- In this example, I set a low annual rate of 6% in line 2. \n",
    "    - Note: Lifetimes actually expects a **monthly adjusted discount** rate. Line 5 translates the annual rate to a monthly rate.\n"
   ]
  },
  {
   "cell_type": "code",
   "execution_count": 205,
   "metadata": {},
   "outputs": [],
   "source": [
    "# compute customer lifetime value\n",
    "DISCOUNT_a = 0.06                # annual discount rate\n",
    "LIFE = 12                        # lifetime expected for the customers in months\n",
    "\n",
    "discount_m = (1 + DISCOUNT_a)**(1/12) - 1     # monthly discount rate\n",
    "# predicts your best customers to be over the next 12 months.\n",
    "preds = ggf.customer_lifetime_value(\n",
    "    bgf,\n",
    "    returning_customers['frequency'],\n",
    "    returning_customers['recency'],\n",
    "    returning_customers['T'],\n",
    "    returning_customers['monetary_value'],\n",
    "    time = LIFE,\n",
    "    discount_rate = discount_m\n",
    ")\n",
    "\n",
    "preds = preds.to_frame().reset_index()"
   ]
  },
  {
   "cell_type": "code",
   "execution_count": 209,
   "metadata": {},
   "outputs": [
    {
     "data": {
      "text/html": [
       "<div>\n",
       "<style scoped>\n",
       "    .dataframe tbody tr th:only-of-type {\n",
       "        vertical-align: middle;\n",
       "    }\n",
       "\n",
       "    .dataframe tbody tr th {\n",
       "        vertical-align: top;\n",
       "    }\n",
       "\n",
       "    .dataframe thead th {\n",
       "        text-align: right;\n",
       "    }\n",
       "</style>\n",
       "<table border=\"1\" class=\"dataframe\">\n",
       "  <thead>\n",
       "    <tr style=\"text-align: right;\">\n",
       "      <th></th>\n",
       "      <th>customer_id</th>\n",
       "      <th>clv</th>\n",
       "    </tr>\n",
       "  </thead>\n",
       "  <tbody>\n",
       "    <tr>\n",
       "      <th>1938</th>\n",
       "      <td>16446</td>\n",
       "      <td>292,616.54</td>\n",
       "    </tr>\n",
       "    <tr>\n",
       "      <th>1111</th>\n",
       "      <td>14646</td>\n",
       "      <td>233,600.68</td>\n",
       "    </tr>\n",
       "    <tr>\n",
       "      <th>2706</th>\n",
       "      <td>18102</td>\n",
       "      <td>190,660.08</td>\n",
       "    </tr>\n",
       "    <tr>\n",
       "      <th>2413</th>\n",
       "      <td>17450</td>\n",
       "      <td>156,943.37</td>\n",
       "    </tr>\n",
       "    <tr>\n",
       "      <th>834</th>\n",
       "      <td>14096</td>\n",
       "      <td>137,877.76</td>\n",
       "    </tr>\n",
       "  </tbody>\n",
       "</table>\n",
       "</div>"
      ],
      "text/plain": [
       "      customer_id        clv\n",
       "1938        16446 292,616.54\n",
       "1111        14646 233,600.68\n",
       "2706        18102 190,660.08\n",
       "2413        17450 156,943.37\n",
       "834         14096 137,877.76"
      ]
     },
     "execution_count": 209,
     "metadata": {},
     "output_type": "execute_result"
    }
   ],
   "source": [
    "preds.sort_values(by='clv', ascending=False).head(5)"
   ]
  },
  {
   "cell_type": "markdown",
   "metadata": {},
   "source": [
    "- Top 5 customers, with lifetime values above £ 100,000 — obviously wholesalers; or extremely dedicated private consumers with a concerning addiction to souvenirs and gifts.\n",
    "- The mean CLV across all customers amounts to £ 2,847."
   ]
  },
  {
   "cell_type": "code",
   "execution_count": 208,
   "metadata": {},
   "outputs": [
    {
     "data": {
      "text/plain": [
       "count     2,790.00\n",
       "mean      2,847.31\n",
       "std      10,288.07\n",
       "min         156.69\n",
       "25%         757.69\n",
       "50%       1,359.00\n",
       "75%       2,543.87\n",
       "max     292,616.54\n",
       "Name: clv, dtype: float64"
      ]
     },
     "execution_count": 208,
     "metadata": {},
     "output_type": "execute_result"
    }
   ],
   "source": [
    "preds['clv'].describe()"
   ]
  },
  {
   "cell_type": "markdown",
   "metadata": {},
   "source": [
    "## Conclusion\n",
    "- Most classification tools we typically use for customer churn problems do not cope well with non-contractual settings. The churn dates in a non-contractual business environment are not transparent.\n",
    "- The BG/NBD model applies distributional assumptions to the observational data. It enables us to estimate churn risks and future purchases, based on a customer’s profile defined by her recency, frequency, and longevity. In a second step, the count data of the BG/NBD model can be linked up to a Gamma-Gamma model that estimates monetary values."
   ]
  },
  {
   "cell_type": "code",
   "execution_count": null,
   "metadata": {},
   "outputs": [],
   "source": []
  },
  {
   "cell_type": "code",
   "execution_count": null,
   "metadata": {},
   "outputs": [],
   "source": []
  }
 ],
 "metadata": {
  "kernelspec": {
   "display_name": "ml_env",
   "language": "python",
   "name": "python3"
  },
  "language_info": {
   "codemirror_mode": {
    "name": "ipython",
    "version": 3
   },
   "file_extension": ".py",
   "mimetype": "text/x-python",
   "name": "python",
   "nbconvert_exporter": "python",
   "pygments_lexer": "ipython3",
   "version": "3.11.6"
  }
 },
 "nbformat": 4,
 "nbformat_minor": 2
}
