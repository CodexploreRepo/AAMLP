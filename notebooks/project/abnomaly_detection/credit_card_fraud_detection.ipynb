{
 "cells": [
  {
   "cell_type": "markdown",
   "metadata": {},
   "source": [
    "# Credit Card Fraud Detection System"
   ]
  },
  {
   "cell_type": "markdown",
   "metadata": {},
   "source": [
    "## Introduction\n",
    "\n",
    "### Challenges\n",
    "- Class Imbalance: very few transactions are fraudulent (less than 1%)\n",
    "\n",
    "### Metrics\n",
    "- The model produces a score in the 0-100 range for each charge\n",
    "- Threshold Selection: need to choose the threshold \n",
    "    - to maximize the Recall (i.e. can detect as much fraud cases)\n",
    "    - to minimize the False Positive Rate (not stopping so much good transactions)\n",
    "- Threshold: block the transaction if the score >=30 (i.e: fraud)\n",
    "\n",
    "| Trans ID | Score  | Model Prediction   | True Label  | \n",
    "|----------|--------|--------------------|-------------|\n",
    "|     1    |   5    | Not fraud          | Not fraud   | \n",
    "|     2    |   10   | Not fraud          | Not fraud   | \n",
    "|     3    |   15   | Not fraud          | Not fraud   | \n",
    "|     4    |   30   | Fraud              | Not fraud   | \n",
    "|     5    |   40   | Fraud              | Fraud       | \n",
    "|     6    |   90   | Fraud              | Fraud       |  \n",
    "\n",
    "- **Precision**: 2 / 3 = 0.67 (out of all 3 positive predictions, 2 are correctly predicted)\n",
    "- **Recall**:    2 / 2 = 1.0 (out of 2 positive cases, 2 are correctly predicted)\n",
    "- **False Positive Rate**:  1 / 4 = 0.25 (out of 4 non-positive, there is 1 case are falsely predicted as positive)"
   ]
  },
  {
   "cell_type": "code",
   "execution_count": null,
   "metadata": {},
   "outputs": [],
   "source": []
  }
 ],
 "metadata": {
  "language_info": {
   "name": "python"
  }
 },
 "nbformat": 4,
 "nbformat_minor": 2
}
