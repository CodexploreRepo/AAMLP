{
 "cells": [
  {
   "cell_type": "markdown",
   "metadata": {},
   "source": [
    "# EDA"
   ]
  },
  {
   "cell_type": "code",
   "execution_count": 7,
   "metadata": {},
   "outputs": [],
   "source": [
    "import pandas as pd\n",
    "import numpy as np\n",
    "import matplotlib.pyplot as plt\n",
    "\n",
    "import warnings\n",
    "warnings.filterwarnings('ignore')\n",
    "\n",
    "plt.style.use('ggplot')"
   ]
  },
  {
   "cell_type": "markdown",
   "metadata": {},
   "source": [
    "## Estimates of Location"
   ]
  },
  {
   "cell_type": "code",
   "execution_count": 8,
   "metadata": {},
   "outputs": [
    {
     "data": {
      "text/html": [
       "<div>\n",
       "<style scoped>\n",
       "    .dataframe tbody tr th:only-of-type {\n",
       "        vertical-align: middle;\n",
       "    }\n",
       "\n",
       "    .dataframe tbody tr th {\n",
       "        vertical-align: top;\n",
       "    }\n",
       "\n",
       "    .dataframe thead th {\n",
       "        text-align: right;\n",
       "    }\n",
       "</style>\n",
       "<table border=\"1\" class=\"dataframe\">\n",
       "  <thead>\n",
       "    <tr style=\"text-align: right;\">\n",
       "      <th></th>\n",
       "      <th>State</th>\n",
       "      <th>Population</th>\n",
       "      <th>Murder.Rate</th>\n",
       "      <th>Abbreviation</th>\n",
       "    </tr>\n",
       "  </thead>\n",
       "  <tbody>\n",
       "    <tr>\n",
       "      <th>0</th>\n",
       "      <td>Alabama</td>\n",
       "      <td>4779736</td>\n",
       "      <td>5.7</td>\n",
       "      <td>AL</td>\n",
       "    </tr>\n",
       "    <tr>\n",
       "      <th>1</th>\n",
       "      <td>Alaska</td>\n",
       "      <td>710231</td>\n",
       "      <td>5.6</td>\n",
       "      <td>AK</td>\n",
       "    </tr>\n",
       "    <tr>\n",
       "      <th>2</th>\n",
       "      <td>Arizona</td>\n",
       "      <td>6392017</td>\n",
       "      <td>4.7</td>\n",
       "      <td>AZ</td>\n",
       "    </tr>\n",
       "    <tr>\n",
       "      <th>3</th>\n",
       "      <td>Arkansas</td>\n",
       "      <td>2915918</td>\n",
       "      <td>5.6</td>\n",
       "      <td>AR</td>\n",
       "    </tr>\n",
       "    <tr>\n",
       "      <th>4</th>\n",
       "      <td>California</td>\n",
       "      <td>37253956</td>\n",
       "      <td>4.4</td>\n",
       "      <td>CA</td>\n",
       "    </tr>\n",
       "  </tbody>\n",
       "</table>\n",
       "</div>"
      ],
      "text/plain": [
       "        State  Population  Murder.Rate Abbreviation\n",
       "0     Alabama     4779736          5.7           AL\n",
       "1      Alaska      710231          5.6           AK\n",
       "2     Arizona     6392017          4.7           AZ\n",
       "3    Arkansas     2915918          5.6           AR\n",
       "4  California    37253956          4.4           CA"
      ]
     },
     "execution_count": 8,
     "metadata": {},
     "output_type": "execute_result"
    }
   ],
   "source": [
    "state = pd.read_csv('../../data/common_datasets/state.csv')\n",
    "state.head()"
   ]
  },
  {
   "cell_type": "markdown",
   "metadata": {},
   "source": [
    "### Mean & Median\n",
    "- The median is referred to as a **robust estimate of location** since it is not influenced by outliers (extreme cases) that could skew the results \n",
    "- When outliers are the result of bad data, the mean will result in a poor estimate of location, while the median will still be valid."
   ]
  },
  {
   "cell_type": "code",
   "execution_count": 9,
   "metadata": {},
   "outputs": [
    {
     "name": "stdout",
     "output_type": "stream",
     "text": [
      "Mean Population  : 6162876.3\n",
      "Median Population: 4436369.5\n"
     ]
    }
   ],
   "source": [
    "print(f\"Mean Population  : {state['Population'].mean():}\")\n",
    "print(f\"Median Population: {state['Population'].median()}\")\n"
   ]
  },
  {
   "cell_type": "markdown",
   "metadata": {},
   "source": [
    "### Weighted Mean\n",
    "- If we want to compute the average murder rate for the country, we need to use a weighted mean or median to account for different populations in the states. \n",
    "- Weighted mean is available with NumPy"
   ]
  },
  {
   "cell_type": "code",
   "execution_count": 10,
   "metadata": {},
   "outputs": [
    {
     "data": {
      "text/plain": [
       "4.445833981123393"
      ]
     },
     "execution_count": 10,
     "metadata": {},
     "output_type": "execute_result"
    }
   ],
   "source": [
    "np.average(state['Murder.Rate'], weights=state['Population'])"
   ]
  },
  {
   "cell_type": "markdown",
   "metadata": {},
   "source": [
    "## Exploring the Data Distribution\n"
   ]
  },
  {
   "cell_type": "markdown",
   "metadata": {},
   "source": [
    "### Percentiles and Boxplots"
   ]
  },
  {
   "cell_type": "code",
   "execution_count": 11,
   "metadata": {},
   "outputs": [
    {
     "data": {
      "text/plain": [
       "0.05    1.600\n",
       "0.25    2.425\n",
       "0.50    4.000\n",
       "0.75    5.550\n",
       "0.95    6.510\n",
       "Name: Murder.Rate, dtype: float64"
      ]
     },
     "execution_count": 11,
     "metadata": {},
     "output_type": "execute_result"
    }
   ],
   "source": [
    "state['Murder.Rate'].quantile([0.05, 0.25, 0.5, 0.75, 0.95])"
   ]
  },
  {
   "cell_type": "code",
   "execution_count": 12,
   "metadata": {},
   "outputs": [
    {
     "data": {
      "text/plain": [
       "4.0"
      ]
     },
     "execution_count": 12,
     "metadata": {},
     "output_type": "execute_result"
    }
   ],
   "source": [
    "state['Murder.Rate'].median() # 50 percentile is also a median"
   ]
  },
  {
   "cell_type": "markdown",
   "metadata": {},
   "source": [
    "#### Boxplot\n",
    "- **pandas** provides a number of basic exploratory plots for data frame"
   ]
  },
  {
   "cell_type": "code",
   "execution_count": 13,
   "metadata": {},
   "outputs": [
    {
     "data": {
      "image/png": "[encoded data removed]",
      "text/plain": [
       "<Figure size 400x600 with 1 Axes>"
      ]
     },
     "metadata": {},
     "output_type": "display_data"
    }
   ],
   "source": [
    "ax = (state['Population'] / 1_000_000).plot.box(figsize=(4,6))\n",
    "ax.set_ylabel('Population (millions)')\n",
    "plt.show()"
   ]
  },
  {
   "cell_type": "markdown",
   "metadata": {},
   "source": [
    "- The top and bottom of the box are the 75th and 25th percentiles\n",
    "- The median is shown by the horizontal line in the box.\n",
    "- The dashed lines, referred to as **whiskers**, extend from the top and bottom of the box to indicate the range for the bulk of the data\n",
    "- Any data outside of the whiskers is plotted as single points or circles (often considered outliers)."
   ]
  },
  {
   "cell_type": "markdown",
   "metadata": {},
   "source": [
    "### Frequency Tables and Histograms"
   ]
  },
  {
   "cell_type": "code",
   "execution_count": 14,
   "metadata": {},
   "outputs": [],
   "source": [
    "binnedPopulation = pd.cut(state['Population'] / 1_000_000, 10)\n",
    "binnedPopulation.name = 'binnedPopulation'\n",
    "\n",
    "bin_count = binnedPopulation.value_counts().sort_index()"
   ]
  },
  {
   "cell_type": "code",
   "execution_count": 15,
   "metadata": {},
   "outputs": [],
   "source": [
    "df = pd.concat([state['Abbreviation'], binnedPopulation], axis=1)\n",
    "bin_state = df.groupby('binnedPopulation')['Abbreviation'].apply(list)\n",
    "bin_state.name = 'States'"
   ]
  },
  {
   "cell_type": "code",
   "execution_count": 16,
   "metadata": {},
   "outputs": [
    {
     "data": {
      "text/html": [
       "<div>\n",
       "<style scoped>\n",
       "    .dataframe tbody tr th:only-of-type {\n",
       "        vertical-align: middle;\n",
       "    }\n",
       "\n",
       "    .dataframe tbody tr th {\n",
       "        vertical-align: top;\n",
       "    }\n",
       "\n",
       "    .dataframe thead th {\n",
       "        text-align: right;\n",
       "    }\n",
       "</style>\n",
       "<table border=\"1\" class=\"dataframe\">\n",
       "  <thead>\n",
       "    <tr style=\"text-align: right;\">\n",
       "      <th></th>\n",
       "      <th>count</th>\n",
       "      <th>States</th>\n",
       "    </tr>\n",
       "    <tr>\n",
       "      <th>binnedPopulation</th>\n",
       "      <th></th>\n",
       "      <th></th>\n",
       "    </tr>\n",
       "  </thead>\n",
       "  <tbody>\n",
       "    <tr>\n",
       "      <th>(0.527, 4.233]</th>\n",
       "      <td>24</td>\n",
       "      <td>[AK, AR, CT, DE, HI, ID, IA, KS, ME, MS, MT, N...</td>\n",
       "    </tr>\n",
       "    <tr>\n",
       "      <th>(4.233, 7.902]</th>\n",
       "      <td>14</td>\n",
       "      <td>[AL, AZ, CO, IN, KY, LA, MD, MA, MN, MO, SC, T...</td>\n",
       "    </tr>\n",
       "    <tr>\n",
       "      <th>(7.902, 11.571]</th>\n",
       "      <td>6</td>\n",
       "      <td>[GA, MI, NJ, NC, OH, VA]</td>\n",
       "    </tr>\n",
       "    <tr>\n",
       "      <th>(11.571, 15.24]</th>\n",
       "      <td>2</td>\n",
       "      <td>[IL, PA]</td>\n",
       "    </tr>\n",
       "    <tr>\n",
       "      <th>(15.24, 18.909]</th>\n",
       "      <td>1</td>\n",
       "      <td>[FL]</td>\n",
       "    </tr>\n",
       "    <tr>\n",
       "      <th>(18.909, 22.578]</th>\n",
       "      <td>1</td>\n",
       "      <td>[NY]</td>\n",
       "    </tr>\n",
       "    <tr>\n",
       "      <th>(22.578, 26.247]</th>\n",
       "      <td>1</td>\n",
       "      <td>[TX]</td>\n",
       "    </tr>\n",
       "    <tr>\n",
       "      <th>(26.247, 29.916]</th>\n",
       "      <td>0</td>\n",
       "      <td>[]</td>\n",
       "    </tr>\n",
       "    <tr>\n",
       "      <th>(29.916, 33.585]</th>\n",
       "      <td>0</td>\n",
       "      <td>[]</td>\n",
       "    </tr>\n",
       "    <tr>\n",
       "      <th>(33.585, 37.254]</th>\n",
       "      <td>1</td>\n",
       "      <td>[CA]</td>\n",
       "    </tr>\n",
       "  </tbody>\n",
       "</table>\n",
       "</div>"
      ],
      "text/plain": [
       "                  count                                             States\n",
       "binnedPopulation                                                          \n",
       "(0.527, 4.233]       24  [AK, AR, CT, DE, HI, ID, IA, KS, ME, MS, MT, N...\n",
       "(4.233, 7.902]       14  [AL, AZ, CO, IN, KY, LA, MD, MA, MN, MO, SC, T...\n",
       "(7.902, 11.571]       6                           [GA, MI, NJ, NC, OH, VA]\n",
       "(11.571, 15.24]       2                                           [IL, PA]\n",
       "(15.24, 18.909]       1                                               [FL]\n",
       "(18.909, 22.578]      1                                               [NY]\n",
       "(22.578, 26.247]      1                                               [TX]\n",
       "(26.247, 29.916]      0                                                 []\n",
       "(29.916, 33.585]      0                                                 []\n",
       "(33.585, 37.254]      1                                               [CA]"
      ]
     },
     "execution_count": 16,
     "metadata": {},
     "output_type": "execute_result"
    }
   ],
   "source": [
    "freq_table = pd.concat([bin_count, bin_state], axis=1)\n",
    "freq_table"
   ]
  },
  {
   "cell_type": "code",
   "execution_count": 17,
   "metadata": {},
   "outputs": [
    {
     "data": {
      "image/png": "[encoded data removed]",
      "text/plain": [
       "<Figure size 400x400 with 1 Axes>"
      ]
     },
     "metadata": {},
     "output_type": "display_data"
    }
   ],
   "source": [
    "ax = (state['Population'] / 1_000_000).plot.hist(figsize=(4, 4))\n",
    "ax.set_xlabel('Population (millions)')\n",
    "plt.show()"
   ]
  },
  {
   "cell_type": "markdown",
   "metadata": {},
   "source": [
    "### Density Plots and Estimates\n",
    "- A **density plot** can be thought of as a *smoothed* histogram, although it is typically computed directly from the data through a *kernel density estimate*"
   ]
  },
  {
   "cell_type": "code",
   "execution_count": 26,
   "metadata": {},
   "outputs": [
    {
     "data": {
      "image/png": "[encoded data removed]",
      "text/plain": [
       "<Figure size 640x480 with 1 Axes>"
      ]
     },
     "metadata": {},
     "output_type": "display_data"
    }
   ],
   "source": [
    "ax = state['Murder.Rate'].plot.hist(density=True,     # y-axis as density instead of count\n",
    "                                    xlim=[0,12],   \n",
    "                                    bins=range(1,12)) # set bin range from 1 to 12\n",
    "state['Murder.Rate'].plot.density(ax=ax)\n",
    "ax.set_xlabel('Murder Rate (per 100,000)')\n",
    "plt.show()"
   ]
  },
  {
   "cell_type": "markdown",
   "metadata": {},
   "source": [
    "## Exploring Binary and Categorical Data\n",
    "- For categorical data, simple proportions or percentages tell the story of the data.\n",
    "\n",
    "### Bar Chart (Histogram of Cat Data)\n",
    "- A bar chart resembles a histogram; in a bar chart the x-axis represents different categories of a factor variable, while in a histogram the x-axis represents values of a single variable on a numeric scale.\n",
    "- Getting a summary of a binary variable or a categorical variable with a few categories is a fairly easy matter: we just figure out the proportion of 1s, or the proportions of the important categories.\n",
    "\n",
    "### Mode\n",
    "- The mode is the value—or values in case of a tie—that appears most often in the data. \n",
    "- The mode is a simple summary statistic for categorical data, and it is generally not used for numeric data.\n",
    "- For example: in most parts of the United States, the mode for religious preference would be Christian\n",
    "\n",
    "### Expected Value\n",
    "- The expected value is calculated as follows:\n",
    "  - Multiply each outcome by its probability of occurrence.\n",
    "  - Sum these values.\n",
    "- Expected value is a fundamental concept in business valuation and capital budgeting\n",
    "- For example: the marketer firm figures that 5% of the attendees will sign up for the $300 service, 15% will sign up for the $50 service, and 80% will not sign up for anything. \n",
    "  - The expected value of a webinar attendee is thus $22.50 per month, calculated as follows:\n",
    "$$ EV = (0.05)*(300) + (0.15)*50 + (0.8)*0 = 22.5 $$\n"
   ]
  },
  {
   "cell_type": "code",
   "execution_count": 29,
   "metadata": {},
   "outputs": [],
   "source": [
    "df_cat = pd.read_csv('../../data/common_datasets/cat_train.csv')"
   ]
  },
  {
   "cell_type": "code",
   "execution_count": 39,
   "metadata": {},
   "outputs": [
    {
     "data": {
      "image/png": "[encoded data removed]",
      "text/plain": [
       "<Figure size 600x300 with 1 Axes>"
      ]
     },
     "metadata": {},
     "output_type": "display_data"
    }
   ],
   "source": [
    "df_cat['nom_0'].value_counts(normalize=True).plot.bar(figsize=(6,3)) # normalise to get the proportion of each category\n",
    "plt.tight_layout()\n",
    "\n",
    "plt.show()"
   ]
  },
  {
   "cell_type": "code",
   "execution_count": null,
   "metadata": {},
   "outputs": [],
   "source": []
  }
 ],
 "metadata": {
  "kernelspec": {
   "display_name": "venv",
   "language": "python",
   "name": "python3"
  },
  "language_info": {
   "codemirror_mode": {
    "name": "ipython",
    "version": 3
   },
   "file_extension": ".py",
   "mimetype": "text/x-python",
   "name": "python",
   "nbconvert_exporter": "python",
   "pygments_lexer": "ipython3",
   "version": "3.11.6"
  }
 },
 "nbformat": 4,
 "nbformat_minor": 2
}
